{
 "cells": [
  {
   "cell_type": "markdown",
   "id": "f72f7f1e",
   "metadata": {},
   "source": [
    "# В данной работе требуется определить малоприбыльные рейсы из Анапы в зимнее время года #"
   ]
  },
  {
   "cell_type": "markdown",
   "id": "842642ef",
   "metadata": {},
   "source": [
    "## Описание признаков\n"
   ]
  },
  {
   "cell_type": "markdown",
   "id": "2deb79e4",
   "metadata": {},
   "source": [
    "**flight_id** - идентификатор рейса  \n",
    "**flight_no**-номер рейса   \n",
    "**departure_city**-город вылета   \n",
    "**arrival_city**-город прилета   \n",
    "**actual_departure**-фактическое время вылета   \n",
    "**actual_arrival**-фактическое время прилёта   \n",
    "**flight_time**-время полета  \n",
    "**model**-модель самолета   \n",
    "**aircraft_code**-код самолета   \n",
    "**economy_seat**-количество мест в эконом-классе    \n",
    "**business_seat**-количество мест в бизнес-классе    \n",
    "**total_seat**-общее количество мест    \n",
    "**economy_sold**-количество проданных билетов в эконом-класс  \n",
    "**business_sold**-количество проданных билетов в бизнес-класс  \n",
    "**total_sold**-общее количество проданных билетов  \n",
    "**economy_amount**-выручка от продажи билетов в эконом-класс  \n",
    "**business_amount**-выручка от продажи билетов в бизнес-класс  \n",
    "**total_amount**-общая выручка от продажи билетов  "
   ]
  },
  {
   "cell_type": "code",
   "execution_count": 375,
   "id": "7007daae",
   "metadata": {},
   "outputs": [],
   "source": [
    "import pandas as pd\n",
    "from datetime import datetime\n",
    "import matplotlib as mpl\n",
    "import matplotlib.pyplot as plt\n",
    "import matplotlib.dates as mdates\n",
    "import seaborn as sns\n",
    "pd.set_option('display.max_rows', 50)  # показывать больше строк\n",
    "pd.set_option('display.max_columns', 50)\n",
    "df = pd.read_csv('query_result.csv')"
   ]
  },
  {
   "cell_type": "markdown",
   "id": "fe7d126a",
   "metadata": {},
   "source": [
    "Смотрим данные"
   ]
  },
  {
   "cell_type": "code",
   "execution_count": 376,
   "id": "770a7def",
   "metadata": {},
   "outputs": [
    {
     "data": {
      "text/html": [
       "<div>\n",
       "<style scoped>\n",
       "    .dataframe tbody tr th:only-of-type {\n",
       "        vertical-align: middle;\n",
       "    }\n",
       "\n",
       "    .dataframe tbody tr th {\n",
       "        vertical-align: top;\n",
       "    }\n",
       "\n",
       "    .dataframe thead th {\n",
       "        text-align: right;\n",
       "    }\n",
       "</style>\n",
       "<table border=\"1\" class=\"dataframe\">\n",
       "  <thead>\n",
       "    <tr style=\"text-align: right;\">\n",
       "      <th></th>\n",
       "      <th>flight_id</th>\n",
       "      <th>flight_no</th>\n",
       "      <th>departure_city</th>\n",
       "      <th>arrival_city</th>\n",
       "      <th>actual_departure</th>\n",
       "      <th>actual_arrival</th>\n",
       "      <th>flight_time</th>\n",
       "      <th>model</th>\n",
       "      <th>aircraft_code</th>\n",
       "      <th>economy_seat</th>\n",
       "      <th>business_seat</th>\n",
       "      <th>total_seat</th>\n",
       "      <th>economy_sold</th>\n",
       "      <th>business_sold</th>\n",
       "      <th>total_sold</th>\n",
       "      <th>economy_amount</th>\n",
       "      <th>business_amount</th>\n",
       "      <th>total_amount</th>\n",
       "    </tr>\n",
       "  </thead>\n",
       "  <tbody>\n",
       "    <tr>\n",
       "      <th>0</th>\n",
       "      <td>136698</td>\n",
       "      <td>PG0480</td>\n",
       "      <td>Anapa</td>\n",
       "      <td>Belgorod</td>\n",
       "      <td>2016-12-01T09:30:00Z</td>\n",
       "      <td>2016-12-01T10:19:00Z</td>\n",
       "      <td>49.0</td>\n",
       "      <td>Sukhoi Superjet-100</td>\n",
       "      <td>SU9</td>\n",
       "      <td>85</td>\n",
       "      <td>12</td>\n",
       "      <td>97</td>\n",
       "      <td>82.0</td>\n",
       "      <td>12.0</td>\n",
       "      <td>94.0</td>\n",
       "      <td>519600.0</td>\n",
       "      <td>226800.0</td>\n",
       "      <td>746400.0</td>\n",
       "    </tr>\n",
       "    <tr>\n",
       "      <th>1</th>\n",
       "      <td>136187</td>\n",
       "      <td>PG0252</td>\n",
       "      <td>Anapa</td>\n",
       "      <td>Moscow</td>\n",
       "      <td>2016-12-01T10:09:00Z</td>\n",
       "      <td>2016-12-01T11:49:00Z</td>\n",
       "      <td>100.0</td>\n",
       "      <td>Boeing 737-300</td>\n",
       "      <td>733</td>\n",
       "      <td>118</td>\n",
       "      <td>12</td>\n",
       "      <td>130</td>\n",
       "      <td>117.0</td>\n",
       "      <td>12.0</td>\n",
       "      <td>129.0</td>\n",
       "      <td>1434600.0</td>\n",
       "      <td>439200.0</td>\n",
       "      <td>1873800.0</td>\n",
       "    </tr>\n",
       "    <tr>\n",
       "      <th>2</th>\n",
       "      <td>136774</td>\n",
       "      <td>PG0480</td>\n",
       "      <td>Anapa</td>\n",
       "      <td>Belgorod</td>\n",
       "      <td>2016-12-02T09:27:00Z</td>\n",
       "      <td>2016-12-02T10:17:00Z</td>\n",
       "      <td>50.0</td>\n",
       "      <td>Sukhoi Superjet-100</td>\n",
       "      <td>SU9</td>\n",
       "      <td>85</td>\n",
       "      <td>12</td>\n",
       "      <td>97</td>\n",
       "      <td>81.0</td>\n",
       "      <td>12.0</td>\n",
       "      <td>93.0</td>\n",
       "      <td>513300.0</td>\n",
       "      <td>226800.0</td>\n",
       "      <td>740100.0</td>\n",
       "    </tr>\n",
       "    <tr>\n",
       "      <th>3</th>\n",
       "      <td>136474</td>\n",
       "      <td>PG0252</td>\n",
       "      <td>Anapa</td>\n",
       "      <td>Moscow</td>\n",
       "      <td>2016-12-02T10:06:00Z</td>\n",
       "      <td>2016-12-02T11:44:00Z</td>\n",
       "      <td>98.0</td>\n",
       "      <td>Boeing 737-300</td>\n",
       "      <td>733</td>\n",
       "      <td>118</td>\n",
       "      <td>12</td>\n",
       "      <td>130</td>\n",
       "      <td>118.0</td>\n",
       "      <td>12.0</td>\n",
       "      <td>130.0</td>\n",
       "      <td>1446800.0</td>\n",
       "      <td>439200.0</td>\n",
       "      <td>1886000.0</td>\n",
       "    </tr>\n",
       "    <tr>\n",
       "      <th>4</th>\n",
       "      <td>136873</td>\n",
       "      <td>PG0480</td>\n",
       "      <td>Anapa</td>\n",
       "      <td>Belgorod</td>\n",
       "      <td>2016-12-03T09:26:00Z</td>\n",
       "      <td>2016-12-03T10:17:00Z</td>\n",
       "      <td>51.0</td>\n",
       "      <td>Sukhoi Superjet-100</td>\n",
       "      <td>SU9</td>\n",
       "      <td>85</td>\n",
       "      <td>12</td>\n",
       "      <td>97</td>\n",
       "      <td>84.0</td>\n",
       "      <td>12.0</td>\n",
       "      <td>96.0</td>\n",
       "      <td>532200.0</td>\n",
       "      <td>226800.0</td>\n",
       "      <td>759000.0</td>\n",
       "    </tr>\n",
       "  </tbody>\n",
       "</table>\n",
       "</div>"
      ],
      "text/plain": [
       "   flight_id flight_no departure_city arrival_city      actual_departure  \\\n",
       "0     136698    PG0480          Anapa     Belgorod  2016-12-01T09:30:00Z   \n",
       "1     136187    PG0252          Anapa       Moscow  2016-12-01T10:09:00Z   \n",
       "2     136774    PG0480          Anapa     Belgorod  2016-12-02T09:27:00Z   \n",
       "3     136474    PG0252          Anapa       Moscow  2016-12-02T10:06:00Z   \n",
       "4     136873    PG0480          Anapa     Belgorod  2016-12-03T09:26:00Z   \n",
       "\n",
       "         actual_arrival  flight_time                model aircraft_code  \\\n",
       "0  2016-12-01T10:19:00Z         49.0  Sukhoi Superjet-100           SU9   \n",
       "1  2016-12-01T11:49:00Z        100.0       Boeing 737-300           733   \n",
       "2  2016-12-02T10:17:00Z         50.0  Sukhoi Superjet-100           SU9   \n",
       "3  2016-12-02T11:44:00Z         98.0       Boeing 737-300           733   \n",
       "4  2016-12-03T10:17:00Z         51.0  Sukhoi Superjet-100           SU9   \n",
       "\n",
       "   economy_seat  business_seat  total_seat  economy_sold  business_sold  \\\n",
       "0            85             12          97          82.0           12.0   \n",
       "1           118             12         130         117.0           12.0   \n",
       "2            85             12          97          81.0           12.0   \n",
       "3           118             12         130         118.0           12.0   \n",
       "4            85             12          97          84.0           12.0   \n",
       "\n",
       "   total_sold  economy_amount  business_amount  total_amount  \n",
       "0        94.0        519600.0         226800.0      746400.0  \n",
       "1       129.0       1434600.0         439200.0     1873800.0  \n",
       "2        93.0        513300.0         226800.0      740100.0  \n",
       "3       130.0       1446800.0         439200.0     1886000.0  \n",
       "4        96.0        532200.0         226800.0      759000.0  "
      ]
     },
     "execution_count": 376,
     "metadata": {},
     "output_type": "execute_result"
    }
   ],
   "source": [
    "df.head()"
   ]
  },
  {
   "cell_type": "code",
   "execution_count": 377,
   "id": "9fe9ec86",
   "metadata": {},
   "outputs": [
    {
     "name": "stdout",
     "output_type": "stream",
     "text": [
      "<class 'pandas.core.frame.DataFrame'>\n",
      "RangeIndex: 193 entries, 0 to 192\n",
      "Data columns (total 18 columns):\n",
      " #   Column            Non-Null Count  Dtype  \n",
      "---  ------            --------------  -----  \n",
      " 0   flight_id         193 non-null    int64  \n",
      " 1   flight_no         193 non-null    object \n",
      " 2   departure_city    193 non-null    object \n",
      " 3   arrival_city      193 non-null    object \n",
      " 4   actual_departure  193 non-null    object \n",
      " 5   actual_arrival    193 non-null    object \n",
      " 6   flight_time       193 non-null    float64\n",
      " 7   model             193 non-null    object \n",
      " 8   aircraft_code     193 non-null    object \n",
      " 9   economy_seat      193 non-null    int64  \n",
      " 10  business_seat     193 non-null    int64  \n",
      " 11  total_seat        193 non-null    int64  \n",
      " 12  economy_sold      180 non-null    float64\n",
      " 13  business_sold     180 non-null    float64\n",
      " 14  total_sold        180 non-null    float64\n",
      " 15  economy_amount    180 non-null    float64\n",
      " 16  business_amount   180 non-null    float64\n",
      " 17  total_amount      180 non-null    float64\n",
      "dtypes: float64(7), int64(4), object(7)\n",
      "memory usage: 27.3+ KB\n"
     ]
    }
   ],
   "source": [
    "df.info()"
   ]
  },
  {
   "cell_type": "code",
   "execution_count": 378,
   "id": "aee744bc",
   "metadata": {},
   "outputs": [
    {
     "data": {
      "text/plain": [
       "193"
      ]
     },
     "execution_count": 378,
     "metadata": {},
     "output_type": "execute_result"
    }
   ],
   "source": [
    "df.flight_id.nunique()"
   ]
  },
  {
   "cell_type": "code",
   "execution_count": null,
   "id": "4cc976c4",
   "metadata": {},
   "outputs": [],
   "source": []
  },
  {
   "cell_type": "markdown",
   "id": "9f37b4e8",
   "metadata": {},
   "source": [
    "Датасет содержит 193 уникальные строки и 18 колонок  \n",
    "Пропуски имеются в небольшом количестве  \n",
    "Колонки **actual_departure, actual_arrival** содержат данные о датах и времени и требует присвоения формата datetime"
   ]
  },
  {
   "cell_type": "markdown",
   "id": "cff026a9",
   "metadata": {},
   "source": [
    "Удаляем пустые значения"
   ]
  },
  {
   "cell_type": "code",
   "execution_count": 379,
   "id": "4abd3950",
   "metadata": {},
   "outputs": [],
   "source": [
    "df.dropna(inplace=True)"
   ]
  },
  {
   "cell_type": "markdown",
   "id": "0eb784e0",
   "metadata": {},
   "source": [
    "Определим, в какие города осуществляются полеты"
   ]
  },
  {
   "cell_type": "code",
   "execution_count": 380,
   "id": "5fe9bd79",
   "metadata": {},
   "outputs": [
    {
     "name": "stdout",
     "output_type": "stream",
     "text": [
      "['Belgorod' 'Moscow']\n"
     ]
    }
   ],
   "source": [
    "print(f'{df.arrival_city.unique()}')"
   ]
  },
  {
   "cell_type": "markdown",
   "id": "746a77a3",
   "metadata": {},
   "source": [
    "Какие самолеты используются"
   ]
  },
  {
   "cell_type": "code",
   "execution_count": 381,
   "id": "d00f2d98",
   "metadata": {},
   "outputs": [
    {
     "name": "stdout",
     "output_type": "stream",
     "text": [
      "['Sukhoi Superjet-100' 'Boeing 737-300']\n"
     ]
    }
   ],
   "source": [
    "print(f'{df.model.unique()}')"
   ]
  },
  {
   "cell_type": "markdown",
   "id": "17d9cf30",
   "metadata": {},
   "source": [
    "Количество рейсов по направлениям полетов для каждой модели самолета"
   ]
  },
  {
   "cell_type": "code",
   "execution_count": 382,
   "id": "8dad2ba7",
   "metadata": {},
   "outputs": [
    {
     "data": {
      "text/plain": [
       "model                arrival_city\n",
       "Boeing 737-300       Moscow          90\n",
       "Sukhoi Superjet-100  Belgorod        90\n",
       "Name: flight_id, dtype: int64"
      ]
     },
     "execution_count": 382,
     "metadata": {},
     "output_type": "execute_result"
    }
   ],
   "source": [
    "df.groupby(['model','arrival_city']).flight_id.count()"
   ]
  },
  {
   "cell_type": "markdown",
   "id": "106aae74",
   "metadata": {},
   "source": [
    "Выделим данные по каждому направлению"
   ]
  },
  {
   "cell_type": "code",
   "execution_count": 383,
   "id": "ead0fc49",
   "metadata": {},
   "outputs": [],
   "source": [
    "df_moscow = df[df.arrival_city == 'Moscow']\n",
    "df_belgorod = df[df.arrival_city == 'Belgorod']"
   ]
  },
  {
   "cell_type": "markdown",
   "id": "e5e3b7f0",
   "metadata": {},
   "source": [
    "## Создание новых признаков ##"
   ]
  },
  {
   "cell_type": "markdown",
   "id": "c498e513",
   "metadata": {},
   "source": [
    "Необходимо исправить тип данных в колонках, которые несут информацию о дате и времени. Добавить признак дня недели, когда осуществлялся рейс"
   ]
  },
  {
   "cell_type": "code",
   "execution_count": 384,
   "id": "0d5b94f6",
   "metadata": {},
   "outputs": [],
   "source": [
    "df.actual_arrival = pd.to_datetime(df.actual_departure)\n",
    "df.actual_departure = pd.to_datetime(df.actual_arrival)\n",
    "df.loc[:, 'weekday'] = df.actual_arrival.apply(lambda x: x.weekday() + 1)\n",
    "weekday = {1: 'ПН', 2: 'ВТ', 3: 'СР', 4: 'ЧТ', 5: 'ПТ', 6: 'СБ', 7: 'ВС'}\n",
    "df.weekday = df.weekday.map(weekday)"
   ]
  },
  {
   "cell_type": "markdown",
   "id": "b853016f",
   "metadata": {},
   "source": [
    "Приведем время полета к минутам"
   ]
  },
  {
   "cell_type": "code",
   "execution_count": 385,
   "id": "2e4e1c0d",
   "metadata": {},
   "outputs": [],
   "source": [
    "df.flight_time = df.flight_time / 60"
   ]
  },
  {
   "cell_type": "markdown",
   "id": "430a7319",
   "metadata": {},
   "source": [
    "На основании данных из открытых источников по расходу топлива для каждой модели самолета (#https://www.airlines-inform.ru\n",
    "#https://favt.gov.ru/dejatelnost-ajeroporty-i-ajerodromy-ceny-na-aviagsm/), определим затраты на топливо"
   ]
  },
  {
   "cell_type": "code",
   "execution_count": 386,
   "id": "959a727b",
   "metadata": {},
   "outputs": [],
   "source": [
    "def fuel_consumption(row):\n",
    "    if row.model == 'Sukhoi Superjet-100':\n",
    "        return 0.028\n",
    "    elif row.model == 'Boeing 737-300':\n",
    "        return 0.04\n",
    "\n",
    "\n",
    "df['fuel_consumption'] = df.apply(fuel_consumption, axis=1)\n",
    "df['fuel_cost'] = df.flight_time * df.fuel_consumption * 40494"
   ]
  },
  {
   "cell_type": "markdown",
   "id": "0f6e8dbb",
   "metadata": {},
   "source": [
    "Определим процент заполненных мест в самолете во время рейса"
   ]
  },
  {
   "cell_type": "code",
   "execution_count": 387,
   "id": "aa36de81",
   "metadata": {},
   "outputs": [],
   "source": [
    "df['percent_seat'] = round(df['total_sold']/df['total_seat'], 2)"
   ]
  },
  {
   "cell_type": "markdown",
   "id": "e93af962",
   "metadata": {},
   "source": [
    "Определим прибыль как разность стоимости билетов и затрат на топливо"
   ]
  },
  {
   "cell_type": "code",
   "execution_count": 388,
   "id": "a6bc5af9",
   "metadata": {},
   "outputs": [],
   "source": [
    "df['profit'] = df['total_amount'] - df['fuel_cost']"
   ]
  },
  {
   "cell_type": "markdown",
   "id": "411395a7",
   "metadata": {},
   "source": [
    "## Проанализируем полученные результаты"
   ]
  },
  {
   "cell_type": "markdown",
   "id": "8630470a",
   "metadata": {},
   "source": [
    "Построим диаграмму распределения прибыли по направлениям рейсов"
   ]
  },
  {
   "cell_type": "code",
   "execution_count": 393,
   "id": "77b062cb",
   "metadata": {},
   "outputs": [],
   "source": [
    "def get_boxplot(column):\n",
    "    fig, ax = plt.subplots(figsize=(10, 5))\n",
    "    sns.boxplot(x=column, y='profit',\n",
    "                data=df.loc[df.loc[:, column].isin(\n",
    "                    df.loc[:, column].value_counts().index[:10])], palette=\"Reds\",\n",
    "                ax=ax)\n",
    "    plt.xticks(rotation=45)\n",
    "    ax.set_title('Boxplot for ' + column)\n",
    "    plt.show()"
   ]
  },
  {
   "cell_type": "code",
   "execution_count": 394,
   "id": "4c8ba9d1",
   "metadata": {},
   "outputs": [
    {
     "data": {
      "image/png": "[encoded data removed]",
      "text/plain": [
       "<Figure size 720x360 with 1 Axes>"
      ]
     },
     "metadata": {
      "needs_background": "light"
     },
     "output_type": "display_data"
    }
   ],
   "source": [
    "get_boxplot('arrival_city')"
   ]
  },
  {
   "cell_type": "markdown",
   "id": "97add9ab",
   "metadata": {},
   "source": [
    "Посмотрим, как влияет день недели на количество людей на рейсе"
   ]
  },
  {
   "cell_type": "code",
   "execution_count": 396,
   "id": "8313c1f2",
   "metadata": {},
   "outputs": [
    {
     "data": {
      "text/plain": [
       "[Text(0.5, 0, 'День недели'),\n",
       " Text(0, 0.5, 'Заполненность самолетов в Белгород')]"
      ]
     },
     "execution_count": 396,
     "metadata": {},
     "output_type": "execute_result"
    },
    {
     "data": {
      "image/png": "[encoded data removed]",
      "text/plain": [
       "<Figure size 1080x576 with 2 Axes>"
      ]
     },
     "metadata": {
      "needs_background": "light"
     },
     "output_type": "display_data"
    }
   ],
   "source": [
    "fig, ax = plt.subplots(1, 2, figsize=(15, 8), sharey=True)\n",
    "fig.suptitle(\n",
    "    'Заполненность рейсов по городам прилета в зависимости от дня недели', fontsize=15)\n",
    "sns.barplot(data=moscow, y='percent_seat', x=moscow.index,\n",
    "            order=moscow.sort_values(by='percent_seat').index, ax=ax[0])\n",
    "sns.barplot(data=belgorod, y='percent_seat', x=belgorod.index,\n",
    "            order=belgorod.sort_values(by='percent_seat').index, ax=ax[1])\n",
    "ax[0].set(xlabel='День недели', ylabel='Заполненность самолетов в Москву')\n",
    "ax[1].set(xlabel='День недели', ylabel='Заполненность самолетов в Белгород')"
   ]
  },
  {
   "cell_type": "markdown",
   "id": "73065898",
   "metadata": {},
   "source": [
    "Определим зависимость прибыли от количества человек на борту рейса"
   ]
  },
  {
   "cell_type": "code",
   "execution_count": 401,
   "id": "54be224d",
   "metadata": {},
   "outputs": [
    {
     "data": {
      "text/plain": [
       "Text(0, 0.5, 'Заполненность')"
      ]
     },
     "execution_count": 401,
     "metadata": {},
     "output_type": "execute_result"
    },
    {
     "data": {
      "image/png": "[encoded data removed]",
      "text/plain": [
       "<Figure size 1440x720 with 1 Axes>"
      ]
     },
     "metadata": {
      "needs_background": "light"
     },
     "output_type": "display_data"
    }
   ],
   "source": [
    "df_1 = df[df.percent_seat > 0.75]\n",
    "df_2 = df[df.percent_seat <= 0.75]\n",
    "\n",
    "fig, ax = plt.subplots(figsize=(20, 10))\n",
    "sns.scatterplot(x='profit', y='percent_seat', data=df_1,\n",
    "                hue='flight_no', s=150, palette=\"deep\")\n",
    "sns.scatterplot(x='profit', y='percent_seat', data=df_2,\n",
    "                hue='flight_no', s=150, palette=\"pastel\")\n",
    "sns.set_color_codes('pastel')\n",
    "plt.axhline(0.75, linestyle=':')\n",
    "ax.legend(loc=8)\n",
    "ax.set_title(\n",
    "    'Зависимость прибыли от заполненности самолета', fontsize=14)\n",
    "ax.set_xlabel('Прибыль млн. руб')\n",
    "ax.set_ylabel('Заполненность')"
   ]
  },
  {
   "cell_type": "markdown",
   "id": "7d5a217a",
   "metadata": {},
   "source": [
    "При заполненности менее 75% рейс является нерентабельным. Посмотрим такие рейсы"
   ]
  },
  {
   "cell_type": "code",
   "execution_count": 400,
   "id": "806a85ae",
   "metadata": {},
   "outputs": [
    {
     "data": {
      "text/html": [
       "<div>\n",
       "<style scoped>\n",
       "    .dataframe tbody tr th:only-of-type {\n",
       "        vertical-align: middle;\n",
       "    }\n",
       "\n",
       "    .dataframe tbody tr th {\n",
       "        vertical-align: top;\n",
       "    }\n",
       "\n",
       "    .dataframe thead th {\n",
       "        text-align: right;\n",
       "    }\n",
       "</style>\n",
       "<table border=\"1\" class=\"dataframe\">\n",
       "  <thead>\n",
       "    <tr style=\"text-align: right;\">\n",
       "      <th></th>\n",
       "      <th>flight_id</th>\n",
       "      <th>flight_no</th>\n",
       "      <th>departure_city</th>\n",
       "      <th>arrival_city</th>\n",
       "      <th>actual_departure</th>\n",
       "      <th>actual_arrival</th>\n",
       "      <th>flight_time</th>\n",
       "      <th>model</th>\n",
       "      <th>aircraft_code</th>\n",
       "      <th>economy_seat</th>\n",
       "      <th>business_seat</th>\n",
       "      <th>total_seat</th>\n",
       "      <th>economy_sold</th>\n",
       "      <th>business_sold</th>\n",
       "      <th>total_sold</th>\n",
       "      <th>economy_amount</th>\n",
       "      <th>business_amount</th>\n",
       "      <th>total_amount</th>\n",
       "      <th>weekday</th>\n",
       "      <th>fuel_consumption</th>\n",
       "      <th>fuel_cost</th>\n",
       "      <th>percent_seat</th>\n",
       "      <th>profit</th>\n",
       "    </tr>\n",
       "  </thead>\n",
       "  <tbody>\n",
       "    <tr>\n",
       "      <th>20</th>\n",
       "      <td>136352</td>\n",
       "      <td>PG0252</td>\n",
       "      <td>Anapa</td>\n",
       "      <td>Moscow</td>\n",
       "      <td>2016-12-10 10:10:00+00:00</td>\n",
       "      <td>2016-12-10 10:10:00+00:00</td>\n",
       "      <td>1.666667</td>\n",
       "      <td>Boeing 737-300</td>\n",
       "      <td>733</td>\n",
       "      <td>118</td>\n",
       "      <td>12</td>\n",
       "      <td>130</td>\n",
       "      <td>82.0</td>\n",
       "      <td>10.0</td>\n",
       "      <td>92.0</td>\n",
       "      <td>1006400.0</td>\n",
       "      <td>366000.0</td>\n",
       "      <td>1372400.0</td>\n",
       "      <td>СБ</td>\n",
       "      <td>0.040</td>\n",
       "      <td>2699.6000</td>\n",
       "      <td>0.71</td>\n",
       "      <td>1.369700e+06</td>\n",
       "    </tr>\n",
       "    <tr>\n",
       "      <th>50</th>\n",
       "      <td>136253</td>\n",
       "      <td>PG0252</td>\n",
       "      <td>Anapa</td>\n",
       "      <td>Moscow</td>\n",
       "      <td>2016-12-24 10:08:00+00:00</td>\n",
       "      <td>2016-12-24 10:08:00+00:00</td>\n",
       "      <td>1.633333</td>\n",
       "      <td>Boeing 737-300</td>\n",
       "      <td>733</td>\n",
       "      <td>118</td>\n",
       "      <td>12</td>\n",
       "      <td>130</td>\n",
       "      <td>82.0</td>\n",
       "      <td>11.0</td>\n",
       "      <td>93.0</td>\n",
       "      <td>1005200.0</td>\n",
       "      <td>402600.0</td>\n",
       "      <td>1407800.0</td>\n",
       "      <td>СБ</td>\n",
       "      <td>0.040</td>\n",
       "      <td>2645.6080</td>\n",
       "      <td>0.72</td>\n",
       "      <td>1.405154e+06</td>\n",
       "    </tr>\n",
       "    <tr>\n",
       "      <th>128</th>\n",
       "      <td>136642</td>\n",
       "      <td>PG0480</td>\n",
       "      <td>Anapa</td>\n",
       "      <td>Belgorod</td>\n",
       "      <td>2017-01-30 09:28:00+00:00</td>\n",
       "      <td>2017-01-30 09:28:00+00:00</td>\n",
       "      <td>0.816667</td>\n",
       "      <td>Sukhoi Superjet-100</td>\n",
       "      <td>SU9</td>\n",
       "      <td>85</td>\n",
       "      <td>12</td>\n",
       "      <td>97</td>\n",
       "      <td>54.0</td>\n",
       "      <td>10.0</td>\n",
       "      <td>64.0</td>\n",
       "      <td>342000.0</td>\n",
       "      <td>189000.0</td>\n",
       "      <td>531000.0</td>\n",
       "      <td>ПН</td>\n",
       "      <td>0.028</td>\n",
       "      <td>925.9628</td>\n",
       "      <td>0.66</td>\n",
       "      <td>5.300740e+05</td>\n",
       "    </tr>\n",
       "    <tr>\n",
       "      <th>180</th>\n",
       "      <td>136807</td>\n",
       "      <td>PG0480</td>\n",
       "      <td>Anapa</td>\n",
       "      <td>Belgorod</td>\n",
       "      <td>2017-02-23 09:28:00+00:00</td>\n",
       "      <td>2017-02-23 09:28:00+00:00</td>\n",
       "      <td>0.833333</td>\n",
       "      <td>Sukhoi Superjet-100</td>\n",
       "      <td>SU9</td>\n",
       "      <td>85</td>\n",
       "      <td>12</td>\n",
       "      <td>97</td>\n",
       "      <td>60.0</td>\n",
       "      <td>8.0</td>\n",
       "      <td>68.0</td>\n",
       "      <td>379800.0</td>\n",
       "      <td>151200.0</td>\n",
       "      <td>531000.0</td>\n",
       "      <td>ЧТ</td>\n",
       "      <td>0.028</td>\n",
       "      <td>944.8600</td>\n",
       "      <td>0.70</td>\n",
       "      <td>5.300551e+05</td>\n",
       "    </tr>\n",
       "  </tbody>\n",
       "</table>\n",
       "</div>"
      ],
      "text/plain": [
       "     flight_id flight_no departure_city arrival_city  \\\n",
       "20      136352    PG0252          Anapa       Moscow   \n",
       "50      136253    PG0252          Anapa       Moscow   \n",
       "128     136642    PG0480          Anapa     Belgorod   \n",
       "180     136807    PG0480          Anapa     Belgorod   \n",
       "\n",
       "             actual_departure            actual_arrival  flight_time  \\\n",
       "20  2016-12-10 10:10:00+00:00 2016-12-10 10:10:00+00:00     1.666667   \n",
       "50  2016-12-24 10:08:00+00:00 2016-12-24 10:08:00+00:00     1.633333   \n",
       "128 2017-01-30 09:28:00+00:00 2017-01-30 09:28:00+00:00     0.816667   \n",
       "180 2017-02-23 09:28:00+00:00 2017-02-23 09:28:00+00:00     0.833333   \n",
       "\n",
       "                   model aircraft_code  economy_seat  business_seat  \\\n",
       "20        Boeing 737-300           733           118             12   \n",
       "50        Boeing 737-300           733           118             12   \n",
       "128  Sukhoi Superjet-100           SU9            85             12   \n",
       "180  Sukhoi Superjet-100           SU9            85             12   \n",
       "\n",
       "     total_seat  economy_sold  business_sold  total_sold  economy_amount  \\\n",
       "20          130          82.0           10.0        92.0       1006400.0   \n",
       "50          130          82.0           11.0        93.0       1005200.0   \n",
       "128          97          54.0           10.0        64.0        342000.0   \n",
       "180          97          60.0            8.0        68.0        379800.0   \n",
       "\n",
       "     business_amount  total_amount weekday  fuel_consumption  fuel_cost  \\\n",
       "20          366000.0     1372400.0      СБ             0.040  2699.6000   \n",
       "50          402600.0     1407800.0      СБ             0.040  2645.6080   \n",
       "128         189000.0      531000.0      ПН             0.028   925.9628   \n",
       "180         151200.0      531000.0      ЧТ             0.028   944.8600   \n",
       "\n",
       "     percent_seat        profit  \n",
       "20           0.71  1.369700e+06  \n",
       "50           0.72  1.405154e+06  \n",
       "128          0.66  5.300740e+05  \n",
       "180          0.70  5.300551e+05  "
      ]
     },
     "execution_count": 400,
     "metadata": {},
     "output_type": "execute_result"
    }
   ],
   "source": [
    "df[df.percent_seat < 0.75]"
   ]
  },
  {
   "cell_type": "markdown",
   "id": "1a0f69e8",
   "metadata": {},
   "source": [
    "Посмотрим корреляционную матрицу со следующими признаками"
   ]
  },
  {
   "cell_type": "code",
   "execution_count": 462,
   "id": "c37f2798",
   "metadata": {},
   "outputs": [
    {
     "data": {
      "text/html": [
       "<div>\n",
       "<style scoped>\n",
       "    .dataframe tbody tr th:only-of-type {\n",
       "        vertical-align: middle;\n",
       "    }\n",
       "\n",
       "    .dataframe tbody tr th {\n",
       "        vertical-align: top;\n",
       "    }\n",
       "\n",
       "    .dataframe thead th {\n",
       "        text-align: right;\n",
       "    }\n",
       "</style>\n",
       "<table border=\"1\" class=\"dataframe\">\n",
       "  <thead>\n",
       "    <tr style=\"text-align: right;\">\n",
       "      <th></th>\n",
       "      <th>profit</th>\n",
       "      <th>flight_time</th>\n",
       "      <th>economy_seat</th>\n",
       "      <th>total_sold</th>\n",
       "      <th>fuel_consumption</th>\n",
       "      <th>fuel_cost</th>\n",
       "    </tr>\n",
       "  </thead>\n",
       "  <tbody>\n",
       "    <tr>\n",
       "      <th>profit</th>\n",
       "      <td>1.000000</td>\n",
       "      <td>0.971806</td>\n",
       "      <td>0.973656</td>\n",
       "      <td>0.908821</td>\n",
       "      <td>0.973656</td>\n",
       "      <td>0.972321</td>\n",
       "    </tr>\n",
       "    <tr>\n",
       "      <th>flight_time</th>\n",
       "      <td>0.971806</td>\n",
       "      <td>1.000000</td>\n",
       "      <td>0.999431</td>\n",
       "      <td>0.796751</td>\n",
       "      <td>0.999431</td>\n",
       "      <td>0.999945</td>\n",
       "    </tr>\n",
       "    <tr>\n",
       "      <th>economy_seat</th>\n",
       "      <td>0.973656</td>\n",
       "      <td>0.999431</td>\n",
       "      <td>1.000000</td>\n",
       "      <td>0.799171</td>\n",
       "      <td>1.000000</td>\n",
       "      <td>0.999710</td>\n",
       "    </tr>\n",
       "    <tr>\n",
       "      <th>total_sold</th>\n",
       "      <td>0.908821</td>\n",
       "      <td>0.796751</td>\n",
       "      <td>0.799171</td>\n",
       "      <td>1.000000</td>\n",
       "      <td>0.799171</td>\n",
       "      <td>0.797190</td>\n",
       "    </tr>\n",
       "    <tr>\n",
       "      <th>fuel_consumption</th>\n",
       "      <td>0.973656</td>\n",
       "      <td>0.999431</td>\n",
       "      <td>1.000000</td>\n",
       "      <td>0.799171</td>\n",
       "      <td>1.000000</td>\n",
       "      <td>0.999710</td>\n",
       "    </tr>\n",
       "    <tr>\n",
       "      <th>fuel_cost</th>\n",
       "      <td>0.972321</td>\n",
       "      <td>0.999945</td>\n",
       "      <td>0.999710</td>\n",
       "      <td>0.797190</td>\n",
       "      <td>0.999710</td>\n",
       "      <td>1.000000</td>\n",
       "    </tr>\n",
       "  </tbody>\n",
       "</table>\n",
       "</div>"
      ],
      "text/plain": [
       "                    profit  flight_time  economy_seat  total_sold  \\\n",
       "profit            1.000000     0.971806      0.973656    0.908821   \n",
       "flight_time       0.971806     1.000000      0.999431    0.796751   \n",
       "economy_seat      0.973656     0.999431      1.000000    0.799171   \n",
       "total_sold        0.908821     0.796751      0.799171    1.000000   \n",
       "fuel_consumption  0.973656     0.999431      1.000000    0.799171   \n",
       "fuel_cost         0.972321     0.999945      0.999710    0.797190   \n",
       "\n",
       "                  fuel_consumption  fuel_cost  \n",
       "profit                    0.973656   0.972321  \n",
       "flight_time               0.999431   0.999945  \n",
       "economy_seat              1.000000   0.999710  \n",
       "total_sold                0.799171   0.797190  \n",
       "fuel_consumption          1.000000   0.999710  \n",
       "fuel_cost                 0.999710   1.000000  "
      ]
     },
     "execution_count": 462,
     "metadata": {},
     "output_type": "execute_result"
    }
   ],
   "source": [
    "cor = ['profit','flight_time','economy_seat','total_sold','fuel_consumption','fuel_cost']\n",
    "df[cor].corr()"
   ]
  },
  {
   "cell_type": "code",
   "execution_count": 465,
   "id": "580d9f98",
   "metadata": {},
   "outputs": [
    {
     "data": {
      "text/plain": [
       "Text(0.5, 1.0, 'Корреляционная матрица')"
      ]
     },
     "execution_count": 465,
     "metadata": {},
     "output_type": "execute_result"
    },
    {
     "data": {
      "image/png": "[encoded data removed]",
      "text/plain": [
       "<Figure size 864x576 with 2 Axes>"
      ]
     },
     "metadata": {
      "needs_background": "light"
     },
     "output_type": "display_data"
    }
   ],
   "source": [
    "plt.figure(figsize=(12, 8))\n",
    "matrix = np.tril(df[cor].corr())\n",
    "heatmap = sns.heatmap(df[cor].corr(), mask=matrix, vmin=-1, vmax=1,\n",
    "                      annot=True, linewidths=1)\n",
    "heatmap.set_title('Корреляционная матрица', fontdict={'fontsize': 14}, pad=12)"
   ]
  },
  {
   "cell_type": "markdown",
   "id": "296d88c7",
   "metadata": {},
   "source": [
    "Номера рейсов, которые следует убрать"
   ]
  },
  {
   "cell_type": "code",
   "execution_count": 468,
   "id": "ebf97c5b",
   "metadata": {},
   "outputs": [
    {
     "data": {
      "text/plain": [
       "[136352, 136253, 136642, 136807]"
      ]
     },
     "execution_count": 468,
     "metadata": {},
     "output_type": "execute_result"
    }
   ],
   "source": [
    "#номера этих рейсов\n",
    "flight_unprofit = list(df[df.percent_seat < 0.75].flight_id)\n",
    "flight_unprofit"
   ]
  },
  {
   "cell_type": "markdown",
   "id": "2e31a7d4",
   "metadata": {},
   "source": [
    "Предполагаемая прибыльность этих рейсов"
   ]
  },
  {
   "cell_type": "code",
   "execution_count": 473,
   "id": "ac714624",
   "metadata": {},
   "outputs": [
    {
     "data": {
      "text/html": [
       "<div>\n",
       "<style scoped>\n",
       "    .dataframe tbody tr th:only-of-type {\n",
       "        vertical-align: middle;\n",
       "    }\n",
       "\n",
       "    .dataframe tbody tr th {\n",
       "        vertical-align: top;\n",
       "    }\n",
       "\n",
       "    .dataframe thead th {\n",
       "        text-align: right;\n",
       "    }\n",
       "</style>\n",
       "<table border=\"1\" class=\"dataframe\">\n",
       "  <thead>\n",
       "    <tr style=\"text-align: right;\">\n",
       "      <th></th>\n",
       "      <th>flight_id</th>\n",
       "      <th>flight_no</th>\n",
       "      <th>departure_city</th>\n",
       "      <th>arrival_city</th>\n",
       "      <th>actual_departure</th>\n",
       "      <th>actual_arrival</th>\n",
       "      <th>flight_time</th>\n",
       "      <th>model</th>\n",
       "      <th>aircraft_code</th>\n",
       "      <th>economy_seat</th>\n",
       "      <th>business_seat</th>\n",
       "      <th>total_seat</th>\n",
       "      <th>economy_sold</th>\n",
       "      <th>business_sold</th>\n",
       "      <th>total_sold</th>\n",
       "      <th>economy_amount</th>\n",
       "      <th>business_amount</th>\n",
       "      <th>total_amount</th>\n",
       "      <th>weekday</th>\n",
       "      <th>fuel_consumption</th>\n",
       "      <th>fuel_cost</th>\n",
       "      <th>percent_seat</th>\n",
       "      <th>profit</th>\n",
       "    </tr>\n",
       "  </thead>\n",
       "  <tbody>\n",
       "    <tr>\n",
       "      <th>20</th>\n",
       "      <td>136352</td>\n",
       "      <td>PG0252</td>\n",
       "      <td>Anapa</td>\n",
       "      <td>Moscow</td>\n",
       "      <td>2016-12-10 10:10:00+00:00</td>\n",
       "      <td>2016-12-10 10:10:00+00:00</td>\n",
       "      <td>1.666667</td>\n",
       "      <td>Boeing 737-300</td>\n",
       "      <td>733</td>\n",
       "      <td>118</td>\n",
       "      <td>12</td>\n",
       "      <td>130</td>\n",
       "      <td>82.0</td>\n",
       "      <td>10.0</td>\n",
       "      <td>92.0</td>\n",
       "      <td>1006400.0</td>\n",
       "      <td>366000.0</td>\n",
       "      <td>1372400.0</td>\n",
       "      <td>СБ</td>\n",
       "      <td>0.040</td>\n",
       "      <td>2699.6000</td>\n",
       "      <td>0.71</td>\n",
       "      <td>1.369700e+06</td>\n",
       "    </tr>\n",
       "    <tr>\n",
       "      <th>50</th>\n",
       "      <td>136253</td>\n",
       "      <td>PG0252</td>\n",
       "      <td>Anapa</td>\n",
       "      <td>Moscow</td>\n",
       "      <td>2016-12-24 10:08:00+00:00</td>\n",
       "      <td>2016-12-24 10:08:00+00:00</td>\n",
       "      <td>1.633333</td>\n",
       "      <td>Boeing 737-300</td>\n",
       "      <td>733</td>\n",
       "      <td>118</td>\n",
       "      <td>12</td>\n",
       "      <td>130</td>\n",
       "      <td>82.0</td>\n",
       "      <td>11.0</td>\n",
       "      <td>93.0</td>\n",
       "      <td>1005200.0</td>\n",
       "      <td>402600.0</td>\n",
       "      <td>1407800.0</td>\n",
       "      <td>СБ</td>\n",
       "      <td>0.040</td>\n",
       "      <td>2645.6080</td>\n",
       "      <td>0.72</td>\n",
       "      <td>1.405154e+06</td>\n",
       "    </tr>\n",
       "    <tr>\n",
       "      <th>128</th>\n",
       "      <td>136642</td>\n",
       "      <td>PG0480</td>\n",
       "      <td>Anapa</td>\n",
       "      <td>Belgorod</td>\n",
       "      <td>2017-01-30 09:28:00+00:00</td>\n",
       "      <td>2017-01-30 09:28:00+00:00</td>\n",
       "      <td>0.816667</td>\n",
       "      <td>Sukhoi Superjet-100</td>\n",
       "      <td>SU9</td>\n",
       "      <td>85</td>\n",
       "      <td>12</td>\n",
       "      <td>97</td>\n",
       "      <td>54.0</td>\n",
       "      <td>10.0</td>\n",
       "      <td>64.0</td>\n",
       "      <td>342000.0</td>\n",
       "      <td>189000.0</td>\n",
       "      <td>531000.0</td>\n",
       "      <td>ПН</td>\n",
       "      <td>0.028</td>\n",
       "      <td>925.9628</td>\n",
       "      <td>0.66</td>\n",
       "      <td>5.300740e+05</td>\n",
       "    </tr>\n",
       "    <tr>\n",
       "      <th>180</th>\n",
       "      <td>136807</td>\n",
       "      <td>PG0480</td>\n",
       "      <td>Anapa</td>\n",
       "      <td>Belgorod</td>\n",
       "      <td>2017-02-23 09:28:00+00:00</td>\n",
       "      <td>2017-02-23 09:28:00+00:00</td>\n",
       "      <td>0.833333</td>\n",
       "      <td>Sukhoi Superjet-100</td>\n",
       "      <td>SU9</td>\n",
       "      <td>85</td>\n",
       "      <td>12</td>\n",
       "      <td>97</td>\n",
       "      <td>60.0</td>\n",
       "      <td>8.0</td>\n",
       "      <td>68.0</td>\n",
       "      <td>379800.0</td>\n",
       "      <td>151200.0</td>\n",
       "      <td>531000.0</td>\n",
       "      <td>ЧТ</td>\n",
       "      <td>0.028</td>\n",
       "      <td>944.8600</td>\n",
       "      <td>0.70</td>\n",
       "      <td>5.300551e+05</td>\n",
       "    </tr>\n",
       "  </tbody>\n",
       "</table>\n",
       "</div>"
      ],
      "text/plain": [
       "     flight_id flight_no departure_city arrival_city  \\\n",
       "20      136352    PG0252          Anapa       Moscow   \n",
       "50      136253    PG0252          Anapa       Moscow   \n",
       "128     136642    PG0480          Anapa     Belgorod   \n",
       "180     136807    PG0480          Anapa     Belgorod   \n",
       "\n",
       "             actual_departure            actual_arrival  flight_time  \\\n",
       "20  2016-12-10 10:10:00+00:00 2016-12-10 10:10:00+00:00     1.666667   \n",
       "50  2016-12-24 10:08:00+00:00 2016-12-24 10:08:00+00:00     1.633333   \n",
       "128 2017-01-30 09:28:00+00:00 2017-01-30 09:28:00+00:00     0.816667   \n",
       "180 2017-02-23 09:28:00+00:00 2017-02-23 09:28:00+00:00     0.833333   \n",
       "\n",
       "                   model aircraft_code  economy_seat  business_seat  \\\n",
       "20        Boeing 737-300           733           118             12   \n",
       "50        Boeing 737-300           733           118             12   \n",
       "128  Sukhoi Superjet-100           SU9            85             12   \n",
       "180  Sukhoi Superjet-100           SU9            85             12   \n",
       "\n",
       "     total_seat  economy_sold  business_sold  total_sold  economy_amount  \\\n",
       "20          130          82.0           10.0        92.0       1006400.0   \n",
       "50          130          82.0           11.0        93.0       1005200.0   \n",
       "128          97          54.0           10.0        64.0        342000.0   \n",
       "180          97          60.0            8.0        68.0        379800.0   \n",
       "\n",
       "     business_amount  total_amount weekday  fuel_consumption  fuel_cost  \\\n",
       "20          366000.0     1372400.0      СБ             0.040  2699.6000   \n",
       "50          402600.0     1407800.0      СБ             0.040  2645.6080   \n",
       "128         189000.0      531000.0      ПН             0.028   925.9628   \n",
       "180         151200.0      531000.0      ЧТ             0.028   944.8600   \n",
       "\n",
       "     percent_seat        profit  \n",
       "20           0.71  1.369700e+06  \n",
       "50           0.72  1.405154e+06  \n",
       "128          0.66  5.300740e+05  \n",
       "180          0.70  5.300551e+05  "
      ]
     },
     "execution_count": 473,
     "metadata": {},
     "output_type": "execute_result"
    }
   ],
   "source": [
    "df_unprofit = pd.DataFrame(df[df.percent_seat < 0.75])\n",
    "df_unprofit"
   ]
  },
  {
   "cell_type": "code",
   "execution_count": 474,
   "id": "03846ba5",
   "metadata": {},
   "outputs": [
    {
     "data": {
      "text/plain": [
       "flight_id\n",
       "136253    [1405154.392]\n",
       "136352      [1369700.4]\n",
       "136642    [530074.0372]\n",
       "136807      [530055.14]\n",
       "Name: profit, dtype: object"
      ]
     },
     "execution_count": 474,
     "metadata": {},
     "output_type": "execute_result"
    }
   ],
   "source": [
    "df_unprofit.groupby(['flight_id'])[\n",
    "    'profit'].unique().sort_values(ascending=False)"
   ]
  },
  {
   "cell_type": "markdown",
   "id": "3148ebc2",
   "metadata": {},
   "source": [
    "Средняя прибыльность всех рейсов"
   ]
  },
  {
   "cell_type": "code",
   "execution_count": 475,
   "id": "817674cc",
   "metadata": {},
   "outputs": [
    {
     "data": {
      "text/plain": [
       "1177825"
      ]
     },
     "execution_count": 475,
     "metadata": {},
     "output_type": "execute_result"
    }
   ],
   "source": [
    "round(df.profit.mean())"
   ]
  },
  {
   "cell_type": "code",
   "execution_count": null,
   "id": "87d6bdae",
   "metadata": {},
   "outputs": [],
   "source": []
  }
 ],
 "metadata": {
  "kernelspec": {
   "display_name": "Python 3",
   "language": "python",
   "name": "python3"
  },
  "language_info": {
   "codemirror_mode": {
    "name": "ipython",
    "version": 3
   },
   "file_extension": ".py",
   "mimetype": "text/x-python",
   "name": "python",
   "nbconvert_exporter": "python",
   "pygments_lexer": "ipython3",
   "version": "3.8.8"
  },
  "varInspector": {
   "cols": {
    "lenName": 16,
    "lenType": 16,
    "lenVar": 40
   },
   "kernels_config": {
    "python": {
     "delete_cmd_postfix": "",
     "delete_cmd_prefix": "del ",
     "library": "var_list.py",
     "varRefreshCmd": "print(var_dic_list())"
    },
    "r": {
     "delete_cmd_postfix": ") ",
     "delete_cmd_prefix": "rm(",
     "library": "var_list.r",
     "varRefreshCmd": "cat(var_dic_list()) "
    }
   },
   "types_to_exclude": [
    "module",
    "function",
    "builtin_function_or_method",
    "instance",
    "_Feature"
   ],
   "window_display": false
  }
 },
 "nbformat": 4,
 "nbformat_minor": 5
}
