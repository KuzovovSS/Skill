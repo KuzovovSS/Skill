{
 "cells": [
  {
   "cell_type": "markdown",
   "metadata": {},
   "source": [
    "# import"
   ]
  },
  {
   "cell_type": "code",
   "execution_count": 771,
   "metadata": {
    "_cell_guid": "b1076dfc-b9ad-4769-8c92-a6c4dae69d19",
    "_uuid": "8f2839f25d086af736a60e9eeb907d3b93b6e0e5",
    "execution": {
     "iopub.execute_input": "2021-10-10T13:56:59.753168Z",
     "iopub.status.busy": "2021-10-10T13:56:59.752871Z",
     "iopub.status.idle": "2021-10-10T13:57:02.251551Z",
     "shell.execute_reply": "2021-10-10T13:57:02.250969Z",
     "shell.execute_reply.started": "2021-10-10T13:56:59.753132Z"
    }
   },
   "outputs": [],
   "source": [
    "import numpy as np # linear algebra\n",
    "import pandas as pd # data processing, CSV file I/O (e.g. pd.read_csv)\n",
    "\n",
    "import matplotlib.pyplot as plt\n",
    "import seaborn as sns \n",
    "%matplotlib inline\n",
    "\n",
    "# Загружаем специальный удобный инструмент для разделения датасета:\n",
    "from sklearn.model_selection import train_test_split\n",
    "\n",
    "from sklearn.preprocessing import MultiLabelBinarizer\n",
    "from sklearn.preprocessing import StandardScaler\n",
    "\n",
    "import re\n",
    "\n",
    "\n",
    "pd.set_option('display.max_rows', 50)\n",
    "pd.set_option('display.max_columns', 50)\n",
    "\n",
    "# Input data files are available in the \"../input/\" directory.\n",
    "# For example, running this (by clicking run or pressing Shift+Enter) will list all files under the input directory\n",
    "\n",
    "import os\n",
    "for dirname, _, filenames in os.walk('/kaggle/input'):\n",
    "    for filename in filenames:\n",
    "        print(os.path.join(dirname, filename))\n",
    "\n",
    "# Any results you write to the current directory are saved as output.\n",
    "# This Python 3 environment comes with many helpful analytics libraries installed\n",
    "# It is defined by the kaggle/python docker image: https://github.com/kaggle/docker-python\n",
    "# For example, here's several helpful packages to load in \n",
    "\n",
    "import numpy as np # linear algebra\n",
    "import pandas as pd # data processing, CSV file I/O (e.g. pd.read_csv)\n",
    "\n",
    "import matplotlib.pyplot as plt\n",
    "import seaborn as sns \n",
    "%matplotlib inline\n",
    "\n",
    "# Загружаем специальный удобный инструмент для разделения датасета:\n",
    "from sklearn.model_selection import train_test_split\n",
    "from sklearn.preprocessing import MultiLabelBinarizer\n",
    "from sklearn.preprocessing import StandardScaler\n",
    "\n",
    "import re\n",
    "\n",
    "\n",
    "pd.set_option('display.max_rows', 50)\n",
    "pd.set_option('display.max_columns', 50)\n",
    "\n",
    "\n",
    "# Input data files are available in the \"../input/\" directory.\n",
    "# For example, running this (by clicking run or pressing Shift+Enter) will list all files under the input directory\n",
    "\n",
    "import os\n",
    "for dirname, _, filenames in os.walk('/kaggle/input'):\n",
    "    for filename in filenames:\n",
    "        print(os.path.join(dirname, filename))\n",
    "\n",
    "# Any results you write to the current directory are saved as output."
   ]
  },
  {
   "cell_type": "code",
   "execution_count": 772,
   "metadata": {
    "execution": {
     "iopub.execute_input": "2021-10-10T13:57:02.253134Z",
     "iopub.status.busy": "2021-10-10T13:57:02.252774Z",
     "iopub.status.idle": "2021-10-10T13:57:02.255918Z",
     "shell.execute_reply": "2021-10-10T13:57:02.255403Z",
     "shell.execute_reply.started": "2021-10-10T13:57:02.253096Z"
    }
   },
   "outputs": [],
   "source": [
    "# всегда фиксируйте RANDOM_SEED, чтобы ваши эксперименты были воспроизводимы!\n",
    "RANDOM_SEED = 42"
   ]
  },
  {
   "cell_type": "code",
   "execution_count": 773,
   "metadata": {
    "execution": {
     "iopub.execute_input": "2021-10-10T13:57:02.257078Z",
     "iopub.status.busy": "2021-10-10T13:57:02.256736Z",
     "iopub.status.idle": "2021-10-10T13:57:05.426403Z",
     "shell.execute_reply": "2021-10-10T13:57:05.425386Z",
     "shell.execute_reply.started": "2021-10-10T13:57:02.257036Z"
    }
   },
   "outputs": [],
   "source": [
    "# зафиксируем версию пакетов, чтобы эксперименты были воспроизводимы:\n",
    "!pip freeze > requirements.txt"
   ]
  },
  {
   "cell_type": "markdown",
   "metadata": {},
   "source": [
    "# Подключаем данные"
   ]
  },
  {
   "cell_type": "code",
   "execution_count": 774,
   "metadata": {
    "_cell_guid": "79c7e3d0-c299-4dcb-8224-4455121ee9b0",
    "_uuid": "d629ff2d2480ee46fbb7e2d37f6b5fab8052498a",
    "execution": {
     "iopub.execute_input": "2021-10-10T13:57:05.428183Z",
     "iopub.status.busy": "2021-10-10T13:57:05.427901Z",
     "iopub.status.idle": "2021-10-10T13:57:05.762311Z",
     "shell.execute_reply": "2021-10-10T13:57:05.761515Z",
     "shell.execute_reply.started": "2021-10-10T13:57:05.428134Z"
    }
   },
   "outputs": [],
   "source": [
    "df_train = pd.read_csv('main_task.csv')\n",
    "df_test = pd.read_csv('kaggle_task.csv')\n",
    "sample_submission = pd.read_csv('sample_submission.csv')"
   ]
  },
  {
   "cell_type": "code",
   "execution_count": 775,
   "metadata": {
    "execution": {
     "iopub.execute_input": "2021-10-10T13:57:05.765756Z",
     "iopub.status.busy": "2021-10-10T13:57:05.765457Z",
     "iopub.status.idle": "2021-10-10T13:57:05.812723Z",
     "shell.execute_reply": "2021-10-10T13:57:05.811047Z",
     "shell.execute_reply.started": "2021-10-10T13:57:05.765700Z"
    }
   },
   "outputs": [
    {
     "name": "stdout",
     "output_type": "stream",
     "text": [
      "<class 'pandas.core.frame.DataFrame'>\n",
      "RangeIndex: 40000 entries, 0 to 39999\n",
      "Data columns (total 10 columns):\n",
      " #   Column             Non-Null Count  Dtype  \n",
      "---  ------             --------------  -----  \n",
      " 0   Restaurant_id      40000 non-null  object \n",
      " 1   City               40000 non-null  object \n",
      " 2   Cuisine Style      30717 non-null  object \n",
      " 3   Ranking            40000 non-null  float64\n",
      " 4   Rating             40000 non-null  float64\n",
      " 5   Price Range        26114 non-null  object \n",
      " 6   Number of Reviews  37457 non-null  float64\n",
      " 7   Reviews            40000 non-null  object \n",
      " 8   URL_TA             40000 non-null  object \n",
      " 9   ID_TA              40000 non-null  object \n",
      "dtypes: float64(3), object(7)\n",
      "memory usage: 3.1+ MB\n"
     ]
    }
   ],
   "source": [
    "df_train.info()"
   ]
  },
  {
   "cell_type": "code",
   "execution_count": 776,
   "metadata": {
    "execution": {
     "iopub.execute_input": "2021-10-10T13:57:05.815403Z",
     "iopub.status.busy": "2021-10-10T13:57:05.815141Z",
     "iopub.status.idle": "2021-10-10T13:57:05.839761Z",
     "shell.execute_reply": "2021-10-10T13:57:05.839157Z",
     "shell.execute_reply.started": "2021-10-10T13:57:05.815352Z"
    }
   },
   "outputs": [
    {
     "data": {
      "text/html": [
       "<div>\n",
       "<style scoped>\n",
       "    .dataframe tbody tr th:only-of-type {\n",
       "        vertical-align: middle;\n",
       "    }\n",
       "\n",
       "    .dataframe tbody tr th {\n",
       "        vertical-align: top;\n",
       "    }\n",
       "\n",
       "    .dataframe thead th {\n",
       "        text-align: right;\n",
       "    }\n",
       "</style>\n",
       "<table border=\"1\" class=\"dataframe\">\n",
       "  <thead>\n",
       "    <tr style=\"text-align: right;\">\n",
       "      <th></th>\n",
       "      <th>Restaurant_id</th>\n",
       "      <th>City</th>\n",
       "      <th>Cuisine Style</th>\n",
       "      <th>Ranking</th>\n",
       "      <th>Rating</th>\n",
       "      <th>Price Range</th>\n",
       "      <th>Number of Reviews</th>\n",
       "      <th>Reviews</th>\n",
       "      <th>URL_TA</th>\n",
       "      <th>ID_TA</th>\n",
       "    </tr>\n",
       "  </thead>\n",
       "  <tbody>\n",
       "    <tr>\n",
       "      <th>0</th>\n",
       "      <td>id_5569</td>\n",
       "      <td>Paris</td>\n",
       "      <td>['European', 'French', 'International']</td>\n",
       "      <td>5570.0</td>\n",
       "      <td>3.5</td>\n",
       "      <td>$$ - $$$</td>\n",
       "      <td>194.0</td>\n",
       "      <td>[['Good food at your doorstep', 'A good hotel ...</td>\n",
       "      <td>/Restaurant_Review-g187147-d1912643-Reviews-R_...</td>\n",
       "      <td>d1912643</td>\n",
       "    </tr>\n",
       "    <tr>\n",
       "      <th>1</th>\n",
       "      <td>id_1535</td>\n",
       "      <td>Stockholm</td>\n",
       "      <td>NaN</td>\n",
       "      <td>1537.0</td>\n",
       "      <td>4.0</td>\n",
       "      <td>NaN</td>\n",
       "      <td>10.0</td>\n",
       "      <td>[['Unique cuisine', 'Delicious Nepalese food']...</td>\n",
       "      <td>/Restaurant_Review-g189852-d7992032-Reviews-Bu...</td>\n",
       "      <td>d7992032</td>\n",
       "    </tr>\n",
       "    <tr>\n",
       "      <th>2</th>\n",
       "      <td>id_352</td>\n",
       "      <td>London</td>\n",
       "      <td>['Japanese', 'Sushi', 'Asian', 'Grill', 'Veget...</td>\n",
       "      <td>353.0</td>\n",
       "      <td>4.5</td>\n",
       "      <td>$$$$</td>\n",
       "      <td>688.0</td>\n",
       "      <td>[['Catch up with friends', 'Not exceptional'],...</td>\n",
       "      <td>/Restaurant_Review-g186338-d8632781-Reviews-RO...</td>\n",
       "      <td>d8632781</td>\n",
       "    </tr>\n",
       "    <tr>\n",
       "      <th>3</th>\n",
       "      <td>id_3456</td>\n",
       "      <td>Berlin</td>\n",
       "      <td>NaN</td>\n",
       "      <td>3458.0</td>\n",
       "      <td>5.0</td>\n",
       "      <td>NaN</td>\n",
       "      <td>3.0</td>\n",
       "      <td>[[], []]</td>\n",
       "      <td>/Restaurant_Review-g187323-d1358776-Reviews-Es...</td>\n",
       "      <td>d1358776</td>\n",
       "    </tr>\n",
       "    <tr>\n",
       "      <th>4</th>\n",
       "      <td>id_615</td>\n",
       "      <td>Munich</td>\n",
       "      <td>['German', 'Central European', 'Vegetarian Fri...</td>\n",
       "      <td>621.0</td>\n",
       "      <td>4.0</td>\n",
       "      <td>$$ - $$$</td>\n",
       "      <td>84.0</td>\n",
       "      <td>[['Best place to try a Bavarian food', 'Nice b...</td>\n",
       "      <td>/Restaurant_Review-g187309-d6864963-Reviews-Au...</td>\n",
       "      <td>d6864963</td>\n",
       "    </tr>\n",
       "  </tbody>\n",
       "</table>\n",
       "</div>"
      ],
      "text/plain": [
       "  Restaurant_id       City                                      Cuisine Style  \\\n",
       "0       id_5569      Paris            ['European', 'French', 'International']   \n",
       "1       id_1535  Stockholm                                                NaN   \n",
       "2        id_352     London  ['Japanese', 'Sushi', 'Asian', 'Grill', 'Veget...   \n",
       "3       id_3456     Berlin                                                NaN   \n",
       "4        id_615     Munich  ['German', 'Central European', 'Vegetarian Fri...   \n",
       "\n",
       "   Ranking  Rating Price Range  Number of Reviews  \\\n",
       "0   5570.0     3.5    $$ - $$$              194.0   \n",
       "1   1537.0     4.0         NaN               10.0   \n",
       "2    353.0     4.5        $$$$              688.0   \n",
       "3   3458.0     5.0         NaN                3.0   \n",
       "4    621.0     4.0    $$ - $$$               84.0   \n",
       "\n",
       "                                             Reviews  \\\n",
       "0  [['Good food at your doorstep', 'A good hotel ...   \n",
       "1  [['Unique cuisine', 'Delicious Nepalese food']...   \n",
       "2  [['Catch up with friends', 'Not exceptional'],...   \n",
       "3                                           [[], []]   \n",
       "4  [['Best place to try a Bavarian food', 'Nice b...   \n",
       "\n",
       "                                              URL_TA     ID_TA  \n",
       "0  /Restaurant_Review-g187147-d1912643-Reviews-R_...  d1912643  \n",
       "1  /Restaurant_Review-g189852-d7992032-Reviews-Bu...  d7992032  \n",
       "2  /Restaurant_Review-g186338-d8632781-Reviews-RO...  d8632781  \n",
       "3  /Restaurant_Review-g187323-d1358776-Reviews-Es...  d1358776  \n",
       "4  /Restaurant_Review-g187309-d6864963-Reviews-Au...  d6864963  "
      ]
     },
     "execution_count": 776,
     "metadata": {},
     "output_type": "execute_result"
    }
   ],
   "source": [
    "df_train.head(5)"
   ]
  },
  {
   "cell_type": "code",
   "execution_count": 777,
   "metadata": {
    "execution": {
     "iopub.execute_input": "2021-10-10T13:57:05.841727Z",
     "iopub.status.busy": "2021-10-10T13:57:05.841187Z",
     "iopub.status.idle": "2021-10-10T13:57:05.857976Z",
     "shell.execute_reply": "2021-10-10T13:57:05.857129Z",
     "shell.execute_reply.started": "2021-10-10T13:57:05.841674Z"
    }
   },
   "outputs": [
    {
     "name": "stdout",
     "output_type": "stream",
     "text": [
      "<class 'pandas.core.frame.DataFrame'>\n",
      "RangeIndex: 10000 entries, 0 to 9999\n",
      "Data columns (total 9 columns):\n",
      " #   Column             Non-Null Count  Dtype  \n",
      "---  ------             --------------  -----  \n",
      " 0   Restaurant_id      10000 non-null  object \n",
      " 1   City               10000 non-null  object \n",
      " 2   Cuisine Style      7693 non-null   object \n",
      " 3   Ranking            10000 non-null  float64\n",
      " 4   Price Range        6525 non-null   object \n",
      " 5   Number of Reviews  9343 non-null   float64\n",
      " 6   Reviews            9998 non-null   object \n",
      " 7   URL_TA             10000 non-null  object \n",
      " 8   ID_TA              10000 non-null  object \n",
      "dtypes: float64(2), object(7)\n",
      "memory usage: 703.2+ KB\n"
     ]
    }
   ],
   "source": [
    "df_test.info()"
   ]
  },
  {
   "cell_type": "code",
   "execution_count": 778,
   "metadata": {
    "execution": {
     "iopub.execute_input": "2021-10-10T13:57:05.859384Z",
     "iopub.status.busy": "2021-10-10T13:57:05.859150Z",
     "iopub.status.idle": "2021-10-10T13:57:05.875230Z",
     "shell.execute_reply": "2021-10-10T13:57:05.874204Z",
     "shell.execute_reply.started": "2021-10-10T13:57:05.859346Z"
    }
   },
   "outputs": [
    {
     "data": {
      "text/html": [
       "<div>\n",
       "<style scoped>\n",
       "    .dataframe tbody tr th:only-of-type {\n",
       "        vertical-align: middle;\n",
       "    }\n",
       "\n",
       "    .dataframe tbody tr th {\n",
       "        vertical-align: top;\n",
       "    }\n",
       "\n",
       "    .dataframe thead th {\n",
       "        text-align: right;\n",
       "    }\n",
       "</style>\n",
       "<table border=\"1\" class=\"dataframe\">\n",
       "  <thead>\n",
       "    <tr style=\"text-align: right;\">\n",
       "      <th></th>\n",
       "      <th>Restaurant_id</th>\n",
       "      <th>City</th>\n",
       "      <th>Cuisine Style</th>\n",
       "      <th>Ranking</th>\n",
       "      <th>Price Range</th>\n",
       "      <th>Number of Reviews</th>\n",
       "      <th>Reviews</th>\n",
       "      <th>URL_TA</th>\n",
       "      <th>ID_TA</th>\n",
       "    </tr>\n",
       "  </thead>\n",
       "  <tbody>\n",
       "    <tr>\n",
       "      <th>0</th>\n",
       "      <td>id_0</td>\n",
       "      <td>Paris</td>\n",
       "      <td>['Bar', 'Pub']</td>\n",
       "      <td>12963.0</td>\n",
       "      <td>$$ - $$$</td>\n",
       "      <td>4.0</td>\n",
       "      <td>[[], []]</td>\n",
       "      <td>/Restaurant_Review-g187147-d10746918-Reviews-L...</td>\n",
       "      <td>d10746918</td>\n",
       "    </tr>\n",
       "    <tr>\n",
       "      <th>1</th>\n",
       "      <td>id_1</td>\n",
       "      <td>Helsinki</td>\n",
       "      <td>['European', 'Scandinavian', 'Gluten Free Opti...</td>\n",
       "      <td>106.0</td>\n",
       "      <td>$$ - $$$</td>\n",
       "      <td>97.0</td>\n",
       "      <td>[['Very good reviews!', 'Fine dining in Hakani...</td>\n",
       "      <td>/Restaurant_Review-g189934-d6674944-Reviews-Ra...</td>\n",
       "      <td>d6674944</td>\n",
       "    </tr>\n",
       "    <tr>\n",
       "      <th>2</th>\n",
       "      <td>id_2</td>\n",
       "      <td>Edinburgh</td>\n",
       "      <td>['Vegetarian Friendly']</td>\n",
       "      <td>810.0</td>\n",
       "      <td>$$ - $$$</td>\n",
       "      <td>28.0</td>\n",
       "      <td>[['Better than the Links', 'Ivy Black'], ['12/...</td>\n",
       "      <td>/Restaurant_Review-g186525-d13129638-Reviews-B...</td>\n",
       "      <td>d13129638</td>\n",
       "    </tr>\n",
       "    <tr>\n",
       "      <th>3</th>\n",
       "      <td>id_3</td>\n",
       "      <td>London</td>\n",
       "      <td>['Italian', 'Mediterranean', 'European', 'Vege...</td>\n",
       "      <td>1669.0</td>\n",
       "      <td>$$$$</td>\n",
       "      <td>202.0</td>\n",
       "      <td>[['Most exquisite', 'Delicious and authentic']...</td>\n",
       "      <td>/Restaurant_Review-g186338-d680417-Reviews-Qui...</td>\n",
       "      <td>d680417</td>\n",
       "    </tr>\n",
       "    <tr>\n",
       "      <th>4</th>\n",
       "      <td>id_4</td>\n",
       "      <td>Bratislava</td>\n",
       "      <td>['Italian', 'Mediterranean', 'European', 'Seaf...</td>\n",
       "      <td>37.0</td>\n",
       "      <td>$$$$</td>\n",
       "      <td>162.0</td>\n",
       "      <td>[['Always the best in bratislava', 'Very good ...</td>\n",
       "      <td>/Restaurant_Review-g274924-d1112354-Reviews-Ma...</td>\n",
       "      <td>d1112354</td>\n",
       "    </tr>\n",
       "  </tbody>\n",
       "</table>\n",
       "</div>"
      ],
      "text/plain": [
       "  Restaurant_id        City  \\\n",
       "0          id_0       Paris   \n",
       "1          id_1    Helsinki   \n",
       "2          id_2   Edinburgh   \n",
       "3          id_3      London   \n",
       "4          id_4  Bratislava   \n",
       "\n",
       "                                       Cuisine Style  Ranking Price Range  \\\n",
       "0                                     ['Bar', 'Pub']  12963.0    $$ - $$$   \n",
       "1  ['European', 'Scandinavian', 'Gluten Free Opti...    106.0    $$ - $$$   \n",
       "2                            ['Vegetarian Friendly']    810.0    $$ - $$$   \n",
       "3  ['Italian', 'Mediterranean', 'European', 'Vege...   1669.0        $$$$   \n",
       "4  ['Italian', 'Mediterranean', 'European', 'Seaf...     37.0        $$$$   \n",
       "\n",
       "   Number of Reviews                                            Reviews  \\\n",
       "0                4.0                                           [[], []]   \n",
       "1               97.0  [['Very good reviews!', 'Fine dining in Hakani...   \n",
       "2               28.0  [['Better than the Links', 'Ivy Black'], ['12/...   \n",
       "3              202.0  [['Most exquisite', 'Delicious and authentic']...   \n",
       "4              162.0  [['Always the best in bratislava', 'Very good ...   \n",
       "\n",
       "                                              URL_TA      ID_TA  \n",
       "0  /Restaurant_Review-g187147-d10746918-Reviews-L...  d10746918  \n",
       "1  /Restaurant_Review-g189934-d6674944-Reviews-Ra...   d6674944  \n",
       "2  /Restaurant_Review-g186525-d13129638-Reviews-B...  d13129638  \n",
       "3  /Restaurant_Review-g186338-d680417-Reviews-Qui...    d680417  \n",
       "4  /Restaurant_Review-g274924-d1112354-Reviews-Ma...   d1112354  "
      ]
     },
     "execution_count": 778,
     "metadata": {},
     "output_type": "execute_result"
    }
   ],
   "source": [
    "df_test.head(5)"
   ]
  },
  {
   "cell_type": "code",
   "execution_count": 779,
   "metadata": {
    "execution": {
     "iopub.execute_input": "2021-10-10T13:57:05.876706Z",
     "iopub.status.busy": "2021-10-10T13:57:05.876460Z",
     "iopub.status.idle": "2021-10-10T13:57:05.889954Z",
     "shell.execute_reply": "2021-10-10T13:57:05.889220Z",
     "shell.execute_reply.started": "2021-10-10T13:57:05.876657Z"
    }
   },
   "outputs": [
    {
     "data": {
      "text/html": [
       "<div>\n",
       "<style scoped>\n",
       "    .dataframe tbody tr th:only-of-type {\n",
       "        vertical-align: middle;\n",
       "    }\n",
       "\n",
       "    .dataframe tbody tr th {\n",
       "        vertical-align: top;\n",
       "    }\n",
       "\n",
       "    .dataframe thead th {\n",
       "        text-align: right;\n",
       "    }\n",
       "</style>\n",
       "<table border=\"1\" class=\"dataframe\">\n",
       "  <thead>\n",
       "    <tr style=\"text-align: right;\">\n",
       "      <th></th>\n",
       "      <th>Restaurant_id</th>\n",
       "      <th>Rating</th>\n",
       "    </tr>\n",
       "  </thead>\n",
       "  <tbody>\n",
       "    <tr>\n",
       "      <th>0</th>\n",
       "      <td>id_0</td>\n",
       "      <td>2.0</td>\n",
       "    </tr>\n",
       "    <tr>\n",
       "      <th>1</th>\n",
       "      <td>id_1</td>\n",
       "      <td>2.5</td>\n",
       "    </tr>\n",
       "    <tr>\n",
       "      <th>2</th>\n",
       "      <td>id_2</td>\n",
       "      <td>4.0</td>\n",
       "    </tr>\n",
       "    <tr>\n",
       "      <th>3</th>\n",
       "      <td>id_3</td>\n",
       "      <td>1.0</td>\n",
       "    </tr>\n",
       "    <tr>\n",
       "      <th>4</th>\n",
       "      <td>id_4</td>\n",
       "      <td>4.0</td>\n",
       "    </tr>\n",
       "  </tbody>\n",
       "</table>\n",
       "</div>"
      ],
      "text/plain": [
       "  Restaurant_id  Rating\n",
       "0          id_0     2.0\n",
       "1          id_1     2.5\n",
       "2          id_2     4.0\n",
       "3          id_3     1.0\n",
       "4          id_4     4.0"
      ]
     },
     "execution_count": 779,
     "metadata": {},
     "output_type": "execute_result"
    }
   ],
   "source": [
    "sample_submission.head(5)"
   ]
  },
  {
   "cell_type": "code",
   "execution_count": 780,
   "metadata": {
    "execution": {
     "iopub.execute_input": "2021-10-10T13:57:05.891679Z",
     "iopub.status.busy": "2021-10-10T13:57:05.891260Z",
     "iopub.status.idle": "2021-10-10T13:57:05.903971Z",
     "shell.execute_reply": "2021-10-10T13:57:05.902941Z",
     "shell.execute_reply.started": "2021-10-10T13:57:05.891499Z"
    }
   },
   "outputs": [
    {
     "name": "stdout",
     "output_type": "stream",
     "text": [
      "<class 'pandas.core.frame.DataFrame'>\n",
      "RangeIndex: 10000 entries, 0 to 9999\n",
      "Data columns (total 2 columns):\n",
      " #   Column         Non-Null Count  Dtype  \n",
      "---  ------         --------------  -----  \n",
      " 0   Restaurant_id  10000 non-null  object \n",
      " 1   Rating         10000 non-null  float64\n",
      "dtypes: float64(1), object(1)\n",
      "memory usage: 156.4+ KB\n"
     ]
    }
   ],
   "source": [
    "sample_submission.info()"
   ]
  },
  {
   "cell_type": "code",
   "execution_count": 781,
   "metadata": {
    "execution": {
     "iopub.execute_input": "2021-10-10T13:57:05.905689Z",
     "iopub.status.busy": "2021-10-10T13:57:05.905344Z",
     "iopub.status.idle": "2021-10-10T13:57:05.954107Z",
     "shell.execute_reply": "2021-10-10T13:57:05.953241Z",
     "shell.execute_reply.started": "2021-10-10T13:57:05.905627Z"
    }
   },
   "outputs": [],
   "source": [
    "# ВАЖНО! дря корректной обработки признаков объединяем трейн и тест в один датасет\n",
    "df_train['sample'] = 1 # помечаем где у нас трейн\n",
    "df_test['sample'] = 0 # помечаем где у нас тест\n",
    "df_test['Rating'] = 0 # в тесте у нас нет значения Rating, мы его должны предсказать, по этому пока просто заполняем нулями\n",
    "\n",
    "data = df_test.append(df_train, sort=False).reset_index(drop=True) # объединяем"
   ]
  },
  {
   "cell_type": "markdown",
   "metadata": {},
   "source": [
    "****EDA****"
   ]
  },
  {
   "cell_type": "code",
   "execution_count": 782,
   "metadata": {
    "execution": {
     "iopub.execute_input": "2021-10-10T13:57:05.955529Z",
     "iopub.status.busy": "2021-10-10T13:57:05.955309Z",
     "iopub.status.idle": "2021-10-10T13:57:05.998887Z",
     "shell.execute_reply": "2021-10-10T13:57:05.997852Z",
     "shell.execute_reply.started": "2021-10-10T13:57:05.955498Z"
    }
   },
   "outputs": [
    {
     "name": "stdout",
     "output_type": "stream",
     "text": [
      "<class 'pandas.core.frame.DataFrame'>\n",
      "RangeIndex: 50000 entries, 0 to 49999\n",
      "Data columns (total 11 columns):\n",
      " #   Column             Non-Null Count  Dtype  \n",
      "---  ------             --------------  -----  \n",
      " 0   Restaurant_id      50000 non-null  object \n",
      " 1   City               50000 non-null  object \n",
      " 2   Cuisine Style      38410 non-null  object \n",
      " 3   Ranking            50000 non-null  float64\n",
      " 4   Price Range        32639 non-null  object \n",
      " 5   Number of Reviews  46800 non-null  float64\n",
      " 6   Reviews            49998 non-null  object \n",
      " 7   URL_TA             50000 non-null  object \n",
      " 8   ID_TA              50000 non-null  object \n",
      " 9   sample             50000 non-null  int64  \n",
      " 10  Rating             50000 non-null  float64\n",
      "dtypes: float64(3), int64(1), object(7)\n",
      "memory usage: 4.2+ MB\n"
     ]
    }
   ],
   "source": [
    "data.info()"
   ]
  },
  {
   "cell_type": "markdown",
   "metadata": {},
   "source": [
    "Подробнее по признакам:\n",
    "* City: Город \n",
    "* Cuisine Style: Кухня\n",
    "* Ranking: Ранг ресторана относительно других ресторанов в этом городе\n",
    "* Price Range: Цены в ресторане в 3 категориях\n",
    "* Number of Reviews: Количество отзывов\n",
    "* Reviews: 2 последних отзыва и даты этих отзывов\n",
    "* URL_TA: страница ресторана на 'www.tripadvisor.com' \n",
    "* ID_TA: ID ресторана в TripAdvisor\n",
    "* Rating: Рейтинг ресторана"
   ]
  },
  {
   "cell_type": "markdown",
   "metadata": {},
   "source": [
    "К категориальным признак относятся:<br/>\n",
    "* Price Range<br/>\n",
    "* City<br/>\n",
    "* Cuisine Style<br/>\n",
    "* Reviews<br/>\n",
    "* Restaurant_id<br/>\n",
    "* ID_TA<br/>\n",
    "* URL_TA<br/>"
   ]
  },
  {
   "cell_type": "markdown",
   "metadata": {},
   "source": [
    "К количественным признакам:\n",
    "* Ranking\n",
    "* Rating\n",
    "* Number of Reviews"
   ]
  },
  {
   "cell_type": "code",
   "execution_count": 783,
   "metadata": {
    "execution": {
     "iopub.execute_input": "2021-10-10T13:57:06.000676Z",
     "iopub.status.busy": "2021-10-10T13:57:06.000438Z",
     "iopub.status.idle": "2021-10-10T13:57:06.019355Z",
     "shell.execute_reply": "2021-10-10T13:57:06.018488Z",
     "shell.execute_reply.started": "2021-10-10T13:57:06.000634Z"
    }
   },
   "outputs": [
    {
     "data": {
      "text/html": [
       "<div>\n",
       "<style scoped>\n",
       "    .dataframe tbody tr th:only-of-type {\n",
       "        vertical-align: middle;\n",
       "    }\n",
       "\n",
       "    .dataframe tbody tr th {\n",
       "        vertical-align: top;\n",
       "    }\n",
       "\n",
       "    .dataframe thead th {\n",
       "        text-align: right;\n",
       "    }\n",
       "</style>\n",
       "<table border=\"1\" class=\"dataframe\">\n",
       "  <thead>\n",
       "    <tr style=\"text-align: right;\">\n",
       "      <th></th>\n",
       "      <th>Restaurant_id</th>\n",
       "      <th>City</th>\n",
       "      <th>Cuisine Style</th>\n",
       "      <th>Ranking</th>\n",
       "      <th>Price Range</th>\n",
       "      <th>Number of Reviews</th>\n",
       "      <th>Reviews</th>\n",
       "      <th>URL_TA</th>\n",
       "      <th>ID_TA</th>\n",
       "      <th>sample</th>\n",
       "      <th>Rating</th>\n",
       "    </tr>\n",
       "  </thead>\n",
       "  <tbody>\n",
       "    <tr>\n",
       "      <th>31335</th>\n",
       "      <td>id_10542</td>\n",
       "      <td>Paris</td>\n",
       "      <td>['Mediterranean', 'European', 'Spanish']</td>\n",
       "      <td>10544.0</td>\n",
       "      <td>$$ - $$$</td>\n",
       "      <td>368.0</td>\n",
       "      <td>[['Tasty food, but unable to give more positi....</td>\n",
       "      <td>/Restaurant_Review-g187147-d815672-Reviews-Cas...</td>\n",
       "      <td>d815672</td>\n",
       "      <td>1</td>\n",
       "      <td>3.0</td>\n",
       "    </tr>\n",
       "    <tr>\n",
       "      <th>41660</th>\n",
       "      <td>id_2211</td>\n",
       "      <td>Berlin</td>\n",
       "      <td>['Sushi']</td>\n",
       "      <td>2213.0</td>\n",
       "      <td>$$ - $$$</td>\n",
       "      <td>26.0</td>\n",
       "      <td>[['Delicious Japanese food', 'Excellent Sushi ...</td>\n",
       "      <td>/Restaurant_Review-g187323-d5507185-Reviews-Ki...</td>\n",
       "      <td>d5507185</td>\n",
       "      <td>1</td>\n",
       "      <td>4.0</td>\n",
       "    </tr>\n",
       "    <tr>\n",
       "      <th>47679</th>\n",
       "      <td>id_3108</td>\n",
       "      <td>Rome</td>\n",
       "      <td>['Italian', 'Pizza']</td>\n",
       "      <td>3109.0</td>\n",
       "      <td>$$ - $$$</td>\n",
       "      <td>407.0</td>\n",
       "      <td>[['Fred Flintstone would be proud.', 'Michelin...</td>\n",
       "      <td>/Restaurant_Review-g187791-d3756319-Reviews-Os...</td>\n",
       "      <td>d3756319</td>\n",
       "      <td>1</td>\n",
       "      <td>4.0</td>\n",
       "    </tr>\n",
       "    <tr>\n",
       "      <th>1215</th>\n",
       "      <td>id_1215</td>\n",
       "      <td>Munich</td>\n",
       "      <td>['Italian', 'Mediterranean', 'Vegetarian Frien...</td>\n",
       "      <td>754.0</td>\n",
       "      <td>$$ - $$$</td>\n",
       "      <td>40.0</td>\n",
       "      <td>[['Delicious', 'One of the best in munich'], [...</td>\n",
       "      <td>/Restaurant_Review-g187309-d2481127-Reviews-Os...</td>\n",
       "      <td>d2481127</td>\n",
       "      <td>0</td>\n",
       "      <td>0.0</td>\n",
       "    </tr>\n",
       "    <tr>\n",
       "      <th>48715</th>\n",
       "      <td>id_6479</td>\n",
       "      <td>Barcelona</td>\n",
       "      <td>['Mediterranean', 'Spanish']</td>\n",
       "      <td>6480.0</td>\n",
       "      <td>$$ - $$$</td>\n",
       "      <td>22.0</td>\n",
       "      <td>[['Decent food', 'Maybe the tapas are better']...</td>\n",
       "      <td>/Restaurant_Review-g187497-d2023511-Reviews-Re...</td>\n",
       "      <td>d2023511</td>\n",
       "      <td>1</td>\n",
       "      <td>4.0</td>\n",
       "    </tr>\n",
       "  </tbody>\n",
       "</table>\n",
       "</div>"
      ],
      "text/plain": [
       "      Restaurant_id       City  \\\n",
       "31335      id_10542      Paris   \n",
       "41660       id_2211     Berlin   \n",
       "47679       id_3108       Rome   \n",
       "1215        id_1215     Munich   \n",
       "48715       id_6479  Barcelona   \n",
       "\n",
       "                                           Cuisine Style  Ranking Price Range  \\\n",
       "31335           ['Mediterranean', 'European', 'Spanish']  10544.0    $$ - $$$   \n",
       "41660                                          ['Sushi']   2213.0    $$ - $$$   \n",
       "47679                               ['Italian', 'Pizza']   3109.0    $$ - $$$   \n",
       "1215   ['Italian', 'Mediterranean', 'Vegetarian Frien...    754.0    $$ - $$$   \n",
       "48715                       ['Mediterranean', 'Spanish']   6480.0    $$ - $$$   \n",
       "\n",
       "       Number of Reviews                                            Reviews  \\\n",
       "31335              368.0  [['Tasty food, but unable to give more positi....   \n",
       "41660               26.0  [['Delicious Japanese food', 'Excellent Sushi ...   \n",
       "47679              407.0  [['Fred Flintstone would be proud.', 'Michelin...   \n",
       "1215                40.0  [['Delicious', 'One of the best in munich'], [...   \n",
       "48715               22.0  [['Decent food', 'Maybe the tapas are better']...   \n",
       "\n",
       "                                                  URL_TA     ID_TA  sample  \\\n",
       "31335  /Restaurant_Review-g187147-d815672-Reviews-Cas...   d815672       1   \n",
       "41660  /Restaurant_Review-g187323-d5507185-Reviews-Ki...  d5507185       1   \n",
       "47679  /Restaurant_Review-g187791-d3756319-Reviews-Os...  d3756319       1   \n",
       "1215   /Restaurant_Review-g187309-d2481127-Reviews-Os...  d2481127       0   \n",
       "48715  /Restaurant_Review-g187497-d2023511-Reviews-Re...  d2023511       1   \n",
       "\n",
       "       Rating  \n",
       "31335     3.0  \n",
       "41660     4.0  \n",
       "47679     4.0  \n",
       "1215      0.0  \n",
       "48715     4.0  "
      ]
     },
     "execution_count": 783,
     "metadata": {},
     "output_type": "execute_result"
    }
   ],
   "source": [
    "data.sample(5)"
   ]
  },
  {
   "cell_type": "markdown",
   "metadata": {},
   "source": [
    "Признаки, состоящие из нескольких слов"
   ]
  },
  {
   "cell_type": "code",
   "execution_count": 784,
   "metadata": {
    "execution": {
     "iopub.execute_input": "2021-10-10T13:57:06.021174Z",
     "iopub.status.busy": "2021-10-10T13:57:06.020800Z",
     "iopub.status.idle": "2021-10-10T13:57:06.030746Z",
     "shell.execute_reply": "2021-10-10T13:57:06.029893Z",
     "shell.execute_reply.started": "2021-10-10T13:57:06.021096Z"
    }
   },
   "outputs": [
    {
     "data": {
      "text/plain": [
       "\"['European', 'Scandinavian', 'Gluten Free Options', 'Vegetarian Friendly', 'Vegan Options']\""
      ]
     },
     "execution_count": 784,
     "metadata": {},
     "output_type": "execute_result"
    }
   ],
   "source": [
    "data['Cuisine Style'][1]"
   ]
  },
  {
   "cell_type": "code",
   "execution_count": 785,
   "metadata": {
    "execution": {
     "iopub.execute_input": "2021-10-10T13:57:06.032878Z",
     "iopub.status.busy": "2021-10-10T13:57:06.032459Z",
     "iopub.status.idle": "2021-10-10T13:57:06.039076Z",
     "shell.execute_reply": "2021-10-10T13:57:06.038108Z",
     "shell.execute_reply.started": "2021-10-10T13:57:06.032816Z"
    }
   },
   "outputs": [
    {
     "data": {
      "text/plain": [
       "'/Restaurant_Review-g189934-d6674944-Reviews-Ravintola_Kolmon3n-Helsinki_Uusimaa.html'"
      ]
     },
     "execution_count": 785,
     "metadata": {},
     "output_type": "execute_result"
    }
   ],
   "source": [
    "data['URL_TA'][1]"
   ]
  },
  {
   "cell_type": "code",
   "execution_count": 786,
   "metadata": {
    "execution": {
     "iopub.execute_input": "2021-10-10T13:57:06.040682Z",
     "iopub.status.busy": "2021-10-10T13:57:06.040364Z",
     "iopub.status.idle": "2021-10-10T13:57:06.048554Z",
     "shell.execute_reply": "2021-10-10T13:57:06.047517Z",
     "shell.execute_reply.started": "2021-10-10T13:57:06.040607Z"
    }
   },
   "outputs": [
    {
     "data": {
      "text/plain": [
       "\"[['Very good reviews!', 'Fine dining in Hakaniemi'], ['12/05/2017', '10/29/2017']]\""
      ]
     },
     "execution_count": 786,
     "metadata": {},
     "output_type": "execute_result"
    }
   ],
   "source": [
    "data['Reviews'][1]"
   ]
  },
  {
   "cell_type": "markdown",
   "metadata": {},
   "source": [
    "Как видим, большинство признаков у нас требует очистки и предварительной обработки."
   ]
  },
  {
   "cell_type": "markdown",
   "metadata": {},
   "source": [
    "## Обработка NAN \n",
    "У наличия пропусков могут быть разные причины, но пропуски нужно либо заполнить, либо исключить из набора полностью. Но с пропусками нужно быть внимательным, **даже отсутствие информации может быть важным признаком!**   \n",
    "По этому перед обработкой NAN лучше вынести информацию о наличии пропуска как отдельный признак "
   ]
  },
  {
   "cell_type": "markdown",
   "metadata": {},
   "source": [
    "# Количество и процент пропусков по каждому признаку"
   ]
  },
  {
   "cell_type": "code",
   "execution_count": 787,
   "metadata": {
    "execution": {
     "iopub.execute_input": "2021-10-10T13:57:06.050245Z",
     "iopub.status.busy": "2021-10-10T13:57:06.049935Z",
     "iopub.status.idle": "2021-10-10T13:57:06.098975Z",
     "shell.execute_reply": "2021-10-10T13:57:06.098089Z",
     "shell.execute_reply.started": "2021-10-10T13:57:06.050189Z"
    }
   },
   "outputs": [
    {
     "name": "stdout",
     "output_type": "stream",
     "text": [
      "                   Количество     %\n",
      "Restaurant_id               0   0.0\n",
      "City                        0   0.0\n",
      "Cuisine Style           11590  23.0\n",
      "Ranking                     0   0.0\n",
      "Price Range             17361  35.0\n",
      "Number of Reviews        3200   6.0\n",
      "Reviews                     2   0.0\n",
      "URL_TA                      0   0.0\n",
      "ID_TA                       0   0.0\n",
      "sample                      0   0.0\n",
      "Rating                      0   0.0\n"
     ]
    }
   ],
   "source": [
    "\n",
    "nan_df = pd.DataFrame(data.isna().sum(), columns=['Количество'])\n",
    "\n",
    "nan_df['%'] = nan_df['Количество'].apply(lambda x: round((x/len(data))*100, 0))\n",
    "print(nan_df)"
   ]
  },
  {
   "cell_type": "markdown",
   "metadata": {},
   "source": [
    "Откуда следует, что пропуски имеют только 4 признака из 10\n"
   ]
  },
  {
   "cell_type": "markdown",
   "metadata": {},
   "source": [
    "# Проверим какое максимальное количество пропусков в строке"
   ]
  },
  {
   "cell_type": "code",
   "execution_count": 788,
   "metadata": {
    "execution": {
     "iopub.execute_input": "2021-10-10T13:57:06.100518Z",
     "iopub.status.busy": "2021-10-10T13:57:06.100290Z",
     "iopub.status.idle": "2021-10-10T13:57:18.653713Z",
     "shell.execute_reply": "2021-10-10T13:57:18.652855Z",
     "shell.execute_reply.started": "2021-10-10T13:57:06.100479Z"
    }
   },
   "outputs": [
    {
     "name": "stdout",
     "output_type": "stream",
     "text": [
      "Максимум незаполненных строк в датафрейме: 36.36 %\n"
     ]
    },
    {
     "data": {
      "text/html": [
       "<div>\n",
       "<style scoped>\n",
       "    .dataframe tbody tr th:only-of-type {\n",
       "        vertical-align: middle;\n",
       "    }\n",
       "\n",
       "    .dataframe tbody tr th {\n",
       "        vertical-align: top;\n",
       "    }\n",
       "\n",
       "    .dataframe thead th {\n",
       "        text-align: right;\n",
       "    }\n",
       "</style>\n",
       "<table border=\"1\" class=\"dataframe\">\n",
       "  <thead>\n",
       "    <tr style=\"text-align: right;\">\n",
       "      <th></th>\n",
       "      <th>Количество случаев строке</th>\n",
       "      <th>Количество пропусков в строке</th>\n",
       "      <th>Процент незаполненных значений в строке</th>\n",
       "    </tr>\n",
       "  </thead>\n",
       "  <tbody>\n",
       "    <tr>\n",
       "      <th>0</th>\n",
       "      <td>1</td>\n",
       "      <td>4</td>\n",
       "      <td>36.0 %</td>\n",
       "    </tr>\n",
       "    <tr>\n",
       "      <th>1</th>\n",
       "      <td>1710</td>\n",
       "      <td>3</td>\n",
       "      <td>27.0 %</td>\n",
       "    </tr>\n",
       "    <tr>\n",
       "      <th>2</th>\n",
       "      <td>5341</td>\n",
       "      <td>2</td>\n",
       "      <td>18.0 %</td>\n",
       "    </tr>\n",
       "    <tr>\n",
       "      <th>3</th>\n",
       "      <td>10839</td>\n",
       "      <td>1</td>\n",
       "      <td>9.0 %</td>\n",
       "    </tr>\n",
       "    <tr>\n",
       "      <th>4</th>\n",
       "      <td>32109</td>\n",
       "      <td>0</td>\n",
       "      <td>0.0 %</td>\n",
       "    </tr>\n",
       "  </tbody>\n",
       "</table>\n",
       "</div>"
      ],
      "text/plain": [
       "   Количество случаев строке  Количество пропусков в строке  \\\n",
       "0                          1                              4   \n",
       "1                       1710                              3   \n",
       "2                       5341                              2   \n",
       "3                      10839                              1   \n",
       "4                      32109                              0   \n",
       "\n",
       "  Процент незаполненных значений в строке  \n",
       "0                                  36.0 %  \n",
       "1                                  27.0 %  \n",
       "2                                  18.0 %  \n",
       "3                                   9.0 %  \n",
       "4                                   0.0 %  "
      ]
     },
     "execution_count": 788,
     "metadata": {},
     "output_type": "execute_result"
    }
   ],
   "source": [
    "\n",
    "Count_rows = data.apply(lambda x: sum(x.isnull()), axis=1).value_counts()\n",
    "percent_nans = round(pd.Series(\n",
    "    Count_rows.index/data.shape[1]*100)).sort_values(ascending=False).astype(str)+' %'\n",
    "misses = max(data.apply(lambda x: sum(x.isnull()), axis=1))/ data.shape[1]\n",
    "print('Максимум незаполненных строк в датафрейме:', round(misses*100, 2), \"%\")\n",
    "pd.DataFrame({'Количество случаев строке': Count_rows,\n",
    "              'Количество пропусков в строке': Count_rows.index,\n",
    "              'Процент незаполненных значений в строке': percent_nans}).sort_values('Количество пропусков в строке', ascending=False).reset_index().drop('index', axis=1)"
   ]
  },
  {
   "cell_type": "markdown",
   "metadata": {},
   "source": [
    "# Проверим наличие дубликатов по всем строкам"
   ]
  },
  {
   "cell_type": "code",
   "execution_count": 789,
   "metadata": {
    "execution": {
     "iopub.execute_input": "2021-10-10T13:57:18.655541Z",
     "iopub.status.busy": "2021-10-10T13:57:18.655187Z",
     "iopub.status.idle": "2021-10-10T13:57:18.750111Z",
     "shell.execute_reply": "2021-10-10T13:57:18.749021Z",
     "shell.execute_reply.started": "2021-10-10T13:57:18.655468Z"
    }
   },
   "outputs": [
    {
     "name": "stdout",
     "output_type": "stream",
     "text": [
      "Дубликатов нет\n"
     ]
    }
   ],
   "source": [
    "if len(data)>len(data.drop_duplicates()):\n",
    "    print('Дубликаты есть')\n",
    "    display(data[data.duplicated()])\n",
    "else:\n",
    "    print('Дубликатов нет')\n",
    "\n"
   ]
  },
  {
   "cell_type": "markdown",
   "metadata": {},
   "source": [
    "# Обозначим количество пропусков в новых столбцах"
   ]
  },
  {
   "cell_type": "code",
   "execution_count": 790,
   "metadata": {
    "execution": {
     "iopub.execute_input": "2021-10-10T13:57:18.753617Z",
     "iopub.status.busy": "2021-10-10T13:57:18.753369Z",
     "iopub.status.idle": "2021-10-10T13:57:18.770237Z",
     "shell.execute_reply": "2021-10-10T13:57:18.769451Z",
     "shell.execute_reply.started": "2021-10-10T13:57:18.753574Z"
    }
   },
   "outputs": [],
   "source": [
    "data['Number_of_Reviews_isNAN'] = pd.isna(data['Number of Reviews']).astype('uint8')\n",
    "data['Price_Range_isNAN'] = pd.isna(data['Price Range']).astype('uint8')\n",
    "data['Cuisine_Style_isNAN'] = pd.isna(data['Cuisine Style']).astype('uint8')"
   ]
  },
  {
   "cell_type": "markdown",
   "metadata": {},
   "source": [
    "#  Приведем в порядок колонку Restaurant_id "
   ]
  },
  {
   "cell_type": "code",
   "execution_count": 791,
   "metadata": {
    "execution": {
     "iopub.execute_input": "2021-10-10T13:57:18.771305Z",
     "iopub.status.busy": "2021-10-10T13:57:18.771104Z",
     "iopub.status.idle": "2021-10-10T13:57:18.850043Z",
     "shell.execute_reply": "2021-10-10T13:57:18.849361Z",
     "shell.execute_reply.started": "2021-10-10T13:57:18.771274Z"
    }
   },
   "outputs": [],
   "source": [
    "data.Restaurant_id = data.Restaurant_id.apply(lambda x: x[3:])\n",
    "data.Restaurant_id = [int(x) for x in data.Restaurant_id]"
   ]
  },
  {
   "cell_type": "markdown",
   "metadata": {},
   "source": [
    "# Приведем к числовому формату значение ID в ID_TA"
   ]
  },
  {
   "cell_type": "code",
   "execution_count": 792,
   "metadata": {
    "execution": {
     "iopub.execute_input": "2021-10-10T13:57:18.851403Z",
     "iopub.status.busy": "2021-10-10T13:57:18.850993Z",
     "iopub.status.idle": "2021-10-10T13:57:18.915904Z",
     "shell.execute_reply": "2021-10-10T13:57:18.915229Z",
     "shell.execute_reply.started": "2021-10-10T13:57:18.851366Z"
    }
   },
   "outputs": [],
   "source": [
    "data.ID_TA = data.ID_TA.apply(lambda x: x[1:])\n",
    "data.ID_TA = [int(x) for x in data.ID_TA]"
   ]
  },
  {
   "cell_type": "markdown",
   "metadata": {},
   "source": [
    "# Проработаем колонку Cuisine Style"
   ]
  },
  {
   "cell_type": "code",
   "execution_count": 793,
   "metadata": {
    "execution": {
     "iopub.execute_input": "2021-10-10T13:57:18.917238Z",
     "iopub.status.busy": "2021-10-10T13:57:18.916882Z",
     "iopub.status.idle": "2021-10-10T13:57:19.004815Z",
     "shell.execute_reply": "2021-10-10T13:57:19.004038Z",
     "shell.execute_reply.started": "2021-10-10T13:57:18.917202Z"
    }
   },
   "outputs": [],
   "source": [
    "data['Cuisine Style'] = data['Cuisine Style'].astype(str).apply(lambda x: None if x.strip() == '' else x)\n",
    "data['Cuisine Style'] = data['Cuisine Style'].apply(lambda x: x.replace(\"['\", '').replace(\"', '\", ',').replace(\"']\", ''))"
   ]
  },
  {
   "cell_type": "markdown",
   "metadata": {},
   "source": [
    "# Название ресторана из URL"
   ]
  },
  {
   "cell_type": "code",
   "execution_count": 794,
   "metadata": {
    "execution": {
     "iopub.execute_input": "2021-10-10T13:57:19.159471Z",
     "iopub.status.busy": "2021-10-10T13:57:19.159143Z",
     "iopub.status.idle": "2021-10-10T13:57:19.406115Z",
     "shell.execute_reply": "2021-10-10T13:57:19.405426Z",
     "shell.execute_reply.started": "2021-10-10T13:57:19.159430Z"
    }
   },
   "outputs": [],
   "source": [
    "data['URL_TA'] = data['URL_TA'].astype(str).apply(lambda x: None if x.strip() == '' else x)\n",
    "data['URL_TA'] = data['URL_TA'].apply(lambda x: x.replace(\"/Restaurant_Review-\", '').replace(\".html\", '').replace('-Reviews-', '|'))\n",
    "data_m = data['URL_TA'].str.split('|', expand=True)\n",
    "data['restaurant'] = data_m[1]"
   ]
  },
  {
   "cell_type": "markdown",
   "metadata": {},
   "source": [
    "#  РАБОТА С ЧИСЛОВЫМИ ПРИЗНАКАМИ #"
   ]
  },
  {
   "cell_type": "markdown",
   "metadata": {},
   "source": [
    "# 1. Количество отзывов (Number of Reviews)"
   ]
  },
  {
   "cell_type": "code",
   "execution_count": 795,
   "metadata": {
    "execution": {
     "iopub.execute_input": "2021-10-10T13:59:26.162282Z",
     "iopub.status.busy": "2021-10-10T13:59:26.161918Z",
     "iopub.status.idle": "2021-10-10T13:59:26.175660Z",
     "shell.execute_reply": "2021-10-10T13:59:26.174958Z",
     "shell.execute_reply.started": "2021-10-10T13:59:26.162229Z"
    }
   },
   "outputs": [
    {
     "data": {
      "text/plain": [
       "count    46800.000000\n",
       "mean       124.471197\n",
       "std        294.114345\n",
       "min          2.000000\n",
       "25%          9.000000\n",
       "50%         33.000000\n",
       "75%        115.000000\n",
       "max       9660.000000\n",
       "Name: Number of Reviews, dtype: float64"
      ]
     },
     "execution_count": 795,
     "metadata": {},
     "output_type": "execute_result"
    }
   ],
   "source": [
    "data['Number of Reviews'].describe()\n"
   ]
  },
  {
   "cell_type": "code",
   "execution_count": 796,
   "metadata": {
    "execution": {
     "iopub.execute_input": "2021-10-10T13:59:32.136761Z",
     "iopub.status.busy": "2021-10-10T13:59:32.136226Z",
     "iopub.status.idle": "2021-10-10T13:59:32.439697Z",
     "shell.execute_reply": "2021-10-10T13:59:32.438840Z",
     "shell.execute_reply.started": "2021-10-10T13:59:32.136702Z"
    }
   },
   "outputs": [
    {
     "data": {
      "text/plain": [
       "Text(0.5, 0, 'Количество отзывов')"
      ]
     },
     "execution_count": 796,
     "metadata": {},
     "output_type": "execute_result"
    },
    {
     "data": {
      "image/png": "[encoded data removed]",
      "text/plain": [
       "<Figure size 432x288 with 1 Axes>"
      ]
     },
     "metadata": {
      "needs_background": "light"
     },
     "output_type": "display_data"
    }
   ],
   "source": [
    "fig = plt.figure()\n",
    "axes = fig.add_axes([0, 0, 1, 0.8])\n",
    "axes.hist(data['Number of Reviews'], bins=100)\n",
    "axes.set_title('Распределение по количеству отзывов')\n",
    "axes.set_ylabel('Количество ресторанов')\n",
    "axes.set_xlabel('Количество отзывов')"
   ]
  },
  {
   "cell_type": "markdown",
   "metadata": {},
   "source": [
    "# 1. 1 Определяем моду отзывов по городам и заполняем ими пропуски"
   ]
  },
  {
   "cell_type": "code",
   "execution_count": 797,
   "metadata": {
    "execution": {
     "iopub.execute_input": "2021-10-10T14:06:27.093427Z",
     "iopub.status.busy": "2021-10-10T14:06:27.092992Z",
     "iopub.status.idle": "2021-10-10T14:06:27.132120Z",
     "shell.execute_reply": "2021-10-10T14:06:27.131413Z",
     "shell.execute_reply.started": "2021-10-10T14:06:27.093387Z"
    }
   },
   "outputs": [],
   "source": [
    "data['Number of Reviews'] = data.groupby('City')['Number of Reviews'].transform(\n",
    "    lambda x: x.fillna(round(x.mode(), 0)))"
   ]
  },
  {
   "cell_type": "code",
   "execution_count": 798,
   "metadata": {
    "execution": {
     "iopub.status.busy": "2021-10-10T13:57:19.687343Z",
     "iopub.status.idle": "2021-10-10T13:57:19.688241Z"
    }
   },
   "outputs": [
    {
     "name": "stdout",
     "output_type": "stream",
     "text": [
      "<class 'pandas.core.frame.DataFrame'>\n",
      "RangeIndex: 50000 entries, 0 to 49999\n",
      "Data columns (total 15 columns):\n",
      " #   Column                   Non-Null Count  Dtype  \n",
      "---  ------                   --------------  -----  \n",
      " 0   Restaurant_id            50000 non-null  int64  \n",
      " 1   City                     50000 non-null  object \n",
      " 2   Cuisine Style            50000 non-null  object \n",
      " 3   Ranking                  50000 non-null  float64\n",
      " 4   Price Range              32639 non-null  object \n",
      " 5   Number of Reviews        46800 non-null  float64\n",
      " 6   Reviews                  49998 non-null  object \n",
      " 7   URL_TA                   50000 non-null  object \n",
      " 8   ID_TA                    50000 non-null  int64  \n",
      " 9   sample                   50000 non-null  int64  \n",
      " 10  Rating                   50000 non-null  float64\n",
      " 11  Number_of_Reviews_isNAN  50000 non-null  uint8  \n",
      " 12  Price_Range_isNAN        50000 non-null  uint8  \n",
      " 13  Cuisine_Style_isNAN      50000 non-null  uint8  \n",
      " 14  restaurant               50000 non-null  object \n",
      "dtypes: float64(3), int64(3), object(6), uint8(3)\n",
      "memory usage: 4.7+ MB\n"
     ]
    }
   ],
   "source": [
    "data.info()"
   ]
  },
  {
   "cell_type": "markdown",
   "metadata": {},
   "source": [
    "# 2. Место ресторана среди ресторанов своего города (Ranking)"
   ]
  },
  {
   "cell_type": "code",
   "execution_count": 799,
   "metadata": {},
   "outputs": [
    {
     "data": {
      "text/plain": [
       "<AxesSubplot:>"
      ]
     },
     "execution_count": 799,
     "metadata": {},
     "output_type": "execute_result"
    },
    {
     "data": {
      "image/png": "[encoded data removed]",
      "text/plain": [
       "<Figure size 720x504 with 1 Axes>"
      ]
     },
     "metadata": {
      "needs_background": "light"
     },
     "output_type": "display_data"
    }
   ],
   "source": [
    "plt.rcParams['figure.figsize'] = (10,7)\n",
    "df_train['Ranking'].hist(bins=100)"
   ]
  },
  {
   "cell_type": "code",
   "execution_count": 800,
   "metadata": {},
   "outputs": [
    {
     "data": {
      "text/plain": [
       "<AxesSubplot:>"
      ]
     },
     "execution_count": 800,
     "metadata": {},
     "output_type": "execute_result"
    },
    {
     "data": {
      "image/png": "[encoded data removed]",
      "text/plain": [
       "<Figure size 720x504 with 1 Axes>"
      ]
     },
     "metadata": {
      "needs_background": "light"
     },
     "output_type": "display_data"
    }
   ],
   "source": [
    "df_train['City'].value_counts(ascending=True).plot(kind='barh')"
   ]
  },
  {
   "cell_type": "code",
   "execution_count": 801,
   "metadata": {},
   "outputs": [
    {
     "data": {
      "text/plain": [
       "<AxesSubplot:>"
      ]
     },
     "execution_count": 801,
     "metadata": {},
     "output_type": "execute_result"
    },
    {
     "data": {
      "image/png": "[encoded data removed]",
      "text/plain": [
       "<Figure size 720x504 with 1 Axes>"
      ]
     },
     "metadata": {
      "needs_background": "light"
     },
     "output_type": "display_data"
    }
   ],
   "source": [
    "df_train['Ranking'][df_train['City'] == 'London'].hist(bins=100)"
   ]
  },
  {
   "cell_type": "markdown",
   "metadata": {},
   "source": [
    "Лидеры в топ 10 городов"
   ]
  },
  {
   "cell_type": "code",
   "execution_count": 802,
   "metadata": {},
   "outputs": [
    {
     "data": {
      "image/png": "[encoded data removed]",
      "text/plain": [
       "<Figure size 720x504 with 1 Axes>"
      ]
     },
     "metadata": {
      "needs_background": "light"
     },
     "output_type": "display_data"
    }
   ],
   "source": [
    "for x in (df_train['City'].value_counts())[0:10].index:\n",
    "    df_train['Ranking'][df_train['City'] == x].hist(bins=100)\n",
    "plt.show()"
   ]
  },
  {
   "cell_type": "markdown",
   "metadata": {},
   "source": [
    "Проведем нормализацию признака Ranking в пределах каждого города"
   ]
  },
  {
   "cell_type": "code",
   "execution_count": 803,
   "metadata": {},
   "outputs": [],
   "source": [
    "means = data.groupby('City')['Ranking'].mean()\n",
    "std = data.groupby('City')['Ranking'].std()\n",
    "data['Ranking'] = (data.Ranking - data.City.map(means))/(data.City.map(std))"
   ]
  },
  {
   "cell_type": "markdown",
   "metadata": {},
   "source": [
    "# 3. Целевая переменная (Rating)"
   ]
  },
  {
   "cell_type": "code",
   "execution_count": 804,
   "metadata": {},
   "outputs": [
    {
     "data": {
      "text/plain": [
       "<AxesSubplot:>"
      ]
     },
     "execution_count": 804,
     "metadata": {},
     "output_type": "execute_result"
    },
    {
     "data": {
      "image/png": "[encoded data removed]",
      "text/plain": [
       "<Figure size 720x504 with 1 Axes>"
      ]
     },
     "metadata": {
      "needs_background": "light"
     },
     "output_type": "display_data"
    }
   ],
   "source": [
    "df_train['Rating'].value_counts(ascending=True).plot(kind='barh')"
   ]
  },
  {
   "cell_type": "markdown",
   "metadata": {},
   "source": [
    "Целевая переменная принимает дискретные значения с шагом 0.5"
   ]
  },
  {
   "cell_type": "code",
   "execution_count": 805,
   "metadata": {},
   "outputs": [
    {
     "data": {
      "text/plain": [
       "<AxesSubplot:>"
      ]
     },
     "execution_count": 805,
     "metadata": {},
     "output_type": "execute_result"
    },
    {
     "data": {
      "image/png": "[encoded data removed]",
      "text/plain": [
       "<Figure size 720x504 with 1 Axes>"
      ]
     },
     "metadata": {
      "needs_background": "light"
     },
     "output_type": "display_data"
    }
   ],
   "source": [
    "data['Ranking'][data['Rating'] == 5].hist(bins=100)"
   ]
  },
  {
   "cell_type": "code",
   "execution_count": 806,
   "metadata": {},
   "outputs": [
    {
     "data": {
      "text/plain": [
       "<AxesSubplot:>"
      ]
     },
     "execution_count": 806,
     "metadata": {},
     "output_type": "execute_result"
    },
    {
     "data": {
      "image/png": "[encoded data removed]",
      "text/plain": [
       "<Figure size 720x504 with 1 Axes>"
      ]
     },
     "metadata": {
      "needs_background": "light"
     },
     "output_type": "display_data"
    }
   ],
   "source": [
    "df_train['City'].value_counts(ascending=True).plot(kind='barh')"
   ]
  },
  {
   "cell_type": "markdown",
   "metadata": {},
   "source": [
    "Лондон в лидерах)"
   ]
  },
  {
   "cell_type": "markdown",
   "metadata": {},
   "source": [
    "# КАТЕГОРИАЛЬНЫЕ (НОМИНАТИВНЫЕ) ПРИЗНАКИ"
   ]
  },
  {
   "cell_type": "markdown",
   "metadata": {},
   "source": [
    "# 1. Диапазон цен в ресторане (Price Range)"
   ]
  },
  {
   "cell_type": "code",
   "execution_count": 807,
   "metadata": {},
   "outputs": [
    {
     "data": {
      "text/plain": [
       "$$ - $$$    23041\n",
       "$            7816\n",
       "$$$$         1782\n",
       "Name: Price Range, dtype: int64"
      ]
     },
     "execution_count": 807,
     "metadata": {},
     "output_type": "execute_result"
    }
   ],
   "source": [
    "data['Price Range'].value_counts()"
   ]
  },
  {
   "cell_type": "markdown",
   "metadata": {},
   "source": [
    "Кодируем признак с помощью словаря"
   ]
  },
  {
   "cell_type": "code",
   "execution_count": 808,
   "metadata": {},
   "outputs": [],
   "source": [
    "price_dict = {'$': 1, '$$ - $$$': 2, '$$$$': 3}\n",
    "data['Price Range'] = data['Price Range'].replace(to_replace=price_dict)"
   ]
  },
  {
   "cell_type": "markdown",
   "metadata": {},
   "source": [
    "Заменяем пропуски наиболее часто встречающейся категорией"
   ]
  },
  {
   "cell_type": "code",
   "execution_count": 809,
   "metadata": {},
   "outputs": [],
   "source": [
    "mode_PR = data['Price Range'].mode()\n",
    "data['Price Range'] = data['Price Range'].fillna('mode_PR')\n"
   ]
  },
  {
   "cell_type": "markdown",
   "metadata": {},
   "source": [
    "# 2. Данные о двух отзывах (Reviews)"
   ]
  },
  {
   "cell_type": "code",
   "execution_count": 810,
   "metadata": {},
   "outputs": [
    {
     "data": {
      "text/plain": [
       "[[], []]                                                                                                                              8112\n",
       "[['Good restaurant for one meal.', 'Olive Garden Restaurant Warsaw. Food very...'], ['04/20/2015', '07/15/2013']]                        2\n",
       "[['Whenever in Madrid, we never miss this gem...', 'Underrated sushi restaurant with very good...'], ['04/11/2017', '12/02/2016']]       2\n",
       "[['Very average food. Over average prices.', 'great food with great service!'], ['11/17/2017', '08/17/2017']]                            2\n",
       "[['Delicious soup', 'My weekly treat'], ['03/19/2017', '07/30/2017']]                                                                    2\n",
       "                                                                                                                                      ... \n",
       "[['Amazing food and service!', 'Awesome little bar/restaurant'], ['11/01/2017', '07/23/2017']]                                           1\n",
       "[['Great doughnuts'], ['10/15/2017']]                                                                                                    1\n",
       "[['Work lunch', 'Jusst the juicce...'], ['05/16/2017', '07/15/2016']]                                                                    1\n",
       "[['Tasty big pizza!', 'Really tasty pizza'], ['12/27/2017', '11/26/2017']]                                                               1\n",
       "[['Nice place with authentic local food (betw...'], ['01/06/2018']]                                                                      1\n",
       "Name: Reviews, Length: 41857, dtype: int64"
      ]
     },
     "execution_count": 810,
     "metadata": {},
     "output_type": "execute_result"
    }
   ],
   "source": [
    "data['Reviews'].value_counts()"
   ]
  },
  {
   "cell_type": "markdown",
   "metadata": {},
   "source": [
    "Обработка колонки Reviews. Замена пустых значений, значением \"none\".Отсутствие отзывов зафиксируем в отдельную колонку"
   ]
  },
  {
   "cell_type": "code",
   "execution_count": 811,
   "metadata": {},
   "outputs": [],
   "source": [
    "data['Reviews'] = data.Reviews.apply(lambda x: None if x == '[[], []]' else x)\n",
    "data['Review_isNAN'] = pd.isna(data['Reviews']).astype('uint8')"
   ]
  },
  {
   "cell_type": "markdown",
   "metadata": {},
   "source": [
    "Разделим на 2 колонки: содержащий отзывы и содержащий даты"
   ]
  },
  {
   "cell_type": "code",
   "execution_count": 812,
   "metadata": {},
   "outputs": [],
   "source": [
    "data[['reviews_text', 'reviews_date']\n",
    "     ] = data['Reviews'].str.split(\"'],\", expand=True)"
   ]
  },
  {
   "cell_type": "markdown",
   "metadata": {},
   "source": [
    "Выделение даты"
   ]
  },
  {
   "cell_type": "code",
   "execution_count": 813,
   "metadata": {},
   "outputs": [],
   "source": [
    "data['reviews_date'] = data.reviews_date.dropna().astype(str).apply(\n",
    "    lambda x: None if pd.isnull(x) else re.compile('\\d*/\\d*/\\d*').findall(x))"
   ]
  },
  {
   "cell_type": "markdown",
   "metadata": {},
   "source": [
    "Функция для формирования списка даты в определенном формате:"
   ]
  },
  {
   "cell_type": "code",
   "execution_count": 814,
   "metadata": {},
   "outputs": [],
   "source": [
    "def to_time(line):\n",
    "    line = [pd.to_datetime(item) for item in line]\n",
    "    return line\n",
    "data['reviews_date'] = data.reviews_date.dropna().apply(to_time)"
   ]
  },
  {
   "cell_type": "markdown",
   "metadata": {},
   "source": [
    "Функция для определения количества дней, которые прошли между последними отзывами:"
   ]
  },
  {
   "cell_type": "code",
   "execution_count": 815,
   "metadata": {},
   "outputs": [],
   "source": [
    "def find_delta(line):\n",
    "    return (max(line) - min(line))\n",
    "\n",
    "\n",
    "data['delta_reviews_date'] = data['reviews_date'].dropna().apply(find_delta).dt.days"
   ]
  },
  {
   "cell_type": "markdown",
   "metadata": {},
   "source": [
    "Замена пропусков нулевым значением"
   ]
  },
  {
   "cell_type": "code",
   "execution_count": 816,
   "metadata": {},
   "outputs": [],
   "source": [
    "data['delta_reviews_date'] = data['delta_reviews_date'].fillna(0)"
   ]
  },
  {
   "cell_type": "markdown",
   "metadata": {},
   "source": [
    "Приведение символов в текстовой колонке (reviews_text) к нижнему регистру"
   ]
  },
  {
   "cell_type": "code",
   "execution_count": 817,
   "metadata": {},
   "outputs": [],
   "source": [
    "data['reviews_text'] = data.reviews_text.apply(\n",
    "    lambda x: x if pd.isnull(x) else x.lower())"
   ]
  },
  {
   "cell_type": "markdown",
   "metadata": {},
   "source": [
    "Выделение из текста слов, которые имеют более двух символов"
   ]
  },
  {
   "cell_type": "code",
   "execution_count": 818,
   "metadata": {},
   "outputs": [],
   "source": [
    "data['reviews_text_1'] = data.reviews_text.astype(str).apply(\n",
    "    lambda x: re.compile('[a-z][a-z]\\w+').findall(x))"
   ]
  },
  {
   "cell_type": "markdown",
   "metadata": {},
   "source": [
    "Определение наиболее встречающихся в отзывах выражений"
   ]
  },
  {
   "cell_type": "code",
   "execution_count": 819,
   "metadata": {},
   "outputs": [
    {
     "data": {
      "text/html": [
       "<div>\n",
       "<style scoped>\n",
       "    .dataframe tbody tr th:only-of-type {\n",
       "        vertical-align: middle;\n",
       "    }\n",
       "\n",
       "    .dataframe tbody tr th {\n",
       "        vertical-align: top;\n",
       "    }\n",
       "\n",
       "    .dataframe thead th {\n",
       "        text-align: right;\n",
       "    }\n",
       "</style>\n",
       "<table border=\"1\" class=\"dataframe\">\n",
       "  <thead>\n",
       "    <tr style=\"text-align: right;\">\n",
       "      <th></th>\n",
       "      <th>index</th>\n",
       "      <th>0</th>\n",
       "    </tr>\n",
       "  </thead>\n",
       "  <tbody>\n",
       "    <tr>\n",
       "      <th>0</th>\n",
       "      <td>food</td>\n",
       "      <td>13166</td>\n",
       "    </tr>\n",
       "    <tr>\n",
       "      <th>1</th>\n",
       "      <td>good</td>\n",
       "      <td>11780</td>\n",
       "    </tr>\n",
       "    <tr>\n",
       "      <th>2</th>\n",
       "      <td>great</td>\n",
       "      <td>10628</td>\n",
       "    </tr>\n",
       "    <tr>\n",
       "      <th>3</th>\n",
       "      <td>and</td>\n",
       "      <td>9765</td>\n",
       "    </tr>\n",
       "    <tr>\n",
       "      <th>4</th>\n",
       "      <td>one</td>\n",
       "      <td>8755</td>\n",
       "    </tr>\n",
       "    <tr>\n",
       "      <th>5</th>\n",
       "      <td>the</td>\n",
       "      <td>6186</td>\n",
       "    </tr>\n",
       "    <tr>\n",
       "      <th>6</th>\n",
       "      <td>nice</td>\n",
       "      <td>5702</td>\n",
       "    </tr>\n",
       "    <tr>\n",
       "      <th>7</th>\n",
       "      <td>place</td>\n",
       "      <td>5166</td>\n",
       "    </tr>\n",
       "    <tr>\n",
       "      <th>8</th>\n",
       "      <td>for</td>\n",
       "      <td>4803</td>\n",
       "    </tr>\n",
       "    <tr>\n",
       "      <th>9</th>\n",
       "      <td>service</td>\n",
       "      <td>4383</td>\n",
       "    </tr>\n",
       "    <tr>\n",
       "      <th>10</th>\n",
       "      <td>very</td>\n",
       "      <td>4208</td>\n",
       "    </tr>\n",
       "    <tr>\n",
       "      <th>11</th>\n",
       "      <td>restaurant</td>\n",
       "      <td>3632</td>\n",
       "    </tr>\n",
       "    <tr>\n",
       "      <th>12</th>\n",
       "      <td>best</td>\n",
       "      <td>3411</td>\n",
       "    </tr>\n",
       "    <tr>\n",
       "      <th>13</th>\n",
       "      <td>excellent</td>\n",
       "      <td>3261</td>\n",
       "    </tr>\n",
       "    <tr>\n",
       "      <th>14</th>\n",
       "      <td>lunch</td>\n",
       "      <td>2694</td>\n",
       "    </tr>\n",
       "    <tr>\n",
       "      <th>15</th>\n",
       "      <td>but</td>\n",
       "      <td>2559</td>\n",
       "    </tr>\n",
       "    <tr>\n",
       "      <th>16</th>\n",
       "      <td>with</td>\n",
       "      <td>2534</td>\n",
       "    </tr>\n",
       "    <tr>\n",
       "      <th>17</th>\n",
       "      <td>delicious</td>\n",
       "      <td>2164</td>\n",
       "    </tr>\n",
       "    <tr>\n",
       "      <th>18</th>\n",
       "      <td>not</td>\n",
       "      <td>2102</td>\n",
       "    </tr>\n",
       "    <tr>\n",
       "      <th>19</th>\n",
       "      <td>friendly</td>\n",
       "      <td>1917</td>\n",
       "    </tr>\n",
       "    <tr>\n",
       "      <th>20</th>\n",
       "      <td>pizza</td>\n",
       "      <td>1787</td>\n",
       "    </tr>\n",
       "    <tr>\n",
       "      <th>21</th>\n",
       "      <td>lovely</td>\n",
       "      <td>1782</td>\n",
       "    </tr>\n",
       "    <tr>\n",
       "      <th>22</th>\n",
       "      <td>amazing</td>\n",
       "      <td>1771</td>\n",
       "    </tr>\n",
       "    <tr>\n",
       "      <th>23</th>\n",
       "      <td>tasty</td>\n",
       "      <td>1681</td>\n",
       "    </tr>\n",
       "    <tr>\n",
       "      <th>24</th>\n",
       "      <td>dinner</td>\n",
       "      <td>1584</td>\n",
       "    </tr>\n",
       "    <tr>\n",
       "      <th>25</th>\n",
       "      <td>italian</td>\n",
       "      <td>1378</td>\n",
       "    </tr>\n",
       "    <tr>\n",
       "      <th>26</th>\n",
       "      <td>little</td>\n",
       "      <td>1300</td>\n",
       "    </tr>\n",
       "    <tr>\n",
       "      <th>27</th>\n",
       "      <td>bar</td>\n",
       "      <td>1297</td>\n",
       "    </tr>\n",
       "    <tr>\n",
       "      <th>28</th>\n",
       "      <td>atmosphere</td>\n",
       "      <td>1284</td>\n",
       "    </tr>\n",
       "    <tr>\n",
       "      <th>29</th>\n",
       "      <td>staff</td>\n",
       "      <td>1233</td>\n",
       "    </tr>\n",
       "    <tr>\n",
       "      <th>30</th>\n",
       "      <td>meal</td>\n",
       "      <td>1171</td>\n",
       "    </tr>\n",
       "    <tr>\n",
       "      <th>31</th>\n",
       "      <td>breakfast</td>\n",
       "      <td>1127</td>\n",
       "    </tr>\n",
       "    <tr>\n",
       "      <th>32</th>\n",
       "      <td>experience</td>\n",
       "      <td>1110</td>\n",
       "    </tr>\n",
       "    <tr>\n",
       "      <th>33</th>\n",
       "      <td>local</td>\n",
       "      <td>1068</td>\n",
       "    </tr>\n",
       "    <tr>\n",
       "      <th>34</th>\n",
       "      <td>value</td>\n",
       "      <td>1058</td>\n",
       "    </tr>\n",
       "    <tr>\n",
       "      <th>35</th>\n",
       "      <td>you</td>\n",
       "      <td>993</td>\n",
       "    </tr>\n",
       "    <tr>\n",
       "      <th>36</th>\n",
       "      <td>coffee</td>\n",
       "      <td>980</td>\n",
       "    </tr>\n",
       "    <tr>\n",
       "      <th>37</th>\n",
       "      <td>fantastic</td>\n",
       "      <td>967</td>\n",
       "    </tr>\n",
       "    <tr>\n",
       "      <th>38</th>\n",
       "      <td>authentic</td>\n",
       "      <td>946</td>\n",
       "    </tr>\n",
       "    <tr>\n",
       "      <th>39</th>\n",
       "      <td>average</td>\n",
       "      <td>933</td>\n",
       "    </tr>\n",
       "  </tbody>\n",
       "</table>\n",
       "</div>"
      ],
      "text/plain": [
       "         index      0\n",
       "0         food  13166\n",
       "1         good  11780\n",
       "2        great  10628\n",
       "3          and   9765\n",
       "4          one   8755\n",
       "5          the   6186\n",
       "6         nice   5702\n",
       "7        place   5166\n",
       "8          for   4803\n",
       "9      service   4383\n",
       "10        very   4208\n",
       "11  restaurant   3632\n",
       "12        best   3411\n",
       "13   excellent   3261\n",
       "14       lunch   2694\n",
       "15         but   2559\n",
       "16        with   2534\n",
       "17   delicious   2164\n",
       "18         not   2102\n",
       "19    friendly   1917\n",
       "20       pizza   1787\n",
       "21      lovely   1782\n",
       "22     amazing   1771\n",
       "23       tasty   1681\n",
       "24      dinner   1584\n",
       "25     italian   1378\n",
       "26      little   1300\n",
       "27         bar   1297\n",
       "28  atmosphere   1284\n",
       "29       staff   1233\n",
       "30        meal   1171\n",
       "31   breakfast   1127\n",
       "32  experience   1110\n",
       "33       local   1068\n",
       "34       value   1058\n",
       "35         you    993\n",
       "36      coffee    980\n",
       "37   fantastic    967\n",
       "38   authentic    946\n",
       "39     average    933"
      ]
     },
     "execution_count": 819,
     "metadata": {},
     "output_type": "execute_result"
    }
   ],
   "source": [
    "word_list = pd.DataFrame(data.reviews_text_1.dropna(\n",
    ").tolist()).stack().value_counts().reset_index()\n",
    "word_list[:40]"
   ]
  },
  {
   "cell_type": "markdown",
   "metadata": {},
   "source": [
    "Создание списка слов, имеющих эмоциональную окраску для отзыва"
   ]
  },
  {
   "cell_type": "code",
   "execution_count": 820,
   "metadata": {},
   "outputs": [],
   "source": [
    "words_list = ['not', 'good', 'nice', 'great', 'very', 'best', 'excellent',\n",
    "              'delicious', 'friendly', 'lovely', 'amazing', 'tasty', 'fantastic', 'average']"
   ]
  },
  {
   "cell_type": "markdown",
   "metadata": {},
   "source": [
    "Функция, определяющая наиболее часто встречающиеся слова"
   ]
  },
  {
   "cell_type": "code",
   "execution_count": 821,
   "metadata": {},
   "outputs": [],
   "source": [
    "def check_words(raw):\n",
    "    line = []\n",
    "    for item in raw:\n",
    "        if item in words_list:\n",
    "            line.append(item)\n",
    "        else:\n",
    "            continue\n",
    "    return line\n",
    "data['reviews_text_1'] = data['reviews_text_1'].apply(check_words)"
   ]
  },
  {
   "cell_type": "markdown",
   "metadata": {},
   "source": [
    "# 3. Город расположения ресторана (City)"
   ]
  },
  {
   "cell_type": "markdown",
   "metadata": {},
   "source": [
    "Использование внешних источников данных для обогащения датасета"
   ]
  },
  {
   "cell_type": "code",
   "execution_count": 822,
   "metadata": {},
   "outputs": [
    {
     "data": {
      "text/html": [
       "<div>\n",
       "<style scoped>\n",
       "    .dataframe tbody tr th:only-of-type {\n",
       "        vertical-align: middle;\n",
       "    }\n",
       "\n",
       "    .dataframe tbody tr th {\n",
       "        vertical-align: top;\n",
       "    }\n",
       "\n",
       "    .dataframe thead th {\n",
       "        text-align: right;\n",
       "    }\n",
       "</style>\n",
       "<table border=\"1\" class=\"dataframe\">\n",
       "  <thead>\n",
       "    <tr style=\"text-align: right;\">\n",
       "      <th></th>\n",
       "      <th>city</th>\n",
       "      <th>city_ascii</th>\n",
       "      <th>lat</th>\n",
       "      <th>lng</th>\n",
       "      <th>country</th>\n",
       "      <th>iso2</th>\n",
       "      <th>iso3</th>\n",
       "      <th>admin_name</th>\n",
       "      <th>capital</th>\n",
       "      <th>population</th>\n",
       "      <th>id</th>\n",
       "    </tr>\n",
       "  </thead>\n",
       "  <tbody>\n",
       "    <tr>\n",
       "      <th>0</th>\n",
       "      <td>Tokyo</td>\n",
       "      <td>Tokyo</td>\n",
       "      <td>35.6850</td>\n",
       "      <td>139.7514</td>\n",
       "      <td>Japan</td>\n",
       "      <td>JP</td>\n",
       "      <td>JPN</td>\n",
       "      <td>Tōkyō</td>\n",
       "      <td>primary</td>\n",
       "      <td>35676000.0</td>\n",
       "      <td>1392685764</td>\n",
       "    </tr>\n",
       "    <tr>\n",
       "      <th>1</th>\n",
       "      <td>New York</td>\n",
       "      <td>New York</td>\n",
       "      <td>40.6943</td>\n",
       "      <td>-73.9249</td>\n",
       "      <td>United States</td>\n",
       "      <td>US</td>\n",
       "      <td>USA</td>\n",
       "      <td>New York</td>\n",
       "      <td>NaN</td>\n",
       "      <td>19354922.0</td>\n",
       "      <td>1840034016</td>\n",
       "    </tr>\n",
       "    <tr>\n",
       "      <th>2</th>\n",
       "      <td>Mexico City</td>\n",
       "      <td>Mexico City</td>\n",
       "      <td>19.4424</td>\n",
       "      <td>-99.1310</td>\n",
       "      <td>Mexico</td>\n",
       "      <td>MX</td>\n",
       "      <td>MEX</td>\n",
       "      <td>Ciudad de México</td>\n",
       "      <td>primary</td>\n",
       "      <td>19028000.0</td>\n",
       "      <td>1484247881</td>\n",
       "    </tr>\n",
       "    <tr>\n",
       "      <th>3</th>\n",
       "      <td>Mumbai</td>\n",
       "      <td>Mumbai</td>\n",
       "      <td>19.0170</td>\n",
       "      <td>72.8570</td>\n",
       "      <td>India</td>\n",
       "      <td>IN</td>\n",
       "      <td>IND</td>\n",
       "      <td>Mahārāshtra</td>\n",
       "      <td>admin</td>\n",
       "      <td>18978000.0</td>\n",
       "      <td>1356226629</td>\n",
       "    </tr>\n",
       "    <tr>\n",
       "      <th>4</th>\n",
       "      <td>São Paulo</td>\n",
       "      <td>Sao Paulo</td>\n",
       "      <td>-23.5587</td>\n",
       "      <td>-46.6250</td>\n",
       "      <td>Brazil</td>\n",
       "      <td>BR</td>\n",
       "      <td>BRA</td>\n",
       "      <td>São Paulo</td>\n",
       "      <td>admin</td>\n",
       "      <td>18845000.0</td>\n",
       "      <td>1076532519</td>\n",
       "    </tr>\n",
       "    <tr>\n",
       "      <th>...</th>\n",
       "      <td>...</td>\n",
       "      <td>...</td>\n",
       "      <td>...</td>\n",
       "      <td>...</td>\n",
       "      <td>...</td>\n",
       "      <td>...</td>\n",
       "      <td>...</td>\n",
       "      <td>...</td>\n",
       "      <td>...</td>\n",
       "      <td>...</td>\n",
       "      <td>...</td>\n",
       "    </tr>\n",
       "    <tr>\n",
       "      <th>15488</th>\n",
       "      <td>Timmiarmiut</td>\n",
       "      <td>Timmiarmiut</td>\n",
       "      <td>62.5333</td>\n",
       "      <td>-42.2167</td>\n",
       "      <td>Greenland</td>\n",
       "      <td>GL</td>\n",
       "      <td>GRL</td>\n",
       "      <td>Kujalleq</td>\n",
       "      <td>NaN</td>\n",
       "      <td>10.0</td>\n",
       "      <td>1304206491</td>\n",
       "    </tr>\n",
       "    <tr>\n",
       "      <th>15489</th>\n",
       "      <td>Cheremoshna</td>\n",
       "      <td>Cheremoshna</td>\n",
       "      <td>51.3894</td>\n",
       "      <td>30.0989</td>\n",
       "      <td>Ukraine</td>\n",
       "      <td>UA</td>\n",
       "      <td>UKR</td>\n",
       "      <td>Kyyivs’ka Oblast’</td>\n",
       "      <td>NaN</td>\n",
       "      <td>0.0</td>\n",
       "      <td>1804043438</td>\n",
       "    </tr>\n",
       "    <tr>\n",
       "      <th>15490</th>\n",
       "      <td>Ambarchik</td>\n",
       "      <td>Ambarchik</td>\n",
       "      <td>69.6510</td>\n",
       "      <td>162.3336</td>\n",
       "      <td>Russia</td>\n",
       "      <td>RU</td>\n",
       "      <td>RUS</td>\n",
       "      <td>Sakha (Yakutiya)</td>\n",
       "      <td>NaN</td>\n",
       "      <td>0.0</td>\n",
       "      <td>1643739159</td>\n",
       "    </tr>\n",
       "    <tr>\n",
       "      <th>15491</th>\n",
       "      <td>Nordvik</td>\n",
       "      <td>Nordvik</td>\n",
       "      <td>74.0165</td>\n",
       "      <td>111.5100</td>\n",
       "      <td>Russia</td>\n",
       "      <td>RU</td>\n",
       "      <td>RUS</td>\n",
       "      <td>Krasnoyarskiy Kray</td>\n",
       "      <td>NaN</td>\n",
       "      <td>0.0</td>\n",
       "      <td>1643587468</td>\n",
       "    </tr>\n",
       "    <tr>\n",
       "      <th>15492</th>\n",
       "      <td>Ennadai</td>\n",
       "      <td>Ennadai</td>\n",
       "      <td>61.1333</td>\n",
       "      <td>-100.8833</td>\n",
       "      <td>Canada</td>\n",
       "      <td>CA</td>\n",
       "      <td>CAN</td>\n",
       "      <td>Nunavut</td>\n",
       "      <td>NaN</td>\n",
       "      <td>0.0</td>\n",
       "      <td>1124019423</td>\n",
       "    </tr>\n",
       "  </tbody>\n",
       "</table>\n",
       "<p>15493 rows × 11 columns</p>\n",
       "</div>"
      ],
      "text/plain": [
       "              city   city_ascii      lat       lng        country iso2 iso3  \\\n",
       "0            Tokyo        Tokyo  35.6850  139.7514          Japan   JP  JPN   \n",
       "1         New York     New York  40.6943  -73.9249  United States   US  USA   \n",
       "2      Mexico City  Mexico City  19.4424  -99.1310         Mexico   MX  MEX   \n",
       "3           Mumbai       Mumbai  19.0170   72.8570          India   IN  IND   \n",
       "4        São Paulo    Sao Paulo -23.5587  -46.6250         Brazil   BR  BRA   \n",
       "...            ...          ...      ...       ...            ...  ...  ...   \n",
       "15488  Timmiarmiut  Timmiarmiut  62.5333  -42.2167      Greenland   GL  GRL   \n",
       "15489  Cheremoshna  Cheremoshna  51.3894   30.0989        Ukraine   UA  UKR   \n",
       "15490    Ambarchik    Ambarchik  69.6510  162.3336         Russia   RU  RUS   \n",
       "15491      Nordvik      Nordvik  74.0165  111.5100         Russia   RU  RUS   \n",
       "15492      Ennadai      Ennadai  61.1333 -100.8833         Canada   CA  CAN   \n",
       "\n",
       "               admin_name  capital  population          id  \n",
       "0                   Tōkyō  primary  35676000.0  1392685764  \n",
       "1                New York      NaN  19354922.0  1840034016  \n",
       "2        Ciudad de México  primary  19028000.0  1484247881  \n",
       "3             Mahārāshtra    admin  18978000.0  1356226629  \n",
       "4               São Paulo    admin  18845000.0  1076532519  \n",
       "...                   ...      ...         ...         ...  \n",
       "15488            Kujalleq      NaN        10.0  1304206491  \n",
       "15489   Kyyivs’ka Oblast’      NaN         0.0  1804043438  \n",
       "15490    Sakha (Yakutiya)      NaN         0.0  1643739159  \n",
       "15491  Krasnoyarskiy Kray      NaN         0.0  1643587468  \n",
       "15492             Nunavut      NaN         0.0  1124019423  \n",
       "\n",
       "[15493 rows x 11 columns]"
      ]
     },
     "execution_count": 822,
     "metadata": {},
     "output_type": "execute_result"
    }
   ],
   "source": [
    "df_cities = pd.read_csv('worldcities.csv')\n",
    "df_cities"
   ]
  },
  {
   "cell_type": "markdown",
   "metadata": {},
   "source": [
    "Исправим назвние 'Porto' к тому, что используется в data - 'Oporto'"
   ]
  },
  {
   "cell_type": "code",
   "execution_count": 823,
   "metadata": {},
   "outputs": [],
   "source": [
    "df_cities['city_ascii'] = df_cities.city_ascii.apply(\n",
    "    lambda x: 'Oporto' if x == 'Porto' else x)"
   ]
  },
  {
   "cell_type": "markdown",
   "metadata": {},
   "source": [
    "Создадим словарь из данных \"df_cities\", где ключ - город, значение - страна"
   ]
  },
  {
   "cell_type": "code",
   "execution_count": 824,
   "metadata": {},
   "outputs": [],
   "source": [
    "df_cities_1 = df_cities.drop(\n",
    "    ['city', 'lat', 'lng', 'iso2', 'iso3', 'admin_name', 'capital', 'population', 'id'], axis=1)\n",
    "df_countries = df_cities_1[(df_cities_1['country'] != 'United States') & (\n",
    "    df_cities_1['country'] != 'Canada') & (df_cities_1['country'] != 'Venezuela')]\n",
    "df_countries.set_index(\"city_ascii\", drop=True, inplace=True)\n",
    "country_dict = df_countries.to_dict()\n",
    "country_dict_n = country_dict['country']"
   ]
  },
  {
   "cell_type": "markdown",
   "metadata": {},
   "source": [
    "Добавление нового признака \"Country\" (страна)"
   ]
  },
  {
   "cell_type": "code",
   "execution_count": 825,
   "metadata": {},
   "outputs": [],
   "source": [
    "data['Country'] = data['City'].apply(lambda x: country_dict_n[x])"
   ]
  },
  {
   "cell_type": "markdown",
   "metadata": {},
   "source": [
    "Создание словаря из данных \"df_cities\", где ключ - город, значение - размер населения"
   ]
  },
  {
   "cell_type": "code",
   "execution_count": 826,
   "metadata": {},
   "outputs": [],
   "source": [
    "df_population = df_cities[(df_cities['country'] != 'United States') & (\n",
    "    df_cities['country'] != 'Canada')]\n",
    "df_population = df_population.drop(\n",
    "    ['city', 'lat', 'lng', 'iso2', 'iso3', 'admin_name', 'capital', 'country', 'id'], axis=1)\n",
    "\n",
    "df_population.set_index(\"city_ascii\", drop=True, inplace=True)\n",
    "population_dict = df_population.to_dict()\n",
    "population_dict_n = population_dict['population']"
   ]
  },
  {
   "cell_type": "markdown",
   "metadata": {},
   "source": [
    "Добавление признака \"Population\" - население города"
   ]
  },
  {
   "cell_type": "code",
   "execution_count": 827,
   "metadata": {},
   "outputs": [],
   "source": [
    "data['Population'] = data['City'].apply(lambda x: population_dict_n[x])"
   ]
  },
  {
   "cell_type": "markdown",
   "metadata": {},
   "source": [
    "Создание сета из названия столиц, используя данные \"df_cities\""
   ]
  },
  {
   "cell_type": "code",
   "execution_count": 828,
   "metadata": {},
   "outputs": [],
   "source": [
    "capitals = set(df_cities[df_cities['capital'] == 'primary']['city_ascii'])"
   ]
  },
  {
   "cell_type": "markdown",
   "metadata": {},
   "source": [
    "Функция, определяющая является город столицей или нет"
   ]
  },
  {
   "cell_type": "code",
   "execution_count": 829,
   "metadata": {},
   "outputs": [],
   "source": [
    "def capital_check(city):\n",
    "    if city in capitals:\n",
    "        return 'capital' \n",
    "    return 'non_capital'"
   ]
  },
  {
   "cell_type": "markdown",
   "metadata": {},
   "source": [
    "Добавление колонки, с признаком столица"
   ]
  },
  {
   "cell_type": "code",
   "execution_count": 830,
   "metadata": {},
   "outputs": [],
   "source": [
    "data['Сity_status'] = data['City'].apply(capital_check)"
   ]
  },
  {
   "cell_type": "markdown",
   "metadata": {},
   "source": [
    "# 4. Блюда кухни (Cuisine style)"
   ]
  },
  {
   "cell_type": "markdown",
   "metadata": {},
   "source": [
    "Переводим строки к списку"
   ]
  },
  {
   "cell_type": "code",
   "execution_count": 831,
   "metadata": {},
   "outputs": [],
   "source": [
    "data['Cuisine Style'] = data['Cuisine Style'].astype(str).apply(\n",
    "    lambda x: str(x).replace('[', '').replace(']', '').replace(\"'\", \"\").strip())\n",
    "\n",
    "data['Cuisine Style'] = data['Cuisine Style'].apply(lambda x:  None if x == 'nan' else [\n",
    "    info.strip() for info in str(x).split(',')])"
   ]
  },
  {
   "cell_type": "markdown",
   "metadata": {},
   "source": [
    "Список 10 самых популярных кухонь"
   ]
  },
  {
   "cell_type": "code",
   "execution_count": 832,
   "metadata": {},
   "outputs": [],
   "source": [
    "cuisine_list = pd.DataFrame(data['Cuisine Style'].dropna(\n",
    ").tolist()).stack().value_counts().reset_index()\n",
    "top_cuisine = cuisine_list['index'][:10].tolist()"
   ]
  },
  {
   "cell_type": "markdown",
   "metadata": {},
   "source": [
    "Присваеваем \"not_define\" отсутствующим значениям"
   ]
  },
  {
   "cell_type": "code",
   "execution_count": 833,
   "metadata": {},
   "outputs": [],
   "source": [
    "data['Cuisine Style'] = data['Cuisine Style'].apply(\n",
    "    lambda x: 'not_define' if x == None else x)"
   ]
  },
  {
   "cell_type": "markdown",
   "metadata": {},
   "source": [
    "Добавляем колонку \"Cuisine_qnt\", где содержится количество типов кухонь по каждому ресторану"
   ]
  },
  {
   "cell_type": "code",
   "execution_count": 834,
   "metadata": {},
   "outputs": [],
   "source": [
    "data['cuisine_qnt'] = data['Cuisine Style'].apply(lambda x: len(x))"
   ]
  },
  {
   "cell_type": "markdown",
   "metadata": {},
   "source": [
    "Функция, оставляющая только популярную кухню"
   ]
  },
  {
   "cell_type": "code",
   "execution_count": 835,
   "metadata": {},
   "outputs": [],
   "source": [
    "def check_cousine(raw):\n",
    "    line = []\n",
    "    top_list = ['Vegetarian Friendly', 'European', 'Mediterranean',\n",
    "                'Italian', 'Vegan Options', 'Gluten Free Options', 'Bar', 'French', 'Asian']\n",
    "    for item in raw:\n",
    "        if item.strip() == 'not_define':\n",
    "            line.append('not_define')\n",
    "        elif item.strip() in top_cuisine:\n",
    "            line.append(item.strip())\n",
    "        else:\n",
    "            line.append('other_cuisine')\n",
    "    return line\n",
    "\n",
    "\n",
    "data['Cuisine Style'] = data['Cuisine Style'].apply(check_cousine)"
   ]
  },
  {
   "cell_type": "markdown",
   "metadata": {},
   "source": [
    "Добавляем колонку тип кухни"
   ]
  },
  {
   "cell_type": "code",
   "execution_count": 836,
   "metadata": {},
   "outputs": [],
   "source": [
    "mlb = MultiLabelBinarizer()\n",
    "data = data.join(pd.DataFrame(mlb.fit_transform(\n",
    "    data.pop('Cuisine Style')), index=data.index, columns=mlb.classes_))"
   ]
  },
  {
   "cell_type": "markdown",
   "metadata": {},
   "source": [
    "# Кодирование категориальных признаков с помощью подхода One-Hot-Encoding"
   ]
  },
  {
   "cell_type": "code",
   "execution_count": 837,
   "metadata": {},
   "outputs": [],
   "source": [
    "mlb = MultiLabelBinarizer()\n",
    "data = data.join(pd.DataFrame(mlb.fit_transform(\n",
    "    data.pop('reviews_text_1')), index=data.index, columns=mlb.classes_))"
   ]
  },
  {
   "cell_type": "code",
   "execution_count": 838,
   "metadata": {},
   "outputs": [],
   "source": [
    "data = pd.get_dummies(data, columns=['City', 'Country', 'Сity_status'])"
   ]
  },
  {
   "cell_type": "markdown",
   "metadata": {},
   "source": [
    "# Корреляционный анализ признаков"
   ]
  },
  {
   "cell_type": "code",
   "execution_count": 839,
   "metadata": {},
   "outputs": [
    {
     "data": {
      "text/plain": [
       "<AxesSubplot:>"
      ]
     },
     "execution_count": 839,
     "metadata": {},
     "output_type": "execute_result"
    },
    {
     "data": {
      "image/png": "[encoded data removed]",
      "text/plain": [
       "<Figure size 1080x720 with 2 Axes>"
      ]
     },
     "metadata": {
      "needs_background": "light"
     },
     "output_type": "display_data"
    }
   ],
   "source": [
    "data_corr = data[data['sample'] == 1]\n",
    "plt.rcParams['figure.figsize'] = (15,10)\n",
    "sns.heatmap(data_corr.drop('sample', axis=1).corr())"
   ]
  },
  {
   "cell_type": "markdown",
   "metadata": {},
   "source": [
    "# Удаление оставшихся категориальных признаков"
   ]
  },
  {
   "cell_type": "code",
   "execution_count": 840,
   "metadata": {},
   "outputs": [],
   "source": [
    "object_columns = [s for s in data.columns if data[s].dtypes == 'object']\n",
    "data.drop(object_columns, axis=1, inplace=True)"
   ]
  },
  {
   "cell_type": "markdown",
   "metadata": {},
   "source": [
    "Функция нормализации данных (не включая : 'Rating','sample')"
   ]
  },
  {
   "cell_type": "code",
   "execution_count": 841,
   "metadata": {},
   "outputs": [],
   "source": [
    "def StandardScaler_column(d_col):\n",
    "    scaler = StandardScaler()\n",
    "    scaler.fit(data[[d_col]])\n",
    "    return scaler.transform(data[[d_col]])\n",
    "for i in list(data.columns):\n",
    "    if i not in ['Rating', 'sample', 'Ranking']:\n",
    "        data[i] = StandardScaler_column(i)\n",
    "        if len(data[data[i].isna()]) < len(data):\n",
    "            data[i] = data[i].fillna(0)"
   ]
  },
  {
   "cell_type": "code",
   "execution_count": 842,
   "metadata": {},
   "outputs": [
    {
     "data": {
      "text/html": [
       "<div>\n",
       "<style scoped>\n",
       "    .dataframe tbody tr th:only-of-type {\n",
       "        vertical-align: middle;\n",
       "    }\n",
       "\n",
       "    .dataframe tbody tr th {\n",
       "        vertical-align: top;\n",
       "    }\n",
       "\n",
       "    .dataframe thead th {\n",
       "        text-align: right;\n",
       "    }\n",
       "</style>\n",
       "<table border=\"1\" class=\"dataframe\">\n",
       "  <thead>\n",
       "    <tr style=\"text-align: right;\">\n",
       "      <th></th>\n",
       "      <th>Restaurant_id</th>\n",
       "      <th>Ranking</th>\n",
       "      <th>Number of Reviews</th>\n",
       "      <th>ID_TA</th>\n",
       "      <th>sample</th>\n",
       "      <th>Rating</th>\n",
       "      <th>Number_of_Reviews_isNAN</th>\n",
       "      <th>Price_Range_isNAN</th>\n",
       "      <th>Cuisine_Style_isNAN</th>\n",
       "      <th>Review_isNAN</th>\n",
       "      <th>delta_reviews_date</th>\n",
       "      <th>Population</th>\n",
       "      <th>cuisine_qnt</th>\n",
       "      <th>Asian</th>\n",
       "      <th>Bar</th>\n",
       "      <th>European</th>\n",
       "      <th>French</th>\n",
       "      <th>Gluten Free Options</th>\n",
       "      <th>Italian</th>\n",
       "      <th>Mediterranean</th>\n",
       "      <th>Pizza</th>\n",
       "      <th>Vegan Options</th>\n",
       "      <th>Vegetarian Friendly</th>\n",
       "      <th>other_cuisine</th>\n",
       "      <th>amazing</th>\n",
       "      <th>...</th>\n",
       "      <th>City_Zurich</th>\n",
       "      <th>Country_Austria</th>\n",
       "      <th>Country_Belgium</th>\n",
       "      <th>Country_Czechia</th>\n",
       "      <th>Country_Denmark</th>\n",
       "      <th>Country_Finland</th>\n",
       "      <th>Country_France</th>\n",
       "      <th>Country_Germany</th>\n",
       "      <th>Country_Greece</th>\n",
       "      <th>Country_Hungary</th>\n",
       "      <th>Country_Ireland</th>\n",
       "      <th>Country_Italy</th>\n",
       "      <th>Country_Luxembourg</th>\n",
       "      <th>Country_Netherlands</th>\n",
       "      <th>Country_Norway</th>\n",
       "      <th>Country_Poland</th>\n",
       "      <th>Country_Portugal</th>\n",
       "      <th>Country_Slovakia</th>\n",
       "      <th>Country_Slovenia</th>\n",
       "      <th>Country_Spain</th>\n",
       "      <th>Country_Sweden</th>\n",
       "      <th>Country_Switzerland</th>\n",
       "      <th>Country_United Kingdom</th>\n",
       "      <th>Сity_status_capital</th>\n",
       "      <th>Сity_status_non_capital</th>\n",
       "    </tr>\n",
       "  </thead>\n",
       "  <tbody>\n",
       "    <tr>\n",
       "      <th>0</th>\n",
       "      <td>-1.094732</td>\n",
       "      <td>1.491224</td>\n",
       "      <td>-0.409611</td>\n",
       "      <td>1.130877</td>\n",
       "      <td>0</td>\n",
       "      <td>0.0</td>\n",
       "      <td>-0.261488</td>\n",
       "      <td>-0.729321</td>\n",
       "      <td>-0.549313</td>\n",
       "      <td>2.272045</td>\n",
       "      <td>-0.508835</td>\n",
       "      <td>1.742102</td>\n",
       "      <td>-0.818705</td>\n",
       "      <td>-0.286222</td>\n",
       "      <td>3.348581</td>\n",
       "      <td>-0.579229</td>\n",
       "      <td>-0.293680</td>\n",
       "      <td>-0.340144</td>\n",
       "      <td>-0.417874</td>\n",
       "      <td>-0.430576</td>\n",
       "      <td>-0.274436</td>\n",
       "      <td>-0.358135</td>\n",
       "      <td>-0.624259</td>\n",
       "      <td>0.472104</td>\n",
       "      <td>-0.187494</td>\n",
       "      <td>...</td>\n",
       "      <td>-0.117857</td>\n",
       "      <td>-0.172388</td>\n",
       "      <td>-0.164284</td>\n",
       "      <td>-0.194136</td>\n",
       "      <td>-0.129046</td>\n",
       "      <td>-0.097934</td>\n",
       "      <td>2.431420</td>\n",
       "      <td>-0.334665</td>\n",
       "      <td>-0.125557</td>\n",
       "      <td>-0.144380</td>\n",
       "      <td>-0.130401</td>\n",
       "      <td>-0.343719</td>\n",
       "      <td>-0.072717</td>\n",
       "      <td>-0.167971</td>\n",
       "      <td>-0.099278</td>\n",
       "      <td>-0.17459</td>\n",
       "      <td>-0.219035</td>\n",
       "      <td>-0.087511</td>\n",
       "      <td>-0.066782</td>\n",
       "      <td>-0.410418</td>\n",
       "      <td>-0.145244</td>\n",
       "      <td>-0.161763</td>\n",
       "      <td>-0.434421</td>\n",
       "      <td>0.585418</td>\n",
       "      <td>-0.585418</td>\n",
       "    </tr>\n",
       "    <tr>\n",
       "      <th>1</th>\n",
       "      <td>-1.094454</td>\n",
       "      <td>-1.404530</td>\n",
       "      <td>-0.093404</td>\n",
       "      <td>0.097212</td>\n",
       "      <td>0</td>\n",
       "      <td>0.0</td>\n",
       "      <td>-0.261488</td>\n",
       "      <td>-0.729321</td>\n",
       "      <td>-0.549313</td>\n",
       "      <td>-0.440132</td>\n",
       "      <td>-0.321521</td>\n",
       "      <td>-0.882033</td>\n",
       "      <td>0.087102</td>\n",
       "      <td>-0.286222</td>\n",
       "      <td>-0.298634</td>\n",
       "      <td>1.726434</td>\n",
       "      <td>-0.293680</td>\n",
       "      <td>2.939932</td>\n",
       "      <td>-0.417874</td>\n",
       "      <td>-0.430576</td>\n",
       "      <td>-0.274436</td>\n",
       "      <td>2.792243</td>\n",
       "      <td>1.601899</td>\n",
       "      <td>0.472104</td>\n",
       "      <td>-0.187494</td>\n",
       "      <td>...</td>\n",
       "      <td>-0.117857</td>\n",
       "      <td>-0.172388</td>\n",
       "      <td>-0.164284</td>\n",
       "      <td>-0.194136</td>\n",
       "      <td>-0.129046</td>\n",
       "      <td>10.210933</td>\n",
       "      <td>-0.411282</td>\n",
       "      <td>-0.334665</td>\n",
       "      <td>-0.125557</td>\n",
       "      <td>-0.144380</td>\n",
       "      <td>-0.130401</td>\n",
       "      <td>-0.343719</td>\n",
       "      <td>-0.072717</td>\n",
       "      <td>-0.167971</td>\n",
       "      <td>-0.099278</td>\n",
       "      <td>-0.17459</td>\n",
       "      <td>-0.219035</td>\n",
       "      <td>-0.087511</td>\n",
       "      <td>-0.066782</td>\n",
       "      <td>-0.410418</td>\n",
       "      <td>-0.145244</td>\n",
       "      <td>-0.161763</td>\n",
       "      <td>-0.434421</td>\n",
       "      <td>0.585418</td>\n",
       "      <td>-0.585418</td>\n",
       "    </tr>\n",
       "    <tr>\n",
       "      <th>2</th>\n",
       "      <td>-1.094176</td>\n",
       "      <td>-0.146058</td>\n",
       "      <td>-0.328009</td>\n",
       "      <td>1.735727</td>\n",
       "      <td>0</td>\n",
       "      <td>0.0</td>\n",
       "      <td>-0.261488</td>\n",
       "      <td>-0.729321</td>\n",
       "      <td>-0.549313</td>\n",
       "      <td>-0.440132</td>\n",
       "      <td>-0.397459</td>\n",
       "      <td>-1.064171</td>\n",
       "      <td>-1.120641</td>\n",
       "      <td>-0.286222</td>\n",
       "      <td>-0.298634</td>\n",
       "      <td>-0.579229</td>\n",
       "      <td>-0.293680</td>\n",
       "      <td>-0.340144</td>\n",
       "      <td>-0.417874</td>\n",
       "      <td>-0.430576</td>\n",
       "      <td>-0.274436</td>\n",
       "      <td>-0.358135</td>\n",
       "      <td>1.601899</td>\n",
       "      <td>-2.118175</td>\n",
       "      <td>-0.187494</td>\n",
       "      <td>...</td>\n",
       "      <td>-0.117857</td>\n",
       "      <td>-0.172388</td>\n",
       "      <td>-0.164284</td>\n",
       "      <td>-0.194136</td>\n",
       "      <td>-0.129046</td>\n",
       "      <td>-0.097934</td>\n",
       "      <td>-0.411282</td>\n",
       "      <td>-0.334665</td>\n",
       "      <td>-0.125557</td>\n",
       "      <td>-0.144380</td>\n",
       "      <td>-0.130401</td>\n",
       "      <td>-0.343719</td>\n",
       "      <td>-0.072717</td>\n",
       "      <td>-0.167971</td>\n",
       "      <td>-0.099278</td>\n",
       "      <td>-0.17459</td>\n",
       "      <td>-0.219035</td>\n",
       "      <td>-0.087511</td>\n",
       "      <td>-0.066782</td>\n",
       "      <td>-0.410418</td>\n",
       "      <td>-0.145244</td>\n",
       "      <td>-0.161763</td>\n",
       "      <td>2.301916</td>\n",
       "      <td>-1.708181</td>\n",
       "      <td>1.708181</td>\n",
       "    </tr>\n",
       "    <tr>\n",
       "      <th>3</th>\n",
       "      <td>-1.093898</td>\n",
       "      <td>-1.376113</td>\n",
       "      <td>0.263604</td>\n",
       "      <td>-1.424489</td>\n",
       "      <td>0</td>\n",
       "      <td>0.0</td>\n",
       "      <td>-0.261488</td>\n",
       "      <td>-0.729321</td>\n",
       "      <td>-0.549313</td>\n",
       "      <td>-0.440132</td>\n",
       "      <td>-0.437959</td>\n",
       "      <td>1.342913</td>\n",
       "      <td>0.087102</td>\n",
       "      <td>-0.286222</td>\n",
       "      <td>-0.298634</td>\n",
       "      <td>1.726434</td>\n",
       "      <td>-0.293680</td>\n",
       "      <td>2.939932</td>\n",
       "      <td>2.393065</td>\n",
       "      <td>2.322469</td>\n",
       "      <td>-0.274436</td>\n",
       "      <td>-0.358135</td>\n",
       "      <td>1.601899</td>\n",
       "      <td>-2.118175</td>\n",
       "      <td>-0.187494</td>\n",
       "      <td>...</td>\n",
       "      <td>-0.117857</td>\n",
       "      <td>-0.172388</td>\n",
       "      <td>-0.164284</td>\n",
       "      <td>-0.194136</td>\n",
       "      <td>-0.129046</td>\n",
       "      <td>-0.097934</td>\n",
       "      <td>-0.411282</td>\n",
       "      <td>-0.334665</td>\n",
       "      <td>-0.125557</td>\n",
       "      <td>-0.144380</td>\n",
       "      <td>-0.130401</td>\n",
       "      <td>-0.343719</td>\n",
       "      <td>-0.072717</td>\n",
       "      <td>-0.167971</td>\n",
       "      <td>-0.099278</td>\n",
       "      <td>-0.17459</td>\n",
       "      <td>-0.219035</td>\n",
       "      <td>-0.087511</td>\n",
       "      <td>-0.066782</td>\n",
       "      <td>-0.410418</td>\n",
       "      <td>-0.145244</td>\n",
       "      <td>-0.161763</td>\n",
       "      <td>2.301916</td>\n",
       "      <td>0.585418</td>\n",
       "      <td>-0.585418</td>\n",
       "    </tr>\n",
       "    <tr>\n",
       "      <th>4</th>\n",
       "      <td>-1.093620</td>\n",
       "      <td>-1.673120</td>\n",
       "      <td>0.127601</td>\n",
       "      <td>-1.314842</td>\n",
       "      <td>0</td>\n",
       "      <td>0.0</td>\n",
       "      <td>-0.261488</td>\n",
       "      <td>-0.729321</td>\n",
       "      <td>-0.549313</td>\n",
       "      <td>-0.440132</td>\n",
       "      <td>-0.432897</td>\n",
       "      <td>-1.088424</td>\n",
       "      <td>0.389038</td>\n",
       "      <td>-0.286222</td>\n",
       "      <td>-0.298634</td>\n",
       "      <td>1.726434</td>\n",
       "      <td>-0.293680</td>\n",
       "      <td>2.939932</td>\n",
       "      <td>2.393065</td>\n",
       "      <td>2.322469</td>\n",
       "      <td>-0.274436</td>\n",
       "      <td>-0.358135</td>\n",
       "      <td>1.601899</td>\n",
       "      <td>0.472104</td>\n",
       "      <td>-0.187494</td>\n",
       "      <td>...</td>\n",
       "      <td>-0.117857</td>\n",
       "      <td>-0.172388</td>\n",
       "      <td>-0.164284</td>\n",
       "      <td>-0.194136</td>\n",
       "      <td>-0.129046</td>\n",
       "      <td>-0.097934</td>\n",
       "      <td>-0.411282</td>\n",
       "      <td>-0.334665</td>\n",
       "      <td>-0.125557</td>\n",
       "      <td>-0.144380</td>\n",
       "      <td>-0.130401</td>\n",
       "      <td>-0.343719</td>\n",
       "      <td>-0.072717</td>\n",
       "      <td>-0.167971</td>\n",
       "      <td>-0.099278</td>\n",
       "      <td>-0.17459</td>\n",
       "      <td>-0.219035</td>\n",
       "      <td>11.427115</td>\n",
       "      <td>-0.066782</td>\n",
       "      <td>-0.410418</td>\n",
       "      <td>-0.145244</td>\n",
       "      <td>-0.161763</td>\n",
       "      <td>-0.434421</td>\n",
       "      <td>0.585418</td>\n",
       "      <td>-0.585418</td>\n",
       "    </tr>\n",
       "    <tr>\n",
       "      <th>5</th>\n",
       "      <td>-1.093342</td>\n",
       "      <td>-0.456829</td>\n",
       "      <td>-0.341610</td>\n",
       "      <td>0.550002</td>\n",
       "      <td>0</td>\n",
       "      <td>0.0</td>\n",
       "      <td>-0.261488</td>\n",
       "      <td>-0.729321</td>\n",
       "      <td>-0.549313</td>\n",
       "      <td>-0.440132</td>\n",
       "      <td>-0.483522</td>\n",
       "      <td>1.742102</td>\n",
       "      <td>-0.516769</td>\n",
       "      <td>-0.286222</td>\n",
       "      <td>-0.298634</td>\n",
       "      <td>-0.579229</td>\n",
       "      <td>3.405064</td>\n",
       "      <td>-0.340144</td>\n",
       "      <td>-0.417874</td>\n",
       "      <td>-0.430576</td>\n",
       "      <td>-0.274436</td>\n",
       "      <td>-0.358135</td>\n",
       "      <td>-0.624259</td>\n",
       "      <td>0.472104</td>\n",
       "      <td>-0.187494</td>\n",
       "      <td>...</td>\n",
       "      <td>-0.117857</td>\n",
       "      <td>-0.172388</td>\n",
       "      <td>-0.164284</td>\n",
       "      <td>-0.194136</td>\n",
       "      <td>-0.129046</td>\n",
       "      <td>-0.097934</td>\n",
       "      <td>2.431420</td>\n",
       "      <td>-0.334665</td>\n",
       "      <td>-0.125557</td>\n",
       "      <td>-0.144380</td>\n",
       "      <td>-0.130401</td>\n",
       "      <td>-0.343719</td>\n",
       "      <td>-0.072717</td>\n",
       "      <td>-0.167971</td>\n",
       "      <td>-0.099278</td>\n",
       "      <td>-0.17459</td>\n",
       "      <td>-0.219035</td>\n",
       "      <td>-0.087511</td>\n",
       "      <td>-0.066782</td>\n",
       "      <td>-0.410418</td>\n",
       "      <td>-0.145244</td>\n",
       "      <td>-0.161763</td>\n",
       "      <td>-0.434421</td>\n",
       "      <td>0.585418</td>\n",
       "      <td>-0.585418</td>\n",
       "    </tr>\n",
       "    <tr>\n",
       "      <th>6</th>\n",
       "      <td>-1.093064</td>\n",
       "      <td>1.715451</td>\n",
       "      <td>-0.416411</td>\n",
       "      <td>0.626215</td>\n",
       "      <td>0</td>\n",
       "      <td>0.0</td>\n",
       "      <td>-0.261488</td>\n",
       "      <td>-0.729321</td>\n",
       "      <td>-0.549313</td>\n",
       "      <td>2.272045</td>\n",
       "      <td>-0.508835</td>\n",
       "      <td>-0.375359</td>\n",
       "      <td>-0.818705</td>\n",
       "      <td>-0.286222</td>\n",
       "      <td>-0.298634</td>\n",
       "      <td>1.726434</td>\n",
       "      <td>-0.293680</td>\n",
       "      <td>-0.340144</td>\n",
       "      <td>-0.417874</td>\n",
       "      <td>-0.430576</td>\n",
       "      <td>-0.274436</td>\n",
       "      <td>-0.358135</td>\n",
       "      <td>-0.624259</td>\n",
       "      <td>0.472104</td>\n",
       "      <td>-0.187494</td>\n",
       "      <td>...</td>\n",
       "      <td>-0.117857</td>\n",
       "      <td>-0.172388</td>\n",
       "      <td>-0.164284</td>\n",
       "      <td>-0.194136</td>\n",
       "      <td>-0.129046</td>\n",
       "      <td>-0.097934</td>\n",
       "      <td>-0.411282</td>\n",
       "      <td>-0.334665</td>\n",
       "      <td>-0.125557</td>\n",
       "      <td>-0.144380</td>\n",
       "      <td>-0.130401</td>\n",
       "      <td>-0.343719</td>\n",
       "      <td>-0.072717</td>\n",
       "      <td>-0.167971</td>\n",
       "      <td>-0.099278</td>\n",
       "      <td>-0.17459</td>\n",
       "      <td>4.565479</td>\n",
       "      <td>-0.087511</td>\n",
       "      <td>-0.066782</td>\n",
       "      <td>-0.410418</td>\n",
       "      <td>-0.145244</td>\n",
       "      <td>-0.161763</td>\n",
       "      <td>-0.434421</td>\n",
       "      <td>0.585418</td>\n",
       "      <td>-0.585418</td>\n",
       "    </tr>\n",
       "    <tr>\n",
       "      <th>7</th>\n",
       "      <td>-1.092786</td>\n",
       "      <td>1.579255</td>\n",
       "      <td>0.000000</td>\n",
       "      <td>0.506401</td>\n",
       "      <td>0</td>\n",
       "      <td>0.0</td>\n",
       "      <td>3.824265</td>\n",
       "      <td>1.371138</td>\n",
       "      <td>1.820457</td>\n",
       "      <td>2.272045</td>\n",
       "      <td>-0.508835</td>\n",
       "      <td>-0.713639</td>\n",
       "      <td>1.596781</td>\n",
       "      <td>-0.286222</td>\n",
       "      <td>-0.298634</td>\n",
       "      <td>-0.579229</td>\n",
       "      <td>-0.293680</td>\n",
       "      <td>-0.340144</td>\n",
       "      <td>-0.417874</td>\n",
       "      <td>-0.430576</td>\n",
       "      <td>-0.274436</td>\n",
       "      <td>-0.358135</td>\n",
       "      <td>-0.624259</td>\n",
       "      <td>0.472104</td>\n",
       "      <td>-0.187494</td>\n",
       "      <td>...</td>\n",
       "      <td>-0.117857</td>\n",
       "      <td>-0.172388</td>\n",
       "      <td>-0.164284</td>\n",
       "      <td>-0.194136</td>\n",
       "      <td>-0.129046</td>\n",
       "      <td>-0.097934</td>\n",
       "      <td>-0.411282</td>\n",
       "      <td>-0.334665</td>\n",
       "      <td>-0.125557</td>\n",
       "      <td>6.926153</td>\n",
       "      <td>-0.130401</td>\n",
       "      <td>-0.343719</td>\n",
       "      <td>-0.072717</td>\n",
       "      <td>-0.167971</td>\n",
       "      <td>-0.099278</td>\n",
       "      <td>-0.17459</td>\n",
       "      <td>-0.219035</td>\n",
       "      <td>-0.087511</td>\n",
       "      <td>-0.066782</td>\n",
       "      <td>-0.410418</td>\n",
       "      <td>-0.145244</td>\n",
       "      <td>-0.161763</td>\n",
       "      <td>-0.434421</td>\n",
       "      <td>0.585418</td>\n",
       "      <td>-0.585418</td>\n",
       "    </tr>\n",
       "    <tr>\n",
       "      <th>8</th>\n",
       "      <td>-1.092508</td>\n",
       "      <td>0.633768</td>\n",
       "      <td>-0.416411</td>\n",
       "      <td>1.689502</td>\n",
       "      <td>0</td>\n",
       "      <td>0.0</td>\n",
       "      <td>-0.261488</td>\n",
       "      <td>1.371138</td>\n",
       "      <td>-0.549313</td>\n",
       "      <td>-0.440132</td>\n",
       "      <td>-0.063331</td>\n",
       "      <td>-0.882033</td>\n",
       "      <td>-0.818705</td>\n",
       "      <td>-0.286222</td>\n",
       "      <td>-0.298634</td>\n",
       "      <td>1.726434</td>\n",
       "      <td>-0.293680</td>\n",
       "      <td>-0.340144</td>\n",
       "      <td>-0.417874</td>\n",
       "      <td>-0.430576</td>\n",
       "      <td>-0.274436</td>\n",
       "      <td>-0.358135</td>\n",
       "      <td>-0.624259</td>\n",
       "      <td>0.472104</td>\n",
       "      <td>-0.187494</td>\n",
       "      <td>...</td>\n",
       "      <td>-0.117857</td>\n",
       "      <td>-0.172388</td>\n",
       "      <td>-0.164284</td>\n",
       "      <td>-0.194136</td>\n",
       "      <td>-0.129046</td>\n",
       "      <td>10.210933</td>\n",
       "      <td>-0.411282</td>\n",
       "      <td>-0.334665</td>\n",
       "      <td>-0.125557</td>\n",
       "      <td>-0.144380</td>\n",
       "      <td>-0.130401</td>\n",
       "      <td>-0.343719</td>\n",
       "      <td>-0.072717</td>\n",
       "      <td>-0.167971</td>\n",
       "      <td>-0.099278</td>\n",
       "      <td>-0.17459</td>\n",
       "      <td>-0.219035</td>\n",
       "      <td>-0.087511</td>\n",
       "      <td>-0.066782</td>\n",
       "      <td>-0.410418</td>\n",
       "      <td>-0.145244</td>\n",
       "      <td>-0.161763</td>\n",
       "      <td>-0.434421</td>\n",
       "      <td>0.585418</td>\n",
       "      <td>-0.585418</td>\n",
       "    </tr>\n",
       "    <tr>\n",
       "      <th>9</th>\n",
       "      <td>-1.092230</td>\n",
       "      <td>-0.875546</td>\n",
       "      <td>-0.379010</td>\n",
       "      <td>1.630823</td>\n",
       "      <td>0</td>\n",
       "      <td>0.0</td>\n",
       "      <td>-0.261488</td>\n",
       "      <td>1.371138</td>\n",
       "      <td>-0.549313</td>\n",
       "      <td>-0.440132</td>\n",
       "      <td>-0.336708</td>\n",
       "      <td>-0.837546</td>\n",
       "      <td>-1.120641</td>\n",
       "      <td>-0.286222</td>\n",
       "      <td>-0.298634</td>\n",
       "      <td>-0.579229</td>\n",
       "      <td>-0.293680</td>\n",
       "      <td>-0.340144</td>\n",
       "      <td>2.393065</td>\n",
       "      <td>-0.430576</td>\n",
       "      <td>-0.274436</td>\n",
       "      <td>-0.358135</td>\n",
       "      <td>-0.624259</td>\n",
       "      <td>-2.118175</td>\n",
       "      <td>-0.187494</td>\n",
       "      <td>...</td>\n",
       "      <td>-0.117857</td>\n",
       "      <td>-0.172388</td>\n",
       "      <td>-0.164284</td>\n",
       "      <td>-0.194136</td>\n",
       "      <td>-0.129046</td>\n",
       "      <td>-0.097934</td>\n",
       "      <td>-0.411282</td>\n",
       "      <td>-0.334665</td>\n",
       "      <td>-0.125557</td>\n",
       "      <td>-0.144380</td>\n",
       "      <td>-0.130401</td>\n",
       "      <td>-0.343719</td>\n",
       "      <td>-0.072717</td>\n",
       "      <td>-0.167971</td>\n",
       "      <td>-0.099278</td>\n",
       "      <td>-0.17459</td>\n",
       "      <td>-0.219035</td>\n",
       "      <td>-0.087511</td>\n",
       "      <td>-0.066782</td>\n",
       "      <td>-0.410418</td>\n",
       "      <td>6.884963</td>\n",
       "      <td>-0.161763</td>\n",
       "      <td>-0.434421</td>\n",
       "      <td>0.585418</td>\n",
       "      <td>-0.585418</td>\n",
       "    </tr>\n",
       "  </tbody>\n",
       "</table>\n",
       "<p>10 rows × 93 columns</p>\n",
       "</div>"
      ],
      "text/plain": [
       "   Restaurant_id   Ranking  Number of Reviews     ID_TA  sample  Rating  \\\n",
       "0      -1.094732  1.491224          -0.409611  1.130877       0     0.0   \n",
       "1      -1.094454 -1.404530          -0.093404  0.097212       0     0.0   \n",
       "2      -1.094176 -0.146058          -0.328009  1.735727       0     0.0   \n",
       "3      -1.093898 -1.376113           0.263604 -1.424489       0     0.0   \n",
       "4      -1.093620 -1.673120           0.127601 -1.314842       0     0.0   \n",
       "5      -1.093342 -0.456829          -0.341610  0.550002       0     0.0   \n",
       "6      -1.093064  1.715451          -0.416411  0.626215       0     0.0   \n",
       "7      -1.092786  1.579255           0.000000  0.506401       0     0.0   \n",
       "8      -1.092508  0.633768          -0.416411  1.689502       0     0.0   \n",
       "9      -1.092230 -0.875546          -0.379010  1.630823       0     0.0   \n",
       "\n",
       "   Number_of_Reviews_isNAN  Price_Range_isNAN  Cuisine_Style_isNAN  \\\n",
       "0                -0.261488          -0.729321            -0.549313   \n",
       "1                -0.261488          -0.729321            -0.549313   \n",
       "2                -0.261488          -0.729321            -0.549313   \n",
       "3                -0.261488          -0.729321            -0.549313   \n",
       "4                -0.261488          -0.729321            -0.549313   \n",
       "5                -0.261488          -0.729321            -0.549313   \n",
       "6                -0.261488          -0.729321            -0.549313   \n",
       "7                 3.824265           1.371138             1.820457   \n",
       "8                -0.261488           1.371138            -0.549313   \n",
       "9                -0.261488           1.371138            -0.549313   \n",
       "\n",
       "   Review_isNAN  delta_reviews_date  Population  cuisine_qnt     Asian  \\\n",
       "0      2.272045           -0.508835    1.742102    -0.818705 -0.286222   \n",
       "1     -0.440132           -0.321521   -0.882033     0.087102 -0.286222   \n",
       "2     -0.440132           -0.397459   -1.064171    -1.120641 -0.286222   \n",
       "3     -0.440132           -0.437959    1.342913     0.087102 -0.286222   \n",
       "4     -0.440132           -0.432897   -1.088424     0.389038 -0.286222   \n",
       "5     -0.440132           -0.483522    1.742102    -0.516769 -0.286222   \n",
       "6      2.272045           -0.508835   -0.375359    -0.818705 -0.286222   \n",
       "7      2.272045           -0.508835   -0.713639     1.596781 -0.286222   \n",
       "8     -0.440132           -0.063331   -0.882033    -0.818705 -0.286222   \n",
       "9     -0.440132           -0.336708   -0.837546    -1.120641 -0.286222   \n",
       "\n",
       "        Bar  European    French  Gluten Free Options   Italian  Mediterranean  \\\n",
       "0  3.348581 -0.579229 -0.293680            -0.340144 -0.417874      -0.430576   \n",
       "1 -0.298634  1.726434 -0.293680             2.939932 -0.417874      -0.430576   \n",
       "2 -0.298634 -0.579229 -0.293680            -0.340144 -0.417874      -0.430576   \n",
       "3 -0.298634  1.726434 -0.293680             2.939932  2.393065       2.322469   \n",
       "4 -0.298634  1.726434 -0.293680             2.939932  2.393065       2.322469   \n",
       "5 -0.298634 -0.579229  3.405064            -0.340144 -0.417874      -0.430576   \n",
       "6 -0.298634  1.726434 -0.293680            -0.340144 -0.417874      -0.430576   \n",
       "7 -0.298634 -0.579229 -0.293680            -0.340144 -0.417874      -0.430576   \n",
       "8 -0.298634  1.726434 -0.293680            -0.340144 -0.417874      -0.430576   \n",
       "9 -0.298634 -0.579229 -0.293680            -0.340144  2.393065      -0.430576   \n",
       "\n",
       "      Pizza  Vegan Options  Vegetarian Friendly  other_cuisine   amazing  ...  \\\n",
       "0 -0.274436      -0.358135            -0.624259       0.472104 -0.187494  ...   \n",
       "1 -0.274436       2.792243             1.601899       0.472104 -0.187494  ...   \n",
       "2 -0.274436      -0.358135             1.601899      -2.118175 -0.187494  ...   \n",
       "3 -0.274436      -0.358135             1.601899      -2.118175 -0.187494  ...   \n",
       "4 -0.274436      -0.358135             1.601899       0.472104 -0.187494  ...   \n",
       "5 -0.274436      -0.358135            -0.624259       0.472104 -0.187494  ...   \n",
       "6 -0.274436      -0.358135            -0.624259       0.472104 -0.187494  ...   \n",
       "7 -0.274436      -0.358135            -0.624259       0.472104 -0.187494  ...   \n",
       "8 -0.274436      -0.358135            -0.624259       0.472104 -0.187494  ...   \n",
       "9 -0.274436      -0.358135            -0.624259      -2.118175 -0.187494  ...   \n",
       "\n",
       "   City_Zurich  Country_Austria  Country_Belgium  Country_Czechia  \\\n",
       "0    -0.117857        -0.172388        -0.164284        -0.194136   \n",
       "1    -0.117857        -0.172388        -0.164284        -0.194136   \n",
       "2    -0.117857        -0.172388        -0.164284        -0.194136   \n",
       "3    -0.117857        -0.172388        -0.164284        -0.194136   \n",
       "4    -0.117857        -0.172388        -0.164284        -0.194136   \n",
       "5    -0.117857        -0.172388        -0.164284        -0.194136   \n",
       "6    -0.117857        -0.172388        -0.164284        -0.194136   \n",
       "7    -0.117857        -0.172388        -0.164284        -0.194136   \n",
       "8    -0.117857        -0.172388        -0.164284        -0.194136   \n",
       "9    -0.117857        -0.172388        -0.164284        -0.194136   \n",
       "\n",
       "   Country_Denmark  Country_Finland  Country_France  Country_Germany  \\\n",
       "0        -0.129046        -0.097934        2.431420        -0.334665   \n",
       "1        -0.129046        10.210933       -0.411282        -0.334665   \n",
       "2        -0.129046        -0.097934       -0.411282        -0.334665   \n",
       "3        -0.129046        -0.097934       -0.411282        -0.334665   \n",
       "4        -0.129046        -0.097934       -0.411282        -0.334665   \n",
       "5        -0.129046        -0.097934        2.431420        -0.334665   \n",
       "6        -0.129046        -0.097934       -0.411282        -0.334665   \n",
       "7        -0.129046        -0.097934       -0.411282        -0.334665   \n",
       "8        -0.129046        10.210933       -0.411282        -0.334665   \n",
       "9        -0.129046        -0.097934       -0.411282        -0.334665   \n",
       "\n",
       "   Country_Greece  Country_Hungary  Country_Ireland  Country_Italy  \\\n",
       "0       -0.125557        -0.144380        -0.130401      -0.343719   \n",
       "1       -0.125557        -0.144380        -0.130401      -0.343719   \n",
       "2       -0.125557        -0.144380        -0.130401      -0.343719   \n",
       "3       -0.125557        -0.144380        -0.130401      -0.343719   \n",
       "4       -0.125557        -0.144380        -0.130401      -0.343719   \n",
       "5       -0.125557        -0.144380        -0.130401      -0.343719   \n",
       "6       -0.125557        -0.144380        -0.130401      -0.343719   \n",
       "7       -0.125557         6.926153        -0.130401      -0.343719   \n",
       "8       -0.125557        -0.144380        -0.130401      -0.343719   \n",
       "9       -0.125557        -0.144380        -0.130401      -0.343719   \n",
       "\n",
       "   Country_Luxembourg  Country_Netherlands  Country_Norway  Country_Poland  \\\n",
       "0           -0.072717            -0.167971       -0.099278        -0.17459   \n",
       "1           -0.072717            -0.167971       -0.099278        -0.17459   \n",
       "2           -0.072717            -0.167971       -0.099278        -0.17459   \n",
       "3           -0.072717            -0.167971       -0.099278        -0.17459   \n",
       "4           -0.072717            -0.167971       -0.099278        -0.17459   \n",
       "5           -0.072717            -0.167971       -0.099278        -0.17459   \n",
       "6           -0.072717            -0.167971       -0.099278        -0.17459   \n",
       "7           -0.072717            -0.167971       -0.099278        -0.17459   \n",
       "8           -0.072717            -0.167971       -0.099278        -0.17459   \n",
       "9           -0.072717            -0.167971       -0.099278        -0.17459   \n",
       "\n",
       "   Country_Portugal  Country_Slovakia  Country_Slovenia  Country_Spain  \\\n",
       "0         -0.219035         -0.087511         -0.066782      -0.410418   \n",
       "1         -0.219035         -0.087511         -0.066782      -0.410418   \n",
       "2         -0.219035         -0.087511         -0.066782      -0.410418   \n",
       "3         -0.219035         -0.087511         -0.066782      -0.410418   \n",
       "4         -0.219035         11.427115         -0.066782      -0.410418   \n",
       "5         -0.219035         -0.087511         -0.066782      -0.410418   \n",
       "6          4.565479         -0.087511         -0.066782      -0.410418   \n",
       "7         -0.219035         -0.087511         -0.066782      -0.410418   \n",
       "8         -0.219035         -0.087511         -0.066782      -0.410418   \n",
       "9         -0.219035         -0.087511         -0.066782      -0.410418   \n",
       "\n",
       "   Country_Sweden  Country_Switzerland  Country_United Kingdom  \\\n",
       "0       -0.145244            -0.161763               -0.434421   \n",
       "1       -0.145244            -0.161763               -0.434421   \n",
       "2       -0.145244            -0.161763                2.301916   \n",
       "3       -0.145244            -0.161763                2.301916   \n",
       "4       -0.145244            -0.161763               -0.434421   \n",
       "5       -0.145244            -0.161763               -0.434421   \n",
       "6       -0.145244            -0.161763               -0.434421   \n",
       "7       -0.145244            -0.161763               -0.434421   \n",
       "8       -0.145244            -0.161763               -0.434421   \n",
       "9        6.884963            -0.161763               -0.434421   \n",
       "\n",
       "   Сity_status_capital  Сity_status_non_capital  \n",
       "0             0.585418                -0.585418  \n",
       "1             0.585418                -0.585418  \n",
       "2            -1.708181                 1.708181  \n",
       "3             0.585418                -0.585418  \n",
       "4             0.585418                -0.585418  \n",
       "5             0.585418                -0.585418  \n",
       "6             0.585418                -0.585418  \n",
       "7             0.585418                -0.585418  \n",
       "8             0.585418                -0.585418  \n",
       "9             0.585418                -0.585418  \n",
       "\n",
       "[10 rows x 93 columns]"
      ]
     },
     "execution_count": 842,
     "metadata": {},
     "output_type": "execute_result"
    }
   ],
   "source": [
    "df_preproc = data\n",
    "df_preproc.head(10)"
   ]
  },
  {
   "cell_type": "code",
   "execution_count": 843,
   "metadata": {},
   "outputs": [
    {
     "name": "stdout",
     "output_type": "stream",
     "text": [
      "<class 'pandas.core.frame.DataFrame'>\n",
      "RangeIndex: 50000 entries, 0 to 49999\n",
      "Data columns (total 93 columns):\n",
      " #   Column                   Non-Null Count  Dtype  \n",
      "---  ------                   --------------  -----  \n",
      " 0   Restaurant_id            50000 non-null  float64\n",
      " 1   Ranking                  50000 non-null  float64\n",
      " 2   Number of Reviews        50000 non-null  float64\n",
      " 3   ID_TA                    50000 non-null  float64\n",
      " 4   sample                   50000 non-null  int64  \n",
      " 5   Rating                   50000 non-null  float64\n",
      " 6   Number_of_Reviews_isNAN  50000 non-null  float64\n",
      " 7   Price_Range_isNAN        50000 non-null  float64\n",
      " 8   Cuisine_Style_isNAN      50000 non-null  float64\n",
      " 9   Review_isNAN             50000 non-null  float64\n",
      " 10  delta_reviews_date       50000 non-null  float64\n",
      " 11  Population               50000 non-null  float64\n",
      " 12  cuisine_qnt              50000 non-null  float64\n",
      " 13  Asian                    50000 non-null  float64\n",
      " 14  Bar                      50000 non-null  float64\n",
      " 15  European                 50000 non-null  float64\n",
      " 16  French                   50000 non-null  float64\n",
      " 17  Gluten Free Options      50000 non-null  float64\n",
      " 18  Italian                  50000 non-null  float64\n",
      " 19  Mediterranean            50000 non-null  float64\n",
      " 20  Pizza                    50000 non-null  float64\n",
      " 21  Vegan Options            50000 non-null  float64\n",
      " 22  Vegetarian Friendly      50000 non-null  float64\n",
      " 23  other_cuisine            50000 non-null  float64\n",
      " 24  amazing                  50000 non-null  float64\n",
      " 25  average                  50000 non-null  float64\n",
      " 26  best                     50000 non-null  float64\n",
      " 27  delicious                50000 non-null  float64\n",
      " 28  excellent                50000 non-null  float64\n",
      " 29  fantastic                50000 non-null  float64\n",
      " 30  friendly                 50000 non-null  float64\n",
      " 31  good                     50000 non-null  float64\n",
      " 32  great                    50000 non-null  float64\n",
      " 33  lovely                   50000 non-null  float64\n",
      " 34  nice                     50000 non-null  float64\n",
      " 35  not                      50000 non-null  float64\n",
      " 36  tasty                    50000 non-null  float64\n",
      " 37  very                     50000 non-null  float64\n",
      " 38  City_Amsterdam           50000 non-null  float64\n",
      " 39  City_Athens              50000 non-null  float64\n",
      " 40  City_Barcelona           50000 non-null  float64\n",
      " 41  City_Berlin              50000 non-null  float64\n",
      " 42  City_Bratislava          50000 non-null  float64\n",
      " 43  City_Brussels            50000 non-null  float64\n",
      " 44  City_Budapest            50000 non-null  float64\n",
      " 45  City_Copenhagen          50000 non-null  float64\n",
      " 46  City_Dublin              50000 non-null  float64\n",
      " 47  City_Edinburgh           50000 non-null  float64\n",
      " 48  City_Geneva              50000 non-null  float64\n",
      " 49  City_Hamburg             50000 non-null  float64\n",
      " 50  City_Helsinki            50000 non-null  float64\n",
      " 51  City_Krakow              50000 non-null  float64\n",
      " 52  City_Lisbon              50000 non-null  float64\n",
      " 53  City_Ljubljana           50000 non-null  float64\n",
      " 54  City_London              50000 non-null  float64\n",
      " 55  City_Luxembourg          50000 non-null  float64\n",
      " 56  City_Lyon                50000 non-null  float64\n",
      " 57  City_Madrid              50000 non-null  float64\n",
      " 58  City_Milan               50000 non-null  float64\n",
      " 59  City_Munich              50000 non-null  float64\n",
      " 60  City_Oporto              50000 non-null  float64\n",
      " 61  City_Oslo                50000 non-null  float64\n",
      " 62  City_Paris               50000 non-null  float64\n",
      " 63  City_Prague              50000 non-null  float64\n",
      " 64  City_Rome                50000 non-null  float64\n",
      " 65  City_Stockholm           50000 non-null  float64\n",
      " 66  City_Vienna              50000 non-null  float64\n",
      " 67  City_Warsaw              50000 non-null  float64\n",
      " 68  City_Zurich              50000 non-null  float64\n",
      " 69  Country_Austria          50000 non-null  float64\n",
      " 70  Country_Belgium          50000 non-null  float64\n",
      " 71  Country_Czechia          50000 non-null  float64\n",
      " 72  Country_Denmark          50000 non-null  float64\n",
      " 73  Country_Finland          50000 non-null  float64\n",
      " 74  Country_France           50000 non-null  float64\n",
      " 75  Country_Germany          50000 non-null  float64\n",
      " 76  Country_Greece           50000 non-null  float64\n",
      " 77  Country_Hungary          50000 non-null  float64\n",
      " 78  Country_Ireland          50000 non-null  float64\n",
      " 79  Country_Italy            50000 non-null  float64\n",
      " 80  Country_Luxembourg       50000 non-null  float64\n",
      " 81  Country_Netherlands      50000 non-null  float64\n",
      " 82  Country_Norway           50000 non-null  float64\n",
      " 83  Country_Poland           50000 non-null  float64\n",
      " 84  Country_Portugal         50000 non-null  float64\n",
      " 85  Country_Slovakia         50000 non-null  float64\n",
      " 86  Country_Slovenia         50000 non-null  float64\n",
      " 87  Country_Spain            50000 non-null  float64\n",
      " 88  Country_Sweden           50000 non-null  float64\n",
      " 89  Country_Switzerland      50000 non-null  float64\n",
      " 90  Country_United Kingdom   50000 non-null  float64\n",
      " 91  Сity_status_capital      50000 non-null  float64\n",
      " 92  Сity_status_non_capital  50000 non-null  float64\n",
      "dtypes: float64(92), int64(1)\n",
      "memory usage: 35.5 MB\n"
     ]
    }
   ],
   "source": [
    "df_preproc.info()\n"
   ]
  },
  {
   "cell_type": "code",
   "execution_count": 844,
   "metadata": {},
   "outputs": [],
   "source": [
    "# Теперь выделим тестовую часть\n",
    "train_data = df_preproc.query('sample == 1').drop(['sample'], axis=1)\n",
    "test_data = df_preproc.query('sample == 0').drop(['sample'], axis=1)\n",
    "\n",
    "y = train_data.Rating.values            # наш таргет\n",
    "X = train_data.drop(['Rating'], axis=1)"
   ]
  },
  {
   "cell_type": "code",
   "execution_count": 845,
   "metadata": {},
   "outputs": [],
   "source": [
    "# Воспользуемся специальной функцие train_test_split для разбивки тестовых данных\n",
    "# выделим 20% данных на валидацию (параметр test_size)\n",
    "X_train, X_test, y_train, y_test = train_test_split(\n",
    "    X, y, test_size=0.2, random_state=RANDOM_SEED)"
   ]
  },
  {
   "cell_type": "code",
   "execution_count": 846,
   "metadata": {},
   "outputs": [
    {
     "data": {
      "text/plain": [
       "((10000, 92), (40000, 92), (40000, 91), (32000, 91), (8000, 91))"
      ]
     },
     "execution_count": 846,
     "metadata": {},
     "output_type": "execute_result"
    }
   ],
   "source": [
    "# проверяем\n",
    "test_data.shape, train_data.shape, X.shape, X_train.shape, X_test.shape"
   ]
  },
  {
   "cell_type": "markdown",
   "metadata": {},
   "source": [
    "# Model \n",
    "Сам ML"
   ]
  },
  {
   "cell_type": "code",
   "execution_count": 847,
   "metadata": {
    "execution": {
     "iopub.status.busy": "2021-10-10T13:57:19.740115Z",
     "iopub.status.idle": "2021-10-10T13:57:19.740778Z"
    }
   },
   "outputs": [],
   "source": [
    "# Импортируем необходимые библиотеки:\n",
    "from sklearn.ensemble import RandomForestRegressor # инструмент для создания и обучения модели\n",
    "from sklearn import metrics # инструменты для оценки точности модели"
   ]
  },
  {
   "cell_type": "code",
   "execution_count": 848,
   "metadata": {
    "execution": {
     "iopub.status.busy": "2021-10-10T13:57:19.742081Z",
     "iopub.status.idle": "2021-10-10T13:57:19.742757Z"
    }
   },
   "outputs": [],
   "source": [
    "# Создаём модель (НАСТРОЙКИ НЕ ТРОГАЕМ)\n",
    "model = RandomForestRegressor(n_estimators=100, verbose=1, n_jobs=-1, random_state=RANDOM_SEED)"
   ]
  },
  {
   "cell_type": "code",
   "execution_count": 849,
   "metadata": {
    "execution": {
     "iopub.status.busy": "2021-10-10T13:57:19.743714Z",
     "iopub.status.idle": "2021-10-10T13:57:19.744226Z"
    }
   },
   "outputs": [
    {
     "name": "stderr",
     "output_type": "stream",
     "text": [
      "[Parallel(n_jobs=-1)]: Using backend ThreadingBackend with 8 concurrent workers.\n",
      "[Parallel(n_jobs=-1)]: Done  34 tasks      | elapsed:    3.7s\n",
      "[Parallel(n_jobs=-1)]: Done 100 out of 100 | elapsed:    9.5s finished\n",
      "[Parallel(n_jobs=8)]: Using backend ThreadingBackend with 8 concurrent workers.\n",
      "[Parallel(n_jobs=8)]: Done  34 tasks      | elapsed:    0.0s\n",
      "[Parallel(n_jobs=8)]: Done 100 out of 100 | elapsed:    0.0s finished\n"
     ]
    }
   ],
   "source": [
    "# Обучаем модель на тестовом наборе данных\n",
    "model.fit(X_train, y_train)\n",
    "\n",
    "# Используем обученную модель для предсказания рейтинга ресторанов в тестовой выборке.\n",
    "# Предсказанные значения записываем в переменную y_pred\n",
    "y_pred = model.predict(X_test)"
   ]
  },
  {
   "cell_type": "code",
   "execution_count": 850,
   "metadata": {},
   "outputs": [],
   "source": [
    "# Как стало известо в результате обработки целевой переменной, реальные рейтинги всегда кратны 0.5\n",
    "# Напишем функцию соответствующей корректировки предсказанных рейтингов\n",
    "def fine_rating_pred(rating_pred):\n",
    "    if rating_pred <= 0.5:\n",
    "        return 0.0\n",
    "    if rating_pred <= 1.5:\n",
    "        return 1.0\n",
    "    if rating_pred <= 1.75:\n",
    "        return 1.5\n",
    "    if rating_pred <= 2.25:\n",
    "        return 2.0\n",
    "    if rating_pred <= 2.75:\n",
    "        return 2.5\n",
    "    if rating_pred <= 3.25:\n",
    "        return 3.0\n",
    "    if rating_pred <= 3.75:\n",
    "        return 3.5\n",
    "    if rating_pred <= 4.25:\n",
    "        return 4.0\n",
    "    if rating_pred <= 4.75:\n",
    "        return 4.5\n",
    "    return 5.0"
   ]
  },
  {
   "cell_type": "code",
   "execution_count": 851,
   "metadata": {},
   "outputs": [],
   "source": [
    "# Используем округление\n",
    "for i in range(len(y_pred)):\n",
    "    y_pred[i] = fine_rating_pred(y_pred[i])"
   ]
  },
  {
   "cell_type": "code",
   "execution_count": 852,
   "metadata": {
    "execution": {
     "iopub.status.busy": "2021-10-10T13:57:19.745145Z",
     "iopub.status.idle": "2021-10-10T13:57:19.745698Z"
    }
   },
   "outputs": [
    {
     "name": "stdout",
     "output_type": "stream",
     "text": [
      "MAE: 0.166875\n"
     ]
    }
   ],
   "source": [
    "# Сравниваем предсказанные значения (y_pred) с реальными (y_test), и смотрим насколько они в среднем отличаются\n",
    "# Метрика называется Mean Absolute Error (MAE) и показывает среднее отклонение предсказанных значений от фактических.\n",
    "print('MAE:', metrics.mean_absolute_error(y_test, y_pred))"
   ]
  },
  {
   "cell_type": "code",
   "execution_count": 853,
   "metadata": {
    "execution": {
     "iopub.status.busy": "2021-10-10T13:57:19.746618Z",
     "iopub.status.idle": "2021-10-10T13:57:19.747172Z"
    }
   },
   "outputs": [
    {
     "data": {
      "text/plain": [
       "<AxesSubplot:>"
      ]
     },
     "execution_count": 853,
     "metadata": {},
     "output_type": "execute_result"
    },
    {
     "data": {
      "image/png": "[encoded data removed]",
      "text/plain": [
       "<Figure size 720x720 with 1 Axes>"
      ]
     },
     "metadata": {
      "needs_background": "light"
     },
     "output_type": "display_data"
    }
   ],
   "source": [
    "# в RandomForestRegressor есть возможность вывести самые важные признаки для модели\n",
    "plt.rcParams['figure.figsize'] = (10,10)\n",
    "feat_importances = pd.Series(model.feature_importances_, index=X.columns)\n",
    "feat_importances.nlargest(15).plot(kind='barh')"
   ]
  },
  {
   "cell_type": "markdown",
   "metadata": {},
   "source": [
    "# Submission\n",
    "Если все устраевает - готовим Submission на кагл"
   ]
  },
  {
   "cell_type": "code",
   "execution_count": 854,
   "metadata": {
    "execution": {
     "iopub.status.busy": "2021-10-10T13:57:19.748050Z",
     "iopub.status.idle": "2021-10-10T13:57:19.748532Z"
    }
   },
   "outputs": [
    {
     "data": {
      "text/html": [
       "<div>\n",
       "<style scoped>\n",
       "    .dataframe tbody tr th:only-of-type {\n",
       "        vertical-align: middle;\n",
       "    }\n",
       "\n",
       "    .dataframe tbody tr th {\n",
       "        vertical-align: top;\n",
       "    }\n",
       "\n",
       "    .dataframe thead th {\n",
       "        text-align: right;\n",
       "    }\n",
       "</style>\n",
       "<table border=\"1\" class=\"dataframe\">\n",
       "  <thead>\n",
       "    <tr style=\"text-align: right;\">\n",
       "      <th></th>\n",
       "      <th>Restaurant_id</th>\n",
       "      <th>Ranking</th>\n",
       "      <th>Number of Reviews</th>\n",
       "      <th>ID_TA</th>\n",
       "      <th>Rating</th>\n",
       "      <th>Number_of_Reviews_isNAN</th>\n",
       "      <th>Price_Range_isNAN</th>\n",
       "      <th>Cuisine_Style_isNAN</th>\n",
       "      <th>Review_isNAN</th>\n",
       "      <th>delta_reviews_date</th>\n",
       "      <th>Population</th>\n",
       "      <th>cuisine_qnt</th>\n",
       "      <th>Asian</th>\n",
       "      <th>Bar</th>\n",
       "      <th>European</th>\n",
       "      <th>French</th>\n",
       "      <th>Gluten Free Options</th>\n",
       "      <th>Italian</th>\n",
       "      <th>Mediterranean</th>\n",
       "      <th>Pizza</th>\n",
       "      <th>Vegan Options</th>\n",
       "      <th>Vegetarian Friendly</th>\n",
       "      <th>other_cuisine</th>\n",
       "      <th>amazing</th>\n",
       "      <th>average</th>\n",
       "      <th>...</th>\n",
       "      <th>City_Zurich</th>\n",
       "      <th>Country_Austria</th>\n",
       "      <th>Country_Belgium</th>\n",
       "      <th>Country_Czechia</th>\n",
       "      <th>Country_Denmark</th>\n",
       "      <th>Country_Finland</th>\n",
       "      <th>Country_France</th>\n",
       "      <th>Country_Germany</th>\n",
       "      <th>Country_Greece</th>\n",
       "      <th>Country_Hungary</th>\n",
       "      <th>Country_Ireland</th>\n",
       "      <th>Country_Italy</th>\n",
       "      <th>Country_Luxembourg</th>\n",
       "      <th>Country_Netherlands</th>\n",
       "      <th>Country_Norway</th>\n",
       "      <th>Country_Poland</th>\n",
       "      <th>Country_Portugal</th>\n",
       "      <th>Country_Slovakia</th>\n",
       "      <th>Country_Slovenia</th>\n",
       "      <th>Country_Spain</th>\n",
       "      <th>Country_Sweden</th>\n",
       "      <th>Country_Switzerland</th>\n",
       "      <th>Country_United Kingdom</th>\n",
       "      <th>Сity_status_capital</th>\n",
       "      <th>Сity_status_non_capital</th>\n",
       "    </tr>\n",
       "  </thead>\n",
       "  <tbody>\n",
       "    <tr>\n",
       "      <th>3921</th>\n",
       "      <td>-0.004796</td>\n",
       "      <td>0.138851</td>\n",
       "      <td>-0.338209</td>\n",
       "      <td>0.553274</td>\n",
       "      <td>0.0</td>\n",
       "      <td>-0.261488</td>\n",
       "      <td>-0.729321</td>\n",
       "      <td>-0.549313</td>\n",
       "      <td>-0.440132</td>\n",
       "      <td>-0.397459</td>\n",
       "      <td>-0.907113</td>\n",
       "      <td>-0.214833</td>\n",
       "      <td>-0.286222</td>\n",
       "      <td>3.348581</td>\n",
       "      <td>1.726434</td>\n",
       "      <td>-0.29368</td>\n",
       "      <td>-0.340144</td>\n",
       "      <td>-0.417874</td>\n",
       "      <td>-0.430576</td>\n",
       "      <td>-0.274436</td>\n",
       "      <td>-0.358135</td>\n",
       "      <td>-0.624259</td>\n",
       "      <td>0.472104</td>\n",
       "      <td>-0.187494</td>\n",
       "      <td>-0.135388</td>\n",
       "      <td>...</td>\n",
       "      <td>-0.117857</td>\n",
       "      <td>-0.172388</td>\n",
       "      <td>-0.164284</td>\n",
       "      <td>-0.194136</td>\n",
       "      <td>-0.129046</td>\n",
       "      <td>-0.097934</td>\n",
       "      <td>-0.411282</td>\n",
       "      <td>-0.334665</td>\n",
       "      <td>-0.125557</td>\n",
       "      <td>-0.14438</td>\n",
       "      <td>-0.130401</td>\n",
       "      <td>-0.343719</td>\n",
       "      <td>-0.072717</td>\n",
       "      <td>5.953415</td>\n",
       "      <td>-0.099278</td>\n",
       "      <td>-0.17459</td>\n",
       "      <td>-0.219035</td>\n",
       "      <td>-0.087511</td>\n",
       "      <td>-0.066782</td>\n",
       "      <td>-0.410418</td>\n",
       "      <td>-0.145244</td>\n",
       "      <td>-0.161763</td>\n",
       "      <td>-0.434421</td>\n",
       "      <td>0.585418</td>\n",
       "      <td>-0.585418</td>\n",
       "    </tr>\n",
       "    <tr>\n",
       "      <th>2480</th>\n",
       "      <td>-0.405356</td>\n",
       "      <td>-1.185630</td>\n",
       "      <td>-0.266808</td>\n",
       "      <td>0.898352</td>\n",
       "      <td>0.0</td>\n",
       "      <td>-0.261488</td>\n",
       "      <td>-0.729321</td>\n",
       "      <td>-0.549313</td>\n",
       "      <td>-0.440132</td>\n",
       "      <td>0.037920</td>\n",
       "      <td>-0.837546</td>\n",
       "      <td>-0.214833</td>\n",
       "      <td>-0.286222</td>\n",
       "      <td>-0.298634</td>\n",
       "      <td>1.726434</td>\n",
       "      <td>-0.29368</td>\n",
       "      <td>-0.340144</td>\n",
       "      <td>2.393065</td>\n",
       "      <td>-0.430576</td>\n",
       "      <td>3.643838</td>\n",
       "      <td>-0.358135</td>\n",
       "      <td>1.601899</td>\n",
       "      <td>-2.118175</td>\n",
       "      <td>-0.187494</td>\n",
       "      <td>-0.135388</td>\n",
       "      <td>...</td>\n",
       "      <td>-0.117857</td>\n",
       "      <td>-0.172388</td>\n",
       "      <td>-0.164284</td>\n",
       "      <td>-0.194136</td>\n",
       "      <td>-0.129046</td>\n",
       "      <td>-0.097934</td>\n",
       "      <td>-0.411282</td>\n",
       "      <td>-0.334665</td>\n",
       "      <td>-0.125557</td>\n",
       "      <td>-0.14438</td>\n",
       "      <td>-0.130401</td>\n",
       "      <td>-0.343719</td>\n",
       "      <td>-0.072717</td>\n",
       "      <td>-0.167971</td>\n",
       "      <td>-0.099278</td>\n",
       "      <td>-0.17459</td>\n",
       "      <td>-0.219035</td>\n",
       "      <td>-0.087511</td>\n",
       "      <td>-0.066782</td>\n",
       "      <td>-0.410418</td>\n",
       "      <td>6.884963</td>\n",
       "      <td>-0.161763</td>\n",
       "      <td>-0.434421</td>\n",
       "      <td>0.585418</td>\n",
       "      <td>-0.585418</td>\n",
       "    </tr>\n",
       "    <tr>\n",
       "      <th>9995</th>\n",
       "      <td>1.683619</td>\n",
       "      <td>-0.804982</td>\n",
       "      <td>-0.328009</td>\n",
       "      <td>1.427856</td>\n",
       "      <td>0.0</td>\n",
       "      <td>-0.261488</td>\n",
       "      <td>-0.729321</td>\n",
       "      <td>-0.549313</td>\n",
       "      <td>-0.440132</td>\n",
       "      <td>0.108796</td>\n",
       "      <td>1.342913</td>\n",
       "      <td>-0.214833</td>\n",
       "      <td>-0.286222</td>\n",
       "      <td>-0.298634</td>\n",
       "      <td>-0.579229</td>\n",
       "      <td>-0.29368</td>\n",
       "      <td>-0.340144</td>\n",
       "      <td>-0.417874</td>\n",
       "      <td>-0.430576</td>\n",
       "      <td>-0.274436</td>\n",
       "      <td>-0.358135</td>\n",
       "      <td>1.601899</td>\n",
       "      <td>0.472104</td>\n",
       "      <td>-0.187494</td>\n",
       "      <td>-0.135388</td>\n",
       "      <td>...</td>\n",
       "      <td>-0.117857</td>\n",
       "      <td>-0.172388</td>\n",
       "      <td>-0.164284</td>\n",
       "      <td>-0.194136</td>\n",
       "      <td>-0.129046</td>\n",
       "      <td>-0.097934</td>\n",
       "      <td>-0.411282</td>\n",
       "      <td>-0.334665</td>\n",
       "      <td>-0.125557</td>\n",
       "      <td>-0.14438</td>\n",
       "      <td>-0.130401</td>\n",
       "      <td>-0.343719</td>\n",
       "      <td>-0.072717</td>\n",
       "      <td>-0.167971</td>\n",
       "      <td>-0.099278</td>\n",
       "      <td>-0.17459</td>\n",
       "      <td>-0.219035</td>\n",
       "      <td>-0.087511</td>\n",
       "      <td>-0.066782</td>\n",
       "      <td>-0.410418</td>\n",
       "      <td>-0.145244</td>\n",
       "      <td>-0.161763</td>\n",
       "      <td>2.301916</td>\n",
       "      <td>0.585418</td>\n",
       "      <td>-0.585418</td>\n",
       "    </tr>\n",
       "    <tr>\n",
       "      <th>3852</th>\n",
       "      <td>-0.023976</td>\n",
       "      <td>1.156882</td>\n",
       "      <td>0.178602</td>\n",
       "      <td>-1.050109</td>\n",
       "      <td>0.0</td>\n",
       "      <td>-0.261488</td>\n",
       "      <td>-0.729321</td>\n",
       "      <td>-0.549313</td>\n",
       "      <td>-0.440132</td>\n",
       "      <td>-0.240520</td>\n",
       "      <td>-0.198008</td>\n",
       "      <td>0.087102</td>\n",
       "      <td>-0.286222</td>\n",
       "      <td>-0.298634</td>\n",
       "      <td>1.726434</td>\n",
       "      <td>-0.29368</td>\n",
       "      <td>-0.340144</td>\n",
       "      <td>-0.417874</td>\n",
       "      <td>-0.430576</td>\n",
       "      <td>-0.274436</td>\n",
       "      <td>-0.358135</td>\n",
       "      <td>1.601899</td>\n",
       "      <td>0.472104</td>\n",
       "      <td>-0.187494</td>\n",
       "      <td>-0.135388</td>\n",
       "      <td>...</td>\n",
       "      <td>-0.117857</td>\n",
       "      <td>-0.172388</td>\n",
       "      <td>-0.164284</td>\n",
       "      <td>-0.194136</td>\n",
       "      <td>-0.129046</td>\n",
       "      <td>-0.097934</td>\n",
       "      <td>-0.411282</td>\n",
       "      <td>2.988062</td>\n",
       "      <td>-0.125557</td>\n",
       "      <td>-0.14438</td>\n",
       "      <td>-0.130401</td>\n",
       "      <td>-0.343719</td>\n",
       "      <td>-0.072717</td>\n",
       "      <td>-0.167971</td>\n",
       "      <td>-0.099278</td>\n",
       "      <td>-0.17459</td>\n",
       "      <td>-0.219035</td>\n",
       "      <td>-0.087511</td>\n",
       "      <td>-0.066782</td>\n",
       "      <td>-0.410418</td>\n",
       "      <td>-0.145244</td>\n",
       "      <td>-0.161763</td>\n",
       "      <td>-0.434421</td>\n",
       "      <td>0.585418</td>\n",
       "      <td>-0.585418</td>\n",
       "    </tr>\n",
       "    <tr>\n",
       "      <th>7623</th>\n",
       "      <td>1.024264</td>\n",
       "      <td>0.450942</td>\n",
       "      <td>-0.331409</td>\n",
       "      <td>-1.333485</td>\n",
       "      <td>0.0</td>\n",
       "      <td>-0.261488</td>\n",
       "      <td>1.371138</td>\n",
       "      <td>1.820457</td>\n",
       "      <td>-0.440132</td>\n",
       "      <td>-0.508835</td>\n",
       "      <td>-0.690351</td>\n",
       "      <td>1.596781</td>\n",
       "      <td>-0.286222</td>\n",
       "      <td>-0.298634</td>\n",
       "      <td>-0.579229</td>\n",
       "      <td>-0.29368</td>\n",
       "      <td>-0.340144</td>\n",
       "      <td>-0.417874</td>\n",
       "      <td>-0.430576</td>\n",
       "      <td>-0.274436</td>\n",
       "      <td>-0.358135</td>\n",
       "      <td>-0.624259</td>\n",
       "      <td>0.472104</td>\n",
       "      <td>-0.187494</td>\n",
       "      <td>-0.135388</td>\n",
       "      <td>...</td>\n",
       "      <td>-0.117857</td>\n",
       "      <td>-0.172388</td>\n",
       "      <td>-0.164284</td>\n",
       "      <td>-0.194136</td>\n",
       "      <td>-0.129046</td>\n",
       "      <td>-0.097934</td>\n",
       "      <td>-0.411282</td>\n",
       "      <td>2.988062</td>\n",
       "      <td>-0.125557</td>\n",
       "      <td>-0.14438</td>\n",
       "      <td>-0.130401</td>\n",
       "      <td>-0.343719</td>\n",
       "      <td>-0.072717</td>\n",
       "      <td>-0.167971</td>\n",
       "      <td>-0.099278</td>\n",
       "      <td>-0.17459</td>\n",
       "      <td>-0.219035</td>\n",
       "      <td>-0.087511</td>\n",
       "      <td>-0.066782</td>\n",
       "      <td>-0.410418</td>\n",
       "      <td>-0.145244</td>\n",
       "      <td>-0.161763</td>\n",
       "      <td>-0.434421</td>\n",
       "      <td>-1.708181</td>\n",
       "      <td>1.708181</td>\n",
       "    </tr>\n",
       "    <tr>\n",
       "      <th>7044</th>\n",
       "      <td>0.863317</td>\n",
       "      <td>1.420056</td>\n",
       "      <td>0.290804</td>\n",
       "      <td>-1.332217</td>\n",
       "      <td>0.0</td>\n",
       "      <td>-0.261488</td>\n",
       "      <td>-0.729321</td>\n",
       "      <td>-0.549313</td>\n",
       "      <td>-0.440132</td>\n",
       "      <td>0.048045</td>\n",
       "      <td>1.342913</td>\n",
       "      <td>-0.516769</td>\n",
       "      <td>3.493787</td>\n",
       "      <td>-0.298634</td>\n",
       "      <td>-0.579229</td>\n",
       "      <td>-0.29368</td>\n",
       "      <td>-0.340144</td>\n",
       "      <td>-0.417874</td>\n",
       "      <td>-0.430576</td>\n",
       "      <td>-0.274436</td>\n",
       "      <td>-0.358135</td>\n",
       "      <td>1.601899</td>\n",
       "      <td>0.472104</td>\n",
       "      <td>-0.187494</td>\n",
       "      <td>-0.135388</td>\n",
       "      <td>...</td>\n",
       "      <td>-0.117857</td>\n",
       "      <td>-0.172388</td>\n",
       "      <td>-0.164284</td>\n",
       "      <td>-0.194136</td>\n",
       "      <td>-0.129046</td>\n",
       "      <td>-0.097934</td>\n",
       "      <td>-0.411282</td>\n",
       "      <td>-0.334665</td>\n",
       "      <td>-0.125557</td>\n",
       "      <td>-0.14438</td>\n",
       "      <td>-0.130401</td>\n",
       "      <td>-0.343719</td>\n",
       "      <td>-0.072717</td>\n",
       "      <td>-0.167971</td>\n",
       "      <td>-0.099278</td>\n",
       "      <td>-0.17459</td>\n",
       "      <td>-0.219035</td>\n",
       "      <td>-0.087511</td>\n",
       "      <td>-0.066782</td>\n",
       "      <td>-0.410418</td>\n",
       "      <td>-0.145244</td>\n",
       "      <td>-0.161763</td>\n",
       "      <td>2.301916</td>\n",
       "      <td>0.585418</td>\n",
       "      <td>-0.585418</td>\n",
       "    </tr>\n",
       "    <tr>\n",
       "      <th>2389</th>\n",
       "      <td>-0.430652</td>\n",
       "      <td>-0.359905</td>\n",
       "      <td>-0.192006</td>\n",
       "      <td>0.185253</td>\n",
       "      <td>0.0</td>\n",
       "      <td>-0.261488</td>\n",
       "      <td>-0.729321</td>\n",
       "      <td>-0.549313</td>\n",
       "      <td>-0.440132</td>\n",
       "      <td>-0.422771</td>\n",
       "      <td>-1.064171</td>\n",
       "      <td>-0.818705</td>\n",
       "      <td>3.493787</td>\n",
       "      <td>-0.298634</td>\n",
       "      <td>-0.579229</td>\n",
       "      <td>-0.29368</td>\n",
       "      <td>-0.340144</td>\n",
       "      <td>-0.417874</td>\n",
       "      <td>-0.430576</td>\n",
       "      <td>-0.274436</td>\n",
       "      <td>-0.358135</td>\n",
       "      <td>-0.624259</td>\n",
       "      <td>0.472104</td>\n",
       "      <td>-0.187494</td>\n",
       "      <td>-0.135388</td>\n",
       "      <td>...</td>\n",
       "      <td>-0.117857</td>\n",
       "      <td>-0.172388</td>\n",
       "      <td>-0.164284</td>\n",
       "      <td>-0.194136</td>\n",
       "      <td>-0.129046</td>\n",
       "      <td>-0.097934</td>\n",
       "      <td>-0.411282</td>\n",
       "      <td>-0.334665</td>\n",
       "      <td>-0.125557</td>\n",
       "      <td>-0.14438</td>\n",
       "      <td>-0.130401</td>\n",
       "      <td>-0.343719</td>\n",
       "      <td>-0.072717</td>\n",
       "      <td>-0.167971</td>\n",
       "      <td>-0.099278</td>\n",
       "      <td>-0.17459</td>\n",
       "      <td>-0.219035</td>\n",
       "      <td>-0.087511</td>\n",
       "      <td>-0.066782</td>\n",
       "      <td>-0.410418</td>\n",
       "      <td>-0.145244</td>\n",
       "      <td>-0.161763</td>\n",
       "      <td>2.301916</td>\n",
       "      <td>-1.708181</td>\n",
       "      <td>1.708181</td>\n",
       "    </tr>\n",
       "    <tr>\n",
       "      <th>8799</th>\n",
       "      <td>1.351162</td>\n",
       "      <td>-0.566847</td>\n",
       "      <td>-0.382410</td>\n",
       "      <td>-0.081120</td>\n",
       "      <td>0.0</td>\n",
       "      <td>-0.261488</td>\n",
       "      <td>1.371138</td>\n",
       "      <td>1.820457</td>\n",
       "      <td>-0.440132</td>\n",
       "      <td>1.009929</td>\n",
       "      <td>-0.837546</td>\n",
       "      <td>1.596781</td>\n",
       "      <td>-0.286222</td>\n",
       "      <td>-0.298634</td>\n",
       "      <td>-0.579229</td>\n",
       "      <td>-0.29368</td>\n",
       "      <td>-0.340144</td>\n",
       "      <td>-0.417874</td>\n",
       "      <td>-0.430576</td>\n",
       "      <td>-0.274436</td>\n",
       "      <td>-0.358135</td>\n",
       "      <td>-0.624259</td>\n",
       "      <td>0.472104</td>\n",
       "      <td>-0.187494</td>\n",
       "      <td>-0.135388</td>\n",
       "      <td>...</td>\n",
       "      <td>-0.117857</td>\n",
       "      <td>-0.172388</td>\n",
       "      <td>-0.164284</td>\n",
       "      <td>-0.194136</td>\n",
       "      <td>-0.129046</td>\n",
       "      <td>-0.097934</td>\n",
       "      <td>-0.411282</td>\n",
       "      <td>-0.334665</td>\n",
       "      <td>-0.125557</td>\n",
       "      <td>-0.14438</td>\n",
       "      <td>-0.130401</td>\n",
       "      <td>-0.343719</td>\n",
       "      <td>-0.072717</td>\n",
       "      <td>-0.167971</td>\n",
       "      <td>-0.099278</td>\n",
       "      <td>-0.17459</td>\n",
       "      <td>-0.219035</td>\n",
       "      <td>-0.087511</td>\n",
       "      <td>-0.066782</td>\n",
       "      <td>-0.410418</td>\n",
       "      <td>6.884963</td>\n",
       "      <td>-0.161763</td>\n",
       "      <td>-0.434421</td>\n",
       "      <td>0.585418</td>\n",
       "      <td>-0.585418</td>\n",
       "    </tr>\n",
       "    <tr>\n",
       "      <th>5691</th>\n",
       "      <td>0.487218</td>\n",
       "      <td>-1.595086</td>\n",
       "      <td>1.208824</td>\n",
       "      <td>-0.632492</td>\n",
       "      <td>0.0</td>\n",
       "      <td>-0.261488</td>\n",
       "      <td>-0.729321</td>\n",
       "      <td>-0.549313</td>\n",
       "      <td>-0.440132</td>\n",
       "      <td>-0.407584</td>\n",
       "      <td>-1.035512</td>\n",
       "      <td>0.087102</td>\n",
       "      <td>-0.286222</td>\n",
       "      <td>-0.298634</td>\n",
       "      <td>-0.579229</td>\n",
       "      <td>-0.29368</td>\n",
       "      <td>2.939932</td>\n",
       "      <td>-0.417874</td>\n",
       "      <td>2.322469</td>\n",
       "      <td>-0.274436</td>\n",
       "      <td>2.792243</td>\n",
       "      <td>1.601899</td>\n",
       "      <td>0.472104</td>\n",
       "      <td>-0.187494</td>\n",
       "      <td>-0.135388</td>\n",
       "      <td>...</td>\n",
       "      <td>-0.117857</td>\n",
       "      <td>-0.172388</td>\n",
       "      <td>-0.164284</td>\n",
       "      <td>-0.194136</td>\n",
       "      <td>-0.129046</td>\n",
       "      <td>-0.097934</td>\n",
       "      <td>-0.411282</td>\n",
       "      <td>-0.334665</td>\n",
       "      <td>-0.125557</td>\n",
       "      <td>-0.14438</td>\n",
       "      <td>-0.130401</td>\n",
       "      <td>-0.343719</td>\n",
       "      <td>-0.072717</td>\n",
       "      <td>-0.167971</td>\n",
       "      <td>-0.099278</td>\n",
       "      <td>-0.17459</td>\n",
       "      <td>-0.219035</td>\n",
       "      <td>-0.087511</td>\n",
       "      <td>-0.066782</td>\n",
       "      <td>2.436542</td>\n",
       "      <td>-0.145244</td>\n",
       "      <td>-0.161763</td>\n",
       "      <td>-0.434421</td>\n",
       "      <td>-1.708181</td>\n",
       "      <td>1.708181</td>\n",
       "    </tr>\n",
       "    <tr>\n",
       "      <th>2424</th>\n",
       "      <td>-0.420923</td>\n",
       "      <td>0.895917</td>\n",
       "      <td>-0.409611</td>\n",
       "      <td>-0.430493</td>\n",
       "      <td>0.0</td>\n",
       "      <td>-0.261488</td>\n",
       "      <td>1.371138</td>\n",
       "      <td>-0.549313</td>\n",
       "      <td>-0.440132</td>\n",
       "      <td>2.346442</td>\n",
       "      <td>1.742102</td>\n",
       "      <td>-1.120641</td>\n",
       "      <td>-0.286222</td>\n",
       "      <td>-0.298634</td>\n",
       "      <td>-0.579229</td>\n",
       "      <td>-0.29368</td>\n",
       "      <td>-0.340144</td>\n",
       "      <td>-0.417874</td>\n",
       "      <td>-0.430576</td>\n",
       "      <td>-0.274436</td>\n",
       "      <td>-0.358135</td>\n",
       "      <td>-0.624259</td>\n",
       "      <td>0.472104</td>\n",
       "      <td>-0.187494</td>\n",
       "      <td>-0.135388</td>\n",
       "      <td>...</td>\n",
       "      <td>-0.117857</td>\n",
       "      <td>-0.172388</td>\n",
       "      <td>-0.164284</td>\n",
       "      <td>-0.194136</td>\n",
       "      <td>-0.129046</td>\n",
       "      <td>-0.097934</td>\n",
       "      <td>2.431420</td>\n",
       "      <td>-0.334665</td>\n",
       "      <td>-0.125557</td>\n",
       "      <td>-0.14438</td>\n",
       "      <td>-0.130401</td>\n",
       "      <td>-0.343719</td>\n",
       "      <td>-0.072717</td>\n",
       "      <td>-0.167971</td>\n",
       "      <td>-0.099278</td>\n",
       "      <td>-0.17459</td>\n",
       "      <td>-0.219035</td>\n",
       "      <td>-0.087511</td>\n",
       "      <td>-0.066782</td>\n",
       "      <td>-0.410418</td>\n",
       "      <td>-0.145244</td>\n",
       "      <td>-0.161763</td>\n",
       "      <td>-0.434421</td>\n",
       "      <td>0.585418</td>\n",
       "      <td>-0.585418</td>\n",
       "    </tr>\n",
       "  </tbody>\n",
       "</table>\n",
       "<p>10 rows × 92 columns</p>\n",
       "</div>"
      ],
      "text/plain": [
       "      Restaurant_id   Ranking  Number of Reviews     ID_TA  Rating  \\\n",
       "3921      -0.004796  0.138851          -0.338209  0.553274     0.0   \n",
       "2480      -0.405356 -1.185630          -0.266808  0.898352     0.0   \n",
       "9995       1.683619 -0.804982          -0.328009  1.427856     0.0   \n",
       "3852      -0.023976  1.156882           0.178602 -1.050109     0.0   \n",
       "7623       1.024264  0.450942          -0.331409 -1.333485     0.0   \n",
       "7044       0.863317  1.420056           0.290804 -1.332217     0.0   \n",
       "2389      -0.430652 -0.359905          -0.192006  0.185253     0.0   \n",
       "8799       1.351162 -0.566847          -0.382410 -0.081120     0.0   \n",
       "5691       0.487218 -1.595086           1.208824 -0.632492     0.0   \n",
       "2424      -0.420923  0.895917          -0.409611 -0.430493     0.0   \n",
       "\n",
       "      Number_of_Reviews_isNAN  Price_Range_isNAN  Cuisine_Style_isNAN  \\\n",
       "3921                -0.261488          -0.729321            -0.549313   \n",
       "2480                -0.261488          -0.729321            -0.549313   \n",
       "9995                -0.261488          -0.729321            -0.549313   \n",
       "3852                -0.261488          -0.729321            -0.549313   \n",
       "7623                -0.261488           1.371138             1.820457   \n",
       "7044                -0.261488          -0.729321            -0.549313   \n",
       "2389                -0.261488          -0.729321            -0.549313   \n",
       "8799                -0.261488           1.371138             1.820457   \n",
       "5691                -0.261488          -0.729321            -0.549313   \n",
       "2424                -0.261488           1.371138            -0.549313   \n",
       "\n",
       "      Review_isNAN  delta_reviews_date  Population  cuisine_qnt     Asian  \\\n",
       "3921     -0.440132           -0.397459   -0.907113    -0.214833 -0.286222   \n",
       "2480     -0.440132            0.037920   -0.837546    -0.214833 -0.286222   \n",
       "9995     -0.440132            0.108796    1.342913    -0.214833 -0.286222   \n",
       "3852     -0.440132           -0.240520   -0.198008     0.087102 -0.286222   \n",
       "7623     -0.440132           -0.508835   -0.690351     1.596781 -0.286222   \n",
       "7044     -0.440132            0.048045    1.342913    -0.516769  3.493787   \n",
       "2389     -0.440132           -0.422771   -1.064171    -0.818705  3.493787   \n",
       "8799     -0.440132            1.009929   -0.837546     1.596781 -0.286222   \n",
       "5691     -0.440132           -0.407584   -1.035512     0.087102 -0.286222   \n",
       "2424     -0.440132            2.346442    1.742102    -1.120641 -0.286222   \n",
       "\n",
       "           Bar  European   French  Gluten Free Options   Italian  \\\n",
       "3921  3.348581  1.726434 -0.29368            -0.340144 -0.417874   \n",
       "2480 -0.298634  1.726434 -0.29368            -0.340144  2.393065   \n",
       "9995 -0.298634 -0.579229 -0.29368            -0.340144 -0.417874   \n",
       "3852 -0.298634  1.726434 -0.29368            -0.340144 -0.417874   \n",
       "7623 -0.298634 -0.579229 -0.29368            -0.340144 -0.417874   \n",
       "7044 -0.298634 -0.579229 -0.29368            -0.340144 -0.417874   \n",
       "2389 -0.298634 -0.579229 -0.29368            -0.340144 -0.417874   \n",
       "8799 -0.298634 -0.579229 -0.29368            -0.340144 -0.417874   \n",
       "5691 -0.298634 -0.579229 -0.29368             2.939932 -0.417874   \n",
       "2424 -0.298634 -0.579229 -0.29368            -0.340144 -0.417874   \n",
       "\n",
       "      Mediterranean     Pizza  Vegan Options  Vegetarian Friendly  \\\n",
       "3921      -0.430576 -0.274436      -0.358135            -0.624259   \n",
       "2480      -0.430576  3.643838      -0.358135             1.601899   \n",
       "9995      -0.430576 -0.274436      -0.358135             1.601899   \n",
       "3852      -0.430576 -0.274436      -0.358135             1.601899   \n",
       "7623      -0.430576 -0.274436      -0.358135            -0.624259   \n",
       "7044      -0.430576 -0.274436      -0.358135             1.601899   \n",
       "2389      -0.430576 -0.274436      -0.358135            -0.624259   \n",
       "8799      -0.430576 -0.274436      -0.358135            -0.624259   \n",
       "5691       2.322469 -0.274436       2.792243             1.601899   \n",
       "2424      -0.430576 -0.274436      -0.358135            -0.624259   \n",
       "\n",
       "      other_cuisine   amazing   average  ...  City_Zurich  Country_Austria  \\\n",
       "3921       0.472104 -0.187494 -0.135388  ...    -0.117857        -0.172388   \n",
       "2480      -2.118175 -0.187494 -0.135388  ...    -0.117857        -0.172388   \n",
       "9995       0.472104 -0.187494 -0.135388  ...    -0.117857        -0.172388   \n",
       "3852       0.472104 -0.187494 -0.135388  ...    -0.117857        -0.172388   \n",
       "7623       0.472104 -0.187494 -0.135388  ...    -0.117857        -0.172388   \n",
       "7044       0.472104 -0.187494 -0.135388  ...    -0.117857        -0.172388   \n",
       "2389       0.472104 -0.187494 -0.135388  ...    -0.117857        -0.172388   \n",
       "8799       0.472104 -0.187494 -0.135388  ...    -0.117857        -0.172388   \n",
       "5691       0.472104 -0.187494 -0.135388  ...    -0.117857        -0.172388   \n",
       "2424       0.472104 -0.187494 -0.135388  ...    -0.117857        -0.172388   \n",
       "\n",
       "      Country_Belgium  Country_Czechia  Country_Denmark  Country_Finland  \\\n",
       "3921        -0.164284        -0.194136        -0.129046        -0.097934   \n",
       "2480        -0.164284        -0.194136        -0.129046        -0.097934   \n",
       "9995        -0.164284        -0.194136        -0.129046        -0.097934   \n",
       "3852        -0.164284        -0.194136        -0.129046        -0.097934   \n",
       "7623        -0.164284        -0.194136        -0.129046        -0.097934   \n",
       "7044        -0.164284        -0.194136        -0.129046        -0.097934   \n",
       "2389        -0.164284        -0.194136        -0.129046        -0.097934   \n",
       "8799        -0.164284        -0.194136        -0.129046        -0.097934   \n",
       "5691        -0.164284        -0.194136        -0.129046        -0.097934   \n",
       "2424        -0.164284        -0.194136        -0.129046        -0.097934   \n",
       "\n",
       "      Country_France  Country_Germany  Country_Greece  Country_Hungary  \\\n",
       "3921       -0.411282        -0.334665       -0.125557         -0.14438   \n",
       "2480       -0.411282        -0.334665       -0.125557         -0.14438   \n",
       "9995       -0.411282        -0.334665       -0.125557         -0.14438   \n",
       "3852       -0.411282         2.988062       -0.125557         -0.14438   \n",
       "7623       -0.411282         2.988062       -0.125557         -0.14438   \n",
       "7044       -0.411282        -0.334665       -0.125557         -0.14438   \n",
       "2389       -0.411282        -0.334665       -0.125557         -0.14438   \n",
       "8799       -0.411282        -0.334665       -0.125557         -0.14438   \n",
       "5691       -0.411282        -0.334665       -0.125557         -0.14438   \n",
       "2424        2.431420        -0.334665       -0.125557         -0.14438   \n",
       "\n",
       "      Country_Ireland  Country_Italy  Country_Luxembourg  Country_Netherlands  \\\n",
       "3921        -0.130401      -0.343719           -0.072717             5.953415   \n",
       "2480        -0.130401      -0.343719           -0.072717            -0.167971   \n",
       "9995        -0.130401      -0.343719           -0.072717            -0.167971   \n",
       "3852        -0.130401      -0.343719           -0.072717            -0.167971   \n",
       "7623        -0.130401      -0.343719           -0.072717            -0.167971   \n",
       "7044        -0.130401      -0.343719           -0.072717            -0.167971   \n",
       "2389        -0.130401      -0.343719           -0.072717            -0.167971   \n",
       "8799        -0.130401      -0.343719           -0.072717            -0.167971   \n",
       "5691        -0.130401      -0.343719           -0.072717            -0.167971   \n",
       "2424        -0.130401      -0.343719           -0.072717            -0.167971   \n",
       "\n",
       "      Country_Norway  Country_Poland  Country_Portugal  Country_Slovakia  \\\n",
       "3921       -0.099278        -0.17459         -0.219035         -0.087511   \n",
       "2480       -0.099278        -0.17459         -0.219035         -0.087511   \n",
       "9995       -0.099278        -0.17459         -0.219035         -0.087511   \n",
       "3852       -0.099278        -0.17459         -0.219035         -0.087511   \n",
       "7623       -0.099278        -0.17459         -0.219035         -0.087511   \n",
       "7044       -0.099278        -0.17459         -0.219035         -0.087511   \n",
       "2389       -0.099278        -0.17459         -0.219035         -0.087511   \n",
       "8799       -0.099278        -0.17459         -0.219035         -0.087511   \n",
       "5691       -0.099278        -0.17459         -0.219035         -0.087511   \n",
       "2424       -0.099278        -0.17459         -0.219035         -0.087511   \n",
       "\n",
       "      Country_Slovenia  Country_Spain  Country_Sweden  Country_Switzerland  \\\n",
       "3921         -0.066782      -0.410418       -0.145244            -0.161763   \n",
       "2480         -0.066782      -0.410418        6.884963            -0.161763   \n",
       "9995         -0.066782      -0.410418       -0.145244            -0.161763   \n",
       "3852         -0.066782      -0.410418       -0.145244            -0.161763   \n",
       "7623         -0.066782      -0.410418       -0.145244            -0.161763   \n",
       "7044         -0.066782      -0.410418       -0.145244            -0.161763   \n",
       "2389         -0.066782      -0.410418       -0.145244            -0.161763   \n",
       "8799         -0.066782      -0.410418        6.884963            -0.161763   \n",
       "5691         -0.066782       2.436542       -0.145244            -0.161763   \n",
       "2424         -0.066782      -0.410418       -0.145244            -0.161763   \n",
       "\n",
       "      Country_United Kingdom  Сity_status_capital  Сity_status_non_capital  \n",
       "3921               -0.434421             0.585418                -0.585418  \n",
       "2480               -0.434421             0.585418                -0.585418  \n",
       "9995                2.301916             0.585418                -0.585418  \n",
       "3852               -0.434421             0.585418                -0.585418  \n",
       "7623               -0.434421            -1.708181                 1.708181  \n",
       "7044                2.301916             0.585418                -0.585418  \n",
       "2389                2.301916            -1.708181                 1.708181  \n",
       "8799               -0.434421             0.585418                -0.585418  \n",
       "5691               -0.434421            -1.708181                 1.708181  \n",
       "2424               -0.434421             0.585418                -0.585418  \n",
       "\n",
       "[10 rows x 92 columns]"
      ]
     },
     "execution_count": 854,
     "metadata": {},
     "output_type": "execute_result"
    }
   ],
   "source": [
    "test_data.sample(10)"
   ]
  },
  {
   "cell_type": "code",
   "execution_count": 855,
   "metadata": {
    "execution": {
     "iopub.status.busy": "2021-10-10T13:57:19.749400Z",
     "iopub.status.idle": "2021-10-10T13:57:19.749880Z"
    }
   },
   "outputs": [],
   "source": [
    "test_data = test_data.drop(['Rating'], axis=1)"
   ]
  },
  {
   "cell_type": "code",
   "execution_count": 856,
   "metadata": {
    "execution": {
     "iopub.status.busy": "2021-10-10T13:57:19.750754Z",
     "iopub.status.idle": "2021-10-10T13:57:19.751234Z"
    }
   },
   "outputs": [
    {
     "data": {
      "text/html": [
       "<div>\n",
       "<style scoped>\n",
       "    .dataframe tbody tr th:only-of-type {\n",
       "        vertical-align: middle;\n",
       "    }\n",
       "\n",
       "    .dataframe tbody tr th {\n",
       "        vertical-align: top;\n",
       "    }\n",
       "\n",
       "    .dataframe thead th {\n",
       "        text-align: right;\n",
       "    }\n",
       "</style>\n",
       "<table border=\"1\" class=\"dataframe\">\n",
       "  <thead>\n",
       "    <tr style=\"text-align: right;\">\n",
       "      <th></th>\n",
       "      <th>Restaurant_id</th>\n",
       "      <th>Rating</th>\n",
       "    </tr>\n",
       "  </thead>\n",
       "  <tbody>\n",
       "    <tr>\n",
       "      <th>0</th>\n",
       "      <td>id_0</td>\n",
       "      <td>2.0</td>\n",
       "    </tr>\n",
       "    <tr>\n",
       "      <th>1</th>\n",
       "      <td>id_1</td>\n",
       "      <td>2.5</td>\n",
       "    </tr>\n",
       "    <tr>\n",
       "      <th>2</th>\n",
       "      <td>id_2</td>\n",
       "      <td>4.0</td>\n",
       "    </tr>\n",
       "    <tr>\n",
       "      <th>3</th>\n",
       "      <td>id_3</td>\n",
       "      <td>1.0</td>\n",
       "    </tr>\n",
       "    <tr>\n",
       "      <th>4</th>\n",
       "      <td>id_4</td>\n",
       "      <td>4.0</td>\n",
       "    </tr>\n",
       "    <tr>\n",
       "      <th>...</th>\n",
       "      <td>...</td>\n",
       "      <td>...</td>\n",
       "    </tr>\n",
       "    <tr>\n",
       "      <th>9995</th>\n",
       "      <td>id_9995</td>\n",
       "      <td>3.0</td>\n",
       "    </tr>\n",
       "    <tr>\n",
       "      <th>9996</th>\n",
       "      <td>id_9996</td>\n",
       "      <td>1.5</td>\n",
       "    </tr>\n",
       "    <tr>\n",
       "      <th>9997</th>\n",
       "      <td>id_9997</td>\n",
       "      <td>4.5</td>\n",
       "    </tr>\n",
       "    <tr>\n",
       "      <th>9998</th>\n",
       "      <td>id_9998</td>\n",
       "      <td>1.0</td>\n",
       "    </tr>\n",
       "    <tr>\n",
       "      <th>9999</th>\n",
       "      <td>id_9999</td>\n",
       "      <td>2.5</td>\n",
       "    </tr>\n",
       "  </tbody>\n",
       "</table>\n",
       "<p>10000 rows × 2 columns</p>\n",
       "</div>"
      ],
      "text/plain": [
       "     Restaurant_id  Rating\n",
       "0             id_0     2.0\n",
       "1             id_1     2.5\n",
       "2             id_2     4.0\n",
       "3             id_3     1.0\n",
       "4             id_4     4.0\n",
       "...            ...     ...\n",
       "9995       id_9995     3.0\n",
       "9996       id_9996     1.5\n",
       "9997       id_9997     4.5\n",
       "9998       id_9998     1.0\n",
       "9999       id_9999     2.5\n",
       "\n",
       "[10000 rows x 2 columns]"
      ]
     },
     "execution_count": 856,
     "metadata": {},
     "output_type": "execute_result"
    }
   ],
   "source": [
    "sample_submission"
   ]
  },
  {
   "cell_type": "code",
   "execution_count": 857,
   "metadata": {
    "execution": {
     "iopub.status.busy": "2021-10-10T13:57:19.752120Z",
     "iopub.status.idle": "2021-10-10T13:57:19.752607Z"
    }
   },
   "outputs": [
    {
     "name": "stderr",
     "output_type": "stream",
     "text": [
      "[Parallel(n_jobs=8)]: Using backend ThreadingBackend with 8 concurrent workers.\n",
      "[Parallel(n_jobs=8)]: Done  34 tasks      | elapsed:    0.0s\n",
      "[Parallel(n_jobs=8)]: Done 100 out of 100 | elapsed:    0.1s finished\n"
     ]
    }
   ],
   "source": [
    "predict_submission = model.predict(test_data)"
   ]
  },
  {
   "cell_type": "code",
   "execution_count": 858,
   "metadata": {
    "execution": {
     "iopub.status.busy": "2021-10-10T13:57:19.753495Z",
     "iopub.status.idle": "2021-10-10T13:57:19.754052Z"
    }
   },
   "outputs": [
    {
     "data": {
      "text/plain": [
       "array([3.24 , 4.2  , 4.17 , ..., 3.07 , 4.43 , 4.205])"
      ]
     },
     "execution_count": 858,
     "metadata": {},
     "output_type": "execute_result"
    }
   ],
   "source": [
    "predict_submission"
   ]
  },
  {
   "cell_type": "code",
   "execution_count": 859,
   "metadata": {
    "execution": {
     "iopub.status.busy": "2021-10-10T13:57:19.754935Z",
     "iopub.status.idle": "2021-10-10T13:57:19.755487Z"
    }
   },
   "outputs": [
    {
     "data": {
      "text/html": [
       "<div>\n",
       "<style scoped>\n",
       "    .dataframe tbody tr th:only-of-type {\n",
       "        vertical-align: middle;\n",
       "    }\n",
       "\n",
       "    .dataframe tbody tr th {\n",
       "        vertical-align: top;\n",
       "    }\n",
       "\n",
       "    .dataframe thead th {\n",
       "        text-align: right;\n",
       "    }\n",
       "</style>\n",
       "<table border=\"1\" class=\"dataframe\">\n",
       "  <thead>\n",
       "    <tr style=\"text-align: right;\">\n",
       "      <th></th>\n",
       "      <th>Restaurant_id</th>\n",
       "      <th>Rating</th>\n",
       "    </tr>\n",
       "  </thead>\n",
       "  <tbody>\n",
       "    <tr>\n",
       "      <th>0</th>\n",
       "      <td>id_0</td>\n",
       "      <td>3.240</td>\n",
       "    </tr>\n",
       "    <tr>\n",
       "      <th>1</th>\n",
       "      <td>id_1</td>\n",
       "      <td>4.200</td>\n",
       "    </tr>\n",
       "    <tr>\n",
       "      <th>2</th>\n",
       "      <td>id_2</td>\n",
       "      <td>4.170</td>\n",
       "    </tr>\n",
       "    <tr>\n",
       "      <th>3</th>\n",
       "      <td>id_3</td>\n",
       "      <td>4.245</td>\n",
       "    </tr>\n",
       "    <tr>\n",
       "      <th>4</th>\n",
       "      <td>id_4</td>\n",
       "      <td>4.395</td>\n",
       "    </tr>\n",
       "    <tr>\n",
       "      <th>5</th>\n",
       "      <td>id_5</td>\n",
       "      <td>4.385</td>\n",
       "    </tr>\n",
       "    <tr>\n",
       "      <th>6</th>\n",
       "      <td>id_6</td>\n",
       "      <td>3.660</td>\n",
       "    </tr>\n",
       "    <tr>\n",
       "      <th>7</th>\n",
       "      <td>id_7</td>\n",
       "      <td>3.185</td>\n",
       "    </tr>\n",
       "    <tr>\n",
       "      <th>8</th>\n",
       "      <td>id_8</td>\n",
       "      <td>4.270</td>\n",
       "    </tr>\n",
       "    <tr>\n",
       "      <th>9</th>\n",
       "      <td>id_9</td>\n",
       "      <td>4.550</td>\n",
       "    </tr>\n",
       "  </tbody>\n",
       "</table>\n",
       "</div>"
      ],
      "text/plain": [
       "  Restaurant_id  Rating\n",
       "0          id_0   3.240\n",
       "1          id_1   4.200\n",
       "2          id_2   4.170\n",
       "3          id_3   4.245\n",
       "4          id_4   4.395\n",
       "5          id_5   4.385\n",
       "6          id_6   3.660\n",
       "7          id_7   3.185\n",
       "8          id_8   4.270\n",
       "9          id_9   4.550"
      ]
     },
     "execution_count": 859,
     "metadata": {},
     "output_type": "execute_result"
    }
   ],
   "source": [
    "sample_submission['Rating'] = predict_submission\n",
    "sample_submission.to_csv('submission.csv', index=False)\n",
    "sample_submission.head(10)"
   ]
  },
  {
   "cell_type": "markdown",
   "metadata": {},
   "source": [
    "# What's next?\n",
    "Или что делать, чтоб улучшить результат:\n",
    "* Обработать оставшиеся признаки в понятный для машины формат\n",
    "* Посмотреть, что еще можно извлечь из признаков\n",
    "* Сгенерировать новые признаки\n",
    "* Подгрузить дополнительные данные, например: по населению или благосостоянию городов\n",
    "* Подобрать состав признаков\n",
    "\n",
    "В общем, процесс творческий и весьма увлекательный! Удачи в соревновании!\n"
   ]
  },
  {
   "cell_type": "code",
   "execution_count": null,
   "metadata": {},
   "outputs": [],
   "source": []
  }
 ],
 "metadata": {
  "kernelspec": {
   "display_name": "Python 3",
   "language": "python",
   "name": "python3"
  },
  "language_info": {
   "codemirror_mode": {
    "name": "ipython",
    "version": 3
   },
   "file_extension": ".py",
   "mimetype": "text/x-python",
   "name": "python",
   "nbconvert_exporter": "python",
   "pygments_lexer": "ipython3",
   "version": "3.8.8"
  },
  "varInspector": {
   "cols": {
    "lenName": 16,
    "lenType": 16,
    "lenVar": 40
   },
   "kernels_config": {
    "python": {
     "delete_cmd_postfix": "",
     "delete_cmd_prefix": "del ",
     "library": "var_list.py",
     "varRefreshCmd": "print(var_dic_list())"
    },
    "r": {
     "delete_cmd_postfix": ") ",
     "delete_cmd_prefix": "rm(",
     "library": "var_list.r",
     "varRefreshCmd": "cat(var_dic_list()) "
    }
   },
   "types_to_exclude": [
    "module",
    "function",
    "builtin_function_or_method",
    "instance",
    "_Feature"
   ],
   "window_display": false
  }
 },
 "nbformat": 4,
 "nbformat_minor": 4
}
